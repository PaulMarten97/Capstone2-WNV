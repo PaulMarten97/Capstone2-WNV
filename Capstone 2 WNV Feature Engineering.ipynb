{
 "cells": [
  {
   "cell_type": "markdown",
   "metadata": {},
   "source": [
    "# West Nile Virus Preprocessing and Modeling"
   ]
  },
  {
   "cell_type": "markdown",
   "metadata": {},
   "source": [
    "## Feature Engineering"
   ]
  },
  {
   "cell_type": "code",
   "execution_count": 1,
   "metadata": {},
   "outputs": [],
   "source": [
    "import pandas as pd\n",
    "import numpy as np\n",
    "from scipy import stats\n",
    "import seaborn as sns\n",
    "import matplotlib.pyplot as plt\n",
    "from sklearn.model_selection import train_test_split, cross_val_score, GridSearchCV\n",
    "from sklearn.pipeline import Pipeline\n",
    "from sklearn.metrics import classification_report\n",
    "from sklearn.linear_model import LogisticRegression\n",
    "import pandas.core.algorithms as algos\n",
    "from pandas import Series\n",
    "import scipy.stats.stats as stats\n",
    "import re\n",
    "import traceback\n",
    "import string\n",
    "import statsmodels.api as sm\n",
    "from statsmodels.stats.outliers_influence import variance_inflation_factor"
   ]
  },
  {
   "cell_type": "code",
   "execution_count": 2,
   "metadata": {},
   "outputs": [],
   "source": [
    "df = pd.read_csv('/Users/ultimateflexer/Desktop/Datasets/predict-west-nile-virus/clean_df.csv')"
   ]
  },
  {
   "cell_type": "code",
   "execution_count": 3,
   "metadata": {},
   "outputs": [
    {
     "data": {
      "text/html": [
       "<div>\n",
       "<style scoped>\n",
       "    .dataframe tbody tr th:only-of-type {\n",
       "        vertical-align: middle;\n",
       "    }\n",
       "\n",
       "    .dataframe tbody tr th {\n",
       "        vertical-align: top;\n",
       "    }\n",
       "\n",
       "    .dataframe thead th {\n",
       "        text-align: right;\n",
       "    }\n",
       "</style>\n",
       "<table border=\"1\" class=\"dataframe\">\n",
       "  <thead>\n",
       "    <tr style=\"text-align: right;\">\n",
       "      <th></th>\n",
       "      <th>Date</th>\n",
       "      <th>Address</th>\n",
       "      <th>Street</th>\n",
       "      <th>Trap</th>\n",
       "      <th>Latitude</th>\n",
       "      <th>Longitude</th>\n",
       "      <th>NumMosquitos</th>\n",
       "      <th>WnvPresent</th>\n",
       "      <th>Species_CULEX ERRATICUS</th>\n",
       "      <th>Species_CULEX PIPIENS</th>\n",
       "      <th>...</th>\n",
       "      <th>ResultSpeed_lag_14</th>\n",
       "      <th>ResultSpeed_lag_21</th>\n",
       "      <th>ResultDir_lag_1</th>\n",
       "      <th>ResultDir_lag_7</th>\n",
       "      <th>ResultDir_lag_14</th>\n",
       "      <th>ResultDir_lag_21</th>\n",
       "      <th>AvgSpeed_lag_1</th>\n",
       "      <th>AvgSpeed_lag_7</th>\n",
       "      <th>AvgSpeed_lag_14</th>\n",
       "      <th>AvgSpeed_lag_21</th>\n",
       "    </tr>\n",
       "  </thead>\n",
       "  <tbody>\n",
       "    <tr>\n",
       "      <th>0</th>\n",
       "      <td>2007-05-29</td>\n",
       "      <td>4100 North Oak Park Avenue, Chicago, IL 60634,...</td>\n",
       "      <td>N OAK PARK AVE</td>\n",
       "      <td>T002</td>\n",
       "      <td>41.954690</td>\n",
       "      <td>-87.800991</td>\n",
       "      <td>1</td>\n",
       "      <td>0</td>\n",
       "      <td>0</td>\n",
       "      <td>0</td>\n",
       "      <td>...</td>\n",
       "      <td>NaN</td>\n",
       "      <td>NaN</td>\n",
       "      <td>NaN</td>\n",
       "      <td>NaN</td>\n",
       "      <td>NaN</td>\n",
       "      <td>NaN</td>\n",
       "      <td>NaN</td>\n",
       "      <td>NaN</td>\n",
       "      <td>NaN</td>\n",
       "      <td>NaN</td>\n",
       "    </tr>\n",
       "    <tr>\n",
       "      <th>1</th>\n",
       "      <td>2007-05-29</td>\n",
       "      <td>4100 North Oak Park Avenue, Chicago, IL 60634,...</td>\n",
       "      <td>N OAK PARK AVE</td>\n",
       "      <td>T002</td>\n",
       "      <td>41.954690</td>\n",
       "      <td>-87.800991</td>\n",
       "      <td>1</td>\n",
       "      <td>0</td>\n",
       "      <td>0</td>\n",
       "      <td>0</td>\n",
       "      <td>...</td>\n",
       "      <td>NaN</td>\n",
       "      <td>NaN</td>\n",
       "      <td>17.5</td>\n",
       "      <td>NaN</td>\n",
       "      <td>NaN</td>\n",
       "      <td>NaN</td>\n",
       "      <td>9.0</td>\n",
       "      <td>NaN</td>\n",
       "      <td>NaN</td>\n",
       "      <td>NaN</td>\n",
       "    </tr>\n",
       "    <tr>\n",
       "      <th>2</th>\n",
       "      <td>2007-05-29</td>\n",
       "      <td>6200 North Mandell Avenue, Chicago, IL 60646, USA</td>\n",
       "      <td>N MANDELL AVE</td>\n",
       "      <td>T007</td>\n",
       "      <td>41.994991</td>\n",
       "      <td>-87.769279</td>\n",
       "      <td>1</td>\n",
       "      <td>0</td>\n",
       "      <td>0</td>\n",
       "      <td>0</td>\n",
       "      <td>...</td>\n",
       "      <td>NaN</td>\n",
       "      <td>NaN</td>\n",
       "      <td>17.5</td>\n",
       "      <td>NaN</td>\n",
       "      <td>NaN</td>\n",
       "      <td>NaN</td>\n",
       "      <td>9.0</td>\n",
       "      <td>NaN</td>\n",
       "      <td>NaN</td>\n",
       "      <td>NaN</td>\n",
       "    </tr>\n",
       "    <tr>\n",
       "      <th>3</th>\n",
       "      <td>2007-05-29</td>\n",
       "      <td>7900 West Foster Avenue, Chicago, IL 60656, USA</td>\n",
       "      <td>W FOSTER AVE</td>\n",
       "      <td>T015</td>\n",
       "      <td>41.974089</td>\n",
       "      <td>-87.824812</td>\n",
       "      <td>1</td>\n",
       "      <td>0</td>\n",
       "      <td>0</td>\n",
       "      <td>0</td>\n",
       "      <td>...</td>\n",
       "      <td>NaN</td>\n",
       "      <td>NaN</td>\n",
       "      <td>17.5</td>\n",
       "      <td>NaN</td>\n",
       "      <td>NaN</td>\n",
       "      <td>NaN</td>\n",
       "      <td>9.0</td>\n",
       "      <td>NaN</td>\n",
       "      <td>NaN</td>\n",
       "      <td>NaN</td>\n",
       "    </tr>\n",
       "    <tr>\n",
       "      <th>4</th>\n",
       "      <td>2007-05-29</td>\n",
       "      <td>7900 West Foster Avenue, Chicago, IL 60656, USA</td>\n",
       "      <td>W FOSTER AVE</td>\n",
       "      <td>T015</td>\n",
       "      <td>41.974089</td>\n",
       "      <td>-87.824812</td>\n",
       "      <td>4</td>\n",
       "      <td>0</td>\n",
       "      <td>0</td>\n",
       "      <td>0</td>\n",
       "      <td>...</td>\n",
       "      <td>NaN</td>\n",
       "      <td>NaN</td>\n",
       "      <td>17.5</td>\n",
       "      <td>NaN</td>\n",
       "      <td>NaN</td>\n",
       "      <td>NaN</td>\n",
       "      <td>9.0</td>\n",
       "      <td>NaN</td>\n",
       "      <td>NaN</td>\n",
       "      <td>NaN</td>\n",
       "    </tr>\n",
       "    <tr>\n",
       "      <th>5</th>\n",
       "      <td>2007-05-29</td>\n",
       "      <td>1500 West Webster Avenue, Chicago, IL 60614, USA</td>\n",
       "      <td>W WEBSTER AVE</td>\n",
       "      <td>T045</td>\n",
       "      <td>41.921600</td>\n",
       "      <td>-87.666455</td>\n",
       "      <td>2</td>\n",
       "      <td>0</td>\n",
       "      <td>0</td>\n",
       "      <td>0</td>\n",
       "      <td>...</td>\n",
       "      <td>NaN</td>\n",
       "      <td>NaN</td>\n",
       "      <td>17.5</td>\n",
       "      <td>NaN</td>\n",
       "      <td>NaN</td>\n",
       "      <td>NaN</td>\n",
       "      <td>9.0</td>\n",
       "      <td>NaN</td>\n",
       "      <td>NaN</td>\n",
       "      <td>NaN</td>\n",
       "    </tr>\n",
       "    <tr>\n",
       "      <th>6</th>\n",
       "      <td>2007-05-29</td>\n",
       "      <td>2500 West Grand Avenue, Chicago, IL 60654, USA</td>\n",
       "      <td>W GRAND AVE</td>\n",
       "      <td>T046</td>\n",
       "      <td>41.891118</td>\n",
       "      <td>-87.654491</td>\n",
       "      <td>1</td>\n",
       "      <td>0</td>\n",
       "      <td>0</td>\n",
       "      <td>0</td>\n",
       "      <td>...</td>\n",
       "      <td>NaN</td>\n",
       "      <td>NaN</td>\n",
       "      <td>17.5</td>\n",
       "      <td>NaN</td>\n",
       "      <td>NaN</td>\n",
       "      <td>NaN</td>\n",
       "      <td>9.0</td>\n",
       "      <td>NaN</td>\n",
       "      <td>NaN</td>\n",
       "      <td>NaN</td>\n",
       "    </tr>\n",
       "    <tr>\n",
       "      <th>7</th>\n",
       "      <td>2007-05-29</td>\n",
       "      <td>1100 Roosevelt Road, Chicago, IL 60608, USA</td>\n",
       "      <td>W ROOSEVELT</td>\n",
       "      <td>T048</td>\n",
       "      <td>41.867108</td>\n",
       "      <td>-87.654224</td>\n",
       "      <td>1</td>\n",
       "      <td>0</td>\n",
       "      <td>0</td>\n",
       "      <td>0</td>\n",
       "      <td>...</td>\n",
       "      <td>NaN</td>\n",
       "      <td>NaN</td>\n",
       "      <td>17.5</td>\n",
       "      <td>17.5</td>\n",
       "      <td>NaN</td>\n",
       "      <td>NaN</td>\n",
       "      <td>9.0</td>\n",
       "      <td>9.0</td>\n",
       "      <td>NaN</td>\n",
       "      <td>NaN</td>\n",
       "    </tr>\n",
       "    <tr>\n",
       "      <th>8</th>\n",
       "      <td>2007-05-29</td>\n",
       "      <td>1100 Roosevelt Road, Chicago, IL 60608, USA</td>\n",
       "      <td>W ROOSEVELT</td>\n",
       "      <td>T048</td>\n",
       "      <td>41.867108</td>\n",
       "      <td>-87.654224</td>\n",
       "      <td>2</td>\n",
       "      <td>0</td>\n",
       "      <td>0</td>\n",
       "      <td>0</td>\n",
       "      <td>...</td>\n",
       "      <td>NaN</td>\n",
       "      <td>NaN</td>\n",
       "      <td>17.5</td>\n",
       "      <td>17.5</td>\n",
       "      <td>NaN</td>\n",
       "      <td>NaN</td>\n",
       "      <td>9.0</td>\n",
       "      <td>9.0</td>\n",
       "      <td>NaN</td>\n",
       "      <td>NaN</td>\n",
       "    </tr>\n",
       "    <tr>\n",
       "      <th>9</th>\n",
       "      <td>2007-05-29</td>\n",
       "      <td>1100 West Chicago Avenue, Chicago, IL 60642, USA</td>\n",
       "      <td>W CHICAGO</td>\n",
       "      <td>T049</td>\n",
       "      <td>41.896282</td>\n",
       "      <td>-87.655232</td>\n",
       "      <td>1</td>\n",
       "      <td>0</td>\n",
       "      <td>0</td>\n",
       "      <td>0</td>\n",
       "      <td>...</td>\n",
       "      <td>NaN</td>\n",
       "      <td>NaN</td>\n",
       "      <td>17.5</td>\n",
       "      <td>17.5</td>\n",
       "      <td>NaN</td>\n",
       "      <td>NaN</td>\n",
       "      <td>9.0</td>\n",
       "      <td>9.0</td>\n",
       "      <td>NaN</td>\n",
       "      <td>NaN</td>\n",
       "    </tr>\n",
       "  </tbody>\n",
       "</table>\n",
       "<p>10 rows × 91 columns</p>\n",
       "</div>"
      ],
      "text/plain": [
       "         Date                                            Address  \\\n",
       "0  2007-05-29  4100 North Oak Park Avenue, Chicago, IL 60634,...   \n",
       "1  2007-05-29  4100 North Oak Park Avenue, Chicago, IL 60634,...   \n",
       "2  2007-05-29  6200 North Mandell Avenue, Chicago, IL 60646, USA   \n",
       "3  2007-05-29    7900 West Foster Avenue, Chicago, IL 60656, USA   \n",
       "4  2007-05-29    7900 West Foster Avenue, Chicago, IL 60656, USA   \n",
       "5  2007-05-29   1500 West Webster Avenue, Chicago, IL 60614, USA   \n",
       "6  2007-05-29     2500 West Grand Avenue, Chicago, IL 60654, USA   \n",
       "7  2007-05-29        1100 Roosevelt Road, Chicago, IL 60608, USA   \n",
       "8  2007-05-29        1100 Roosevelt Road, Chicago, IL 60608, USA   \n",
       "9  2007-05-29   1100 West Chicago Avenue, Chicago, IL 60642, USA   \n",
       "\n",
       "            Street  Trap   Latitude  Longitude  NumMosquitos  WnvPresent  \\\n",
       "0   N OAK PARK AVE  T002  41.954690 -87.800991             1           0   \n",
       "1   N OAK PARK AVE  T002  41.954690 -87.800991             1           0   \n",
       "2    N MANDELL AVE  T007  41.994991 -87.769279             1           0   \n",
       "3     W FOSTER AVE  T015  41.974089 -87.824812             1           0   \n",
       "4     W FOSTER AVE  T015  41.974089 -87.824812             4           0   \n",
       "5    W WEBSTER AVE  T045  41.921600 -87.666455             2           0   \n",
       "6      W GRAND AVE  T046  41.891118 -87.654491             1           0   \n",
       "7      W ROOSEVELT  T048  41.867108 -87.654224             1           0   \n",
       "8      W ROOSEVELT  T048  41.867108 -87.654224             2           0   \n",
       "9        W CHICAGO  T049  41.896282 -87.655232             1           0   \n",
       "\n",
       "   Species_CULEX ERRATICUS  Species_CULEX PIPIENS  ...  ResultSpeed_lag_14  \\\n",
       "0                        0                      0  ...                 NaN   \n",
       "1                        0                      0  ...                 NaN   \n",
       "2                        0                      0  ...                 NaN   \n",
       "3                        0                      0  ...                 NaN   \n",
       "4                        0                      0  ...                 NaN   \n",
       "5                        0                      0  ...                 NaN   \n",
       "6                        0                      0  ...                 NaN   \n",
       "7                        0                      0  ...                 NaN   \n",
       "8                        0                      0  ...                 NaN   \n",
       "9                        0                      0  ...                 NaN   \n",
       "\n",
       "   ResultSpeed_lag_21  ResultDir_lag_1  ResultDir_lag_7  ResultDir_lag_14  \\\n",
       "0                 NaN              NaN              NaN               NaN   \n",
       "1                 NaN             17.5              NaN               NaN   \n",
       "2                 NaN             17.5              NaN               NaN   \n",
       "3                 NaN             17.5              NaN               NaN   \n",
       "4                 NaN             17.5              NaN               NaN   \n",
       "5                 NaN             17.5              NaN               NaN   \n",
       "6                 NaN             17.5              NaN               NaN   \n",
       "7                 NaN             17.5             17.5               NaN   \n",
       "8                 NaN             17.5             17.5               NaN   \n",
       "9                 NaN             17.5             17.5               NaN   \n",
       "\n",
       "   ResultDir_lag_21  AvgSpeed_lag_1  AvgSpeed_lag_7  AvgSpeed_lag_14  \\\n",
       "0               NaN             NaN             NaN              NaN   \n",
       "1               NaN             9.0             NaN              NaN   \n",
       "2               NaN             9.0             NaN              NaN   \n",
       "3               NaN             9.0             NaN              NaN   \n",
       "4               NaN             9.0             NaN              NaN   \n",
       "5               NaN             9.0             NaN              NaN   \n",
       "6               NaN             9.0             NaN              NaN   \n",
       "7               NaN             9.0             9.0              NaN   \n",
       "8               NaN             9.0             9.0              NaN   \n",
       "9               NaN             9.0             9.0              NaN   \n",
       "\n",
       "   AvgSpeed_lag_21  \n",
       "0              NaN  \n",
       "1              NaN  \n",
       "2              NaN  \n",
       "3              NaN  \n",
       "4              NaN  \n",
       "5              NaN  \n",
       "6              NaN  \n",
       "7              NaN  \n",
       "8              NaN  \n",
       "9              NaN  \n",
       "\n",
       "[10 rows x 91 columns]"
      ]
     },
     "execution_count": 3,
     "metadata": {},
     "output_type": "execute_result"
    }
   ],
   "source": [
    "df.head(10)"
   ]
  },
  {
   "cell_type": "code",
   "execution_count": 4,
   "metadata": {},
   "outputs": [
    {
     "name": "stdout",
     "output_type": "stream",
     "text": [
      "<class 'pandas.core.frame.DataFrame'>\n",
      "Index: 10392 entries, 2007-05-29 to 2013-09-26\n",
      "Data columns (total 87 columns):\n",
      " #   Column                          Non-Null Count  Dtype  \n",
      "---  ------                          --------------  -----  \n",
      " 0   Latitude                        10392 non-null  float64\n",
      " 1   Longitude                       10392 non-null  float64\n",
      " 2   NumMosquitos                    10392 non-null  int64  \n",
      " 3   WnvPresent                      10392 non-null  int64  \n",
      " 4   Species_CULEX ERRATICUS         10392 non-null  int64  \n",
      " 5   Species_CULEX PIPIENS           10392 non-null  int64  \n",
      " 6   Species_CULEX PIPIENS/RESTUANS  10392 non-null  int64  \n",
      " 7   Species_CULEX RESTUANS          10392 non-null  int64  \n",
      " 8   Species_CULEX SALINARIUS        10392 non-null  int64  \n",
      " 9   Species_CULEX TARSALIS          10392 non-null  int64  \n",
      " 10  Species_CULEX TERRITANS         10392 non-null  int64  \n",
      " 11  Tmax                            10392 non-null  float64\n",
      " 12  Tmin                            10392 non-null  float64\n",
      " 13  Tavg                            10392 non-null  float64\n",
      " 14  DewPoint                        10392 non-null  float64\n",
      " 15  WetBulb                         10392 non-null  float64\n",
      " 16  Heat                            10392 non-null  float64\n",
      " 17  Cool                            10392 non-null  float64\n",
      " 18  Depth                           10392 non-null  float64\n",
      " 19  SnowFall                        10392 non-null  float64\n",
      " 20  PrecipTotal                     10392 non-null  float64\n",
      " 21  StnPressure                     10392 non-null  float64\n",
      " 22  SeaLevel                        10392 non-null  float64\n",
      " 23  ResultSpeed                     10392 non-null  float64\n",
      " 24  ResultDir                       10392 non-null  float64\n",
      " 25  AvgSpeed                        10392 non-null  float64\n",
      " 26  Region                          10392 non-null  int64  \n",
      " 27  Tmax_lag_1                      10392 non-null  float64\n",
      " 28  Tmax_lag_7                      10392 non-null  float64\n",
      " 29  Tmax_lag_14                     10392 non-null  float64\n",
      " 30  Tmax_lag_21                     10392 non-null  float64\n",
      " 31  Tmin_lag_1                      10392 non-null  float64\n",
      " 32  Tmin_lag_7                      10392 non-null  float64\n",
      " 33  Tmin_lag_14                     10392 non-null  float64\n",
      " 34  Tmin_lag_21                     10392 non-null  float64\n",
      " 35  Tavg_lag_1                      10392 non-null  float64\n",
      " 36  Tavg_lag_7                      10392 non-null  float64\n",
      " 37  Tavg_lag_14                     10392 non-null  float64\n",
      " 38  Tavg_lag_21                     10392 non-null  float64\n",
      " 39  DewPoint_lag_1                  10392 non-null  float64\n",
      " 40  DewPoint_lag_7                  10392 non-null  float64\n",
      " 41  DewPoint_lag_14                 10392 non-null  float64\n",
      " 42  DewPoint_lag_21                 10392 non-null  float64\n",
      " 43  WetBulb_lag_1                   10392 non-null  float64\n",
      " 44  WetBulb_lag_7                   10392 non-null  float64\n",
      " 45  WetBulb_lag_14                  10392 non-null  float64\n",
      " 46  WetBulb_lag_21                  10392 non-null  float64\n",
      " 47  Heat_lag_1                      10392 non-null  float64\n",
      " 48  Heat_lag_7                      10392 non-null  float64\n",
      " 49  Heat_lag_14                     10392 non-null  float64\n",
      " 50  Heat_lag_21                     10392 non-null  float64\n",
      " 51  Cool_lag_1                      10392 non-null  float64\n",
      " 52  Cool_lag_7                      10392 non-null  float64\n",
      " 53  Cool_lag_14                     10392 non-null  float64\n",
      " 54  Cool_lag_21                     10392 non-null  float64\n",
      " 55  Depth_lag_1                     10392 non-null  float64\n",
      " 56  Depth_lag_7                     10392 non-null  float64\n",
      " 57  Depth_lag_14                    10392 non-null  float64\n",
      " 58  Depth_lag_21                    10392 non-null  float64\n",
      " 59  SnowFall_lag_1                  10392 non-null  float64\n",
      " 60  SnowFall_lag_7                  10392 non-null  float64\n",
      " 61  SnowFall_lag_14                 10392 non-null  float64\n",
      " 62  SnowFall_lag_21                 10392 non-null  float64\n",
      " 63  PrecipTotal_lag_1               10392 non-null  float64\n",
      " 64  PrecipTotal_lag_7               10392 non-null  float64\n",
      " 65  PrecipTotal_lag_14              10392 non-null  float64\n",
      " 66  PrecipTotal_lag_21              10392 non-null  float64\n",
      " 67  StnPressure_lag_1               10392 non-null  float64\n",
      " 68  StnPressure_lag_7               10392 non-null  float64\n",
      " 69  StnPressure_lag_14              10392 non-null  float64\n",
      " 70  StnPressure_lag_21              10392 non-null  float64\n",
      " 71  SeaLevel_lag_1                  10392 non-null  float64\n",
      " 72  SeaLevel_lag_7                  10392 non-null  float64\n",
      " 73  SeaLevel_lag_14                 10392 non-null  float64\n",
      " 74  SeaLevel_lag_21                 10392 non-null  float64\n",
      " 75  ResultSpeed_lag_1               10392 non-null  float64\n",
      " 76  ResultSpeed_lag_7               10392 non-null  float64\n",
      " 77  ResultSpeed_lag_14              10392 non-null  float64\n",
      " 78  ResultSpeed_lag_21              10392 non-null  float64\n",
      " 79  ResultDir_lag_1                 10392 non-null  float64\n",
      " 80  ResultDir_lag_7                 10392 non-null  float64\n",
      " 81  ResultDir_lag_14                10392 non-null  float64\n",
      " 82  ResultDir_lag_21                10392 non-null  float64\n",
      " 83  AvgSpeed_lag_1                  10392 non-null  float64\n",
      " 84  AvgSpeed_lag_7                  10392 non-null  float64\n",
      " 85  AvgSpeed_lag_14                 10392 non-null  float64\n",
      " 86  AvgSpeed_lag_21                 10392 non-null  float64\n",
      "dtypes: float64(77), int64(10)\n",
      "memory usage: 7.0+ MB\n"
     ]
    }
   ],
   "source": [
    "# Before I perform information value analysis on the data, I am going to drop the address \n",
    "# columns as well as the trap column. I also need to deal with NaN values. These will be dropped\n",
    "# so as not to interfere with the lag variables. \n",
    "\n",
    "df.set_index('Date', inplace=True)\n",
    "df.drop(['Address', 'Street', 'Trap'], axis=1, inplace=True)\n",
    "\n",
    "df = df.dropna(axis=0)\n",
    "df.info()"
   ]
  },
  {
   "cell_type": "code",
   "execution_count": 5,
   "metadata": {},
   "outputs": [],
   "source": [
    "# Split data into train and test sets\n",
    "\n",
    "y = df['WnvPresent']\n",
    "X = df.drop('WnvPresent', axis=1)\n",
    "\n",
    "X_train, X_test, y_train, y_test = train_test_split(X, y, test_size = 0.2, \n",
    "                                                    random_state=42, stratify=y)"
   ]
  },
  {
   "cell_type": "code",
   "execution_count": 6,
   "metadata": {},
   "outputs": [
    {
     "name": "stdout",
     "output_type": "stream",
     "text": [
      "Iteration # 1\n"
     ]
    },
    {
     "name": "stderr",
     "output_type": "stream",
     "text": [
      "/opt/anaconda3/lib/python3.8/site-packages/statsmodels/stats/outliers_influence.py:193: RuntimeWarning: divide by zero encountered in double_scalars\n",
      "  vif = 1. / (1. - r_squared_i)\n",
      "/opt/anaconda3/lib/python3.8/site-packages/statsmodels/regression/linear_model.py:1715: RuntimeWarning: invalid value encountered in double_scalars\n",
      "  return 1 - self.ssr/self.centered_tss\n"
     ]
    },
    {
     "name": "stdout",
     "output_type": "stream",
     "text": [
      "Removing Species_CULEX ERRATICUS with VIF of inf\n",
      "Iteration # 2\n"
     ]
    },
    {
     "name": "stderr",
     "output_type": "stream",
     "text": [
      "/opt/anaconda3/lib/python3.8/site-packages/statsmodels/stats/outliers_influence.py:193: RuntimeWarning: divide by zero encountered in double_scalars\n",
      "  vif = 1. / (1. - r_squared_i)\n",
      "/opt/anaconda3/lib/python3.8/site-packages/statsmodels/regression/linear_model.py:1715: RuntimeWarning: invalid value encountered in double_scalars\n",
      "  return 1 - self.ssr/self.centered_tss\n"
     ]
    },
    {
     "name": "stdout",
     "output_type": "stream",
     "text": [
      "Removing Tavg with VIF of inf\n",
      "Iteration # 3\n"
     ]
    },
    {
     "name": "stderr",
     "output_type": "stream",
     "text": [
      "/opt/anaconda3/lib/python3.8/site-packages/statsmodels/regression/linear_model.py:1715: RuntimeWarning: invalid value encountered in double_scalars\n",
      "  return 1 - self.ssr/self.centered_tss\n",
      "/opt/anaconda3/lib/python3.8/site-packages/statsmodels/stats/outliers_influence.py:193: RuntimeWarning: divide by zero encountered in double_scalars\n",
      "  vif = 1. / (1. - r_squared_i)\n"
     ]
    },
    {
     "name": "stdout",
     "output_type": "stream",
     "text": [
      "Removing Tavg_lag_1 with VIF of inf\n",
      "Iteration # 4\n"
     ]
    },
    {
     "name": "stderr",
     "output_type": "stream",
     "text": [
      "/opt/anaconda3/lib/python3.8/site-packages/statsmodels/regression/linear_model.py:1715: RuntimeWarning: invalid value encountered in double_scalars\n",
      "  return 1 - self.ssr/self.centered_tss\n",
      "/opt/anaconda3/lib/python3.8/site-packages/statsmodels/stats/outliers_influence.py:193: RuntimeWarning: divide by zero encountered in double_scalars\n",
      "  vif = 1. / (1. - r_squared_i)\n"
     ]
    },
    {
     "name": "stdout",
     "output_type": "stream",
     "text": [
      "Removing Tavg_lag_7 with VIF of inf\n",
      "Iteration # 5\n"
     ]
    },
    {
     "name": "stderr",
     "output_type": "stream",
     "text": [
      "/opt/anaconda3/lib/python3.8/site-packages/statsmodels/regression/linear_model.py:1715: RuntimeWarning: invalid value encountered in double_scalars\n",
      "  return 1 - self.ssr/self.centered_tss\n",
      "/opt/anaconda3/lib/python3.8/site-packages/statsmodels/stats/outliers_influence.py:193: RuntimeWarning: divide by zero encountered in double_scalars\n",
      "  vif = 1. / (1. - r_squared_i)\n"
     ]
    },
    {
     "name": "stdout",
     "output_type": "stream",
     "text": [
      "Removing Tavg_lag_14 with VIF of inf\n",
      "Iteration # 6\n"
     ]
    },
    {
     "name": "stderr",
     "output_type": "stream",
     "text": [
      "/opt/anaconda3/lib/python3.8/site-packages/statsmodels/regression/linear_model.py:1715: RuntimeWarning: invalid value encountered in double_scalars\n",
      "  return 1 - self.ssr/self.centered_tss\n"
     ]
    },
    {
     "name": "stdout",
     "output_type": "stream",
     "text": [
      "Removing Tavg_lag_21 with VIF of 2119901.963588\n",
      "Iteration # 7\n"
     ]
    },
    {
     "name": "stderr",
     "output_type": "stream",
     "text": [
      "/opt/anaconda3/lib/python3.8/site-packages/statsmodels/regression/linear_model.py:1717: RuntimeWarning: invalid value encountered in double_scalars\n",
      "  return 1 - self.ssr/self.uncentered_tss\n"
     ]
    },
    {
     "name": "stdout",
     "output_type": "stream",
     "text": [
      "Removing SeaLevel_lag_1 with VIF of 540973318.103352\n",
      "Iteration # 8\n"
     ]
    },
    {
     "name": "stderr",
     "output_type": "stream",
     "text": [
      "/opt/anaconda3/lib/python3.8/site-packages/statsmodels/regression/linear_model.py:1717: RuntimeWarning: invalid value encountered in double_scalars\n",
      "  return 1 - self.ssr/self.uncentered_tss\n"
     ]
    },
    {
     "name": "stdout",
     "output_type": "stream",
     "text": [
      "Removing SeaLevel_lag_7 with VIF of 129605009.373039\n",
      "Iteration # 9\n"
     ]
    },
    {
     "name": "stderr",
     "output_type": "stream",
     "text": [
      "/opt/anaconda3/lib/python3.8/site-packages/statsmodels/regression/linear_model.py:1717: RuntimeWarning: invalid value encountered in double_scalars\n",
      "  return 1 - self.ssr/self.uncentered_tss\n"
     ]
    },
    {
     "name": "stdout",
     "output_type": "stream",
     "text": [
      "Removing SeaLevel_lag_14 with VIF of 95977748.133310\n",
      "Iteration # 10\n"
     ]
    },
    {
     "name": "stderr",
     "output_type": "stream",
     "text": [
      "/opt/anaconda3/lib/python3.8/site-packages/statsmodels/regression/linear_model.py:1717: RuntimeWarning: invalid value encountered in double_scalars\n",
      "  return 1 - self.ssr/self.uncentered_tss\n"
     ]
    },
    {
     "name": "stdout",
     "output_type": "stream",
     "text": [
      "Removing StnPressure with VIF of 30409582.199312\n",
      "Iteration # 11\n"
     ]
    },
    {
     "name": "stderr",
     "output_type": "stream",
     "text": [
      "/opt/anaconda3/lib/python3.8/site-packages/statsmodels/regression/linear_model.py:1717: RuntimeWarning: invalid value encountered in double_scalars\n",
      "  return 1 - self.ssr/self.uncentered_tss\n"
     ]
    },
    {
     "name": "stdout",
     "output_type": "stream",
     "text": [
      "Removing StnPressure_lag_21 with VIF of 13463668.911907\n",
      "Iteration # 12\n"
     ]
    },
    {
     "name": "stderr",
     "output_type": "stream",
     "text": [
      "/opt/anaconda3/lib/python3.8/site-packages/statsmodels/regression/linear_model.py:1717: RuntimeWarning: invalid value encountered in double_scalars\n",
      "  return 1 - self.ssr/self.uncentered_tss\n"
     ]
    },
    {
     "name": "stdout",
     "output_type": "stream",
     "text": [
      "Removing StnPressure_lag_1 with VIF of 5408775.297608\n",
      "Iteration # 13\n"
     ]
    },
    {
     "name": "stderr",
     "output_type": "stream",
     "text": [
      "/opt/anaconda3/lib/python3.8/site-packages/statsmodels/regression/linear_model.py:1717: RuntimeWarning: invalid value encountered in double_scalars\n",
      "  return 1 - self.ssr/self.uncentered_tss\n"
     ]
    },
    {
     "name": "stdout",
     "output_type": "stream",
     "text": [
      "Removing Tmax_lag_1 with VIF of 5151619.568098\n",
      "Iteration # 14\n"
     ]
    },
    {
     "name": "stderr",
     "output_type": "stream",
     "text": [
      "/opt/anaconda3/lib/python3.8/site-packages/statsmodels/regression/linear_model.py:1717: RuntimeWarning: invalid value encountered in double_scalars\n",
      "  return 1 - self.ssr/self.uncentered_tss\n"
     ]
    },
    {
     "name": "stdout",
     "output_type": "stream",
     "text": [
      "Removing WetBulb_lag_1 with VIF of 1938584.163294\n",
      "Iteration # 15\n"
     ]
    },
    {
     "name": "stderr",
     "output_type": "stream",
     "text": [
      "/opt/anaconda3/lib/python3.8/site-packages/statsmodels/regression/linear_model.py:1717: RuntimeWarning: invalid value encountered in double_scalars\n",
      "  return 1 - self.ssr/self.uncentered_tss\n"
     ]
    },
    {
     "name": "stdout",
     "output_type": "stream",
     "text": [
      "Removing StnPressure_lag_7 with VIF of 1596453.660378\n",
      "Iteration # 16\n"
     ]
    },
    {
     "name": "stderr",
     "output_type": "stream",
     "text": [
      "/opt/anaconda3/lib/python3.8/site-packages/statsmodels/regression/linear_model.py:1717: RuntimeWarning: invalid value encountered in double_scalars\n",
      "  return 1 - self.ssr/self.uncentered_tss\n"
     ]
    },
    {
     "name": "stdout",
     "output_type": "stream",
     "text": [
      "Removing Longitude with VIF of 1185962.107439\n",
      "Iteration # 17\n"
     ]
    },
    {
     "name": "stderr",
     "output_type": "stream",
     "text": [
      "/opt/anaconda3/lib/python3.8/site-packages/statsmodels/regression/linear_model.py:1717: RuntimeWarning: invalid value encountered in double_scalars\n",
      "  return 1 - self.ssr/self.uncentered_tss\n"
     ]
    },
    {
     "name": "stdout",
     "output_type": "stream",
     "text": [
      "Removing Tmax_lag_7 with VIF of 1183683.698830\n",
      "Iteration # 18\n"
     ]
    },
    {
     "name": "stderr",
     "output_type": "stream",
     "text": [
      "/opt/anaconda3/lib/python3.8/site-packages/statsmodels/regression/linear_model.py:1717: RuntimeWarning: invalid value encountered in double_scalars\n",
      "  return 1 - self.ssr/self.uncentered_tss\n"
     ]
    },
    {
     "name": "stdout",
     "output_type": "stream",
     "text": [
      "Removing StnPressure_lag_14 with VIF of 1084594.066961\n",
      "Iteration # 19\n"
     ]
    },
    {
     "name": "stderr",
     "output_type": "stream",
     "text": [
      "/opt/anaconda3/lib/python3.8/site-packages/statsmodels/regression/linear_model.py:1717: RuntimeWarning: invalid value encountered in double_scalars\n",
      "  return 1 - self.ssr/self.uncentered_tss\n"
     ]
    },
    {
     "name": "stdout",
     "output_type": "stream",
     "text": [
      "Removing Tmax_lag_14 with VIF of 865360.217997\n",
      "Iteration # 20\n"
     ]
    },
    {
     "name": "stderr",
     "output_type": "stream",
     "text": [
      "/opt/anaconda3/lib/python3.8/site-packages/statsmodels/regression/linear_model.py:1717: RuntimeWarning: invalid value encountered in double_scalars\n",
      "  return 1 - self.ssr/self.uncentered_tss\n"
     ]
    },
    {
     "name": "stdout",
     "output_type": "stream",
     "text": [
      "Removing WetBulb_lag_14 with VIF of 415694.295906\n",
      "Iteration # 21\n"
     ]
    },
    {
     "name": "stderr",
     "output_type": "stream",
     "text": [
      "/opt/anaconda3/lib/python3.8/site-packages/statsmodels/regression/linear_model.py:1717: RuntimeWarning: invalid value encountered in double_scalars\n",
      "  return 1 - self.ssr/self.uncentered_tss\n"
     ]
    },
    {
     "name": "stdout",
     "output_type": "stream",
     "text": [
      "Removing SeaLevel_lag_21 with VIF of 321603.414211\n",
      "Iteration # 22\n"
     ]
    },
    {
     "name": "stderr",
     "output_type": "stream",
     "text": [
      "/opt/anaconda3/lib/python3.8/site-packages/statsmodels/regression/linear_model.py:1717: RuntimeWarning: invalid value encountered in double_scalars\n",
      "  return 1 - self.ssr/self.uncentered_tss\n"
     ]
    },
    {
     "name": "stdout",
     "output_type": "stream",
     "text": [
      "Removing WetBulb_lag_7 with VIF of 308223.145889\n",
      "Iteration # 23\n"
     ]
    },
    {
     "name": "stderr",
     "output_type": "stream",
     "text": [
      "/opt/anaconda3/lib/python3.8/site-packages/statsmodels/regression/linear_model.py:1717: RuntimeWarning: invalid value encountered in double_scalars\n",
      "  return 1 - self.ssr/self.uncentered_tss\n"
     ]
    },
    {
     "name": "stdout",
     "output_type": "stream",
     "text": [
      "Removing Latitude with VIF of 219049.856502\n",
      "Iteration # 24\n"
     ]
    },
    {
     "name": "stderr",
     "output_type": "stream",
     "text": [
      "/opt/anaconda3/lib/python3.8/site-packages/statsmodels/regression/linear_model.py:1717: RuntimeWarning: invalid value encountered in double_scalars\n",
      "  return 1 - self.ssr/self.uncentered_tss\n"
     ]
    },
    {
     "name": "stdout",
     "output_type": "stream",
     "text": [
      "Removing Tmax_lag_21 with VIF of 210052.052228\n",
      "Iteration # 25\n"
     ]
    },
    {
     "name": "stderr",
     "output_type": "stream",
     "text": [
      "/opt/anaconda3/lib/python3.8/site-packages/statsmodels/regression/linear_model.py:1717: RuntimeWarning: invalid value encountered in double_scalars\n",
      "  return 1 - self.ssr/self.uncentered_tss\n"
     ]
    },
    {
     "name": "stdout",
     "output_type": "stream",
     "text": [
      "Removing Tmin with VIF of 77185.949922\n",
      "Iteration # 26\n"
     ]
    },
    {
     "name": "stderr",
     "output_type": "stream",
     "text": [
      "/opt/anaconda3/lib/python3.8/site-packages/statsmodels/regression/linear_model.py:1717: RuntimeWarning: invalid value encountered in double_scalars\n",
      "  return 1 - self.ssr/self.uncentered_tss\n"
     ]
    },
    {
     "name": "stdout",
     "output_type": "stream",
     "text": [
      "Removing WetBulb with VIF of 76568.186330\n",
      "Iteration # 27\n"
     ]
    },
    {
     "name": "stderr",
     "output_type": "stream",
     "text": [
      "/opt/anaconda3/lib/python3.8/site-packages/statsmodels/regression/linear_model.py:1717: RuntimeWarning: invalid value encountered in double_scalars\n",
      "  return 1 - self.ssr/self.uncentered_tss\n"
     ]
    },
    {
     "name": "stdout",
     "output_type": "stream",
     "text": [
      "Removing SeaLevel with VIF of 58325.067838\n",
      "Iteration # 28\n"
     ]
    },
    {
     "name": "stderr",
     "output_type": "stream",
     "text": [
      "/opt/anaconda3/lib/python3.8/site-packages/statsmodels/regression/linear_model.py:1717: RuntimeWarning: invalid value encountered in double_scalars\n",
      "  return 1 - self.ssr/self.uncentered_tss\n"
     ]
    },
    {
     "name": "stdout",
     "output_type": "stream",
     "text": [
      "Removing WetBulb_lag_21 with VIF of 24235.775762\n",
      "Iteration # 29\n"
     ]
    },
    {
     "name": "stderr",
     "output_type": "stream",
     "text": [
      "/opt/anaconda3/lib/python3.8/site-packages/statsmodels/regression/linear_model.py:1717: RuntimeWarning: invalid value encountered in double_scalars\n",
      "  return 1 - self.ssr/self.uncentered_tss\n"
     ]
    },
    {
     "name": "stdout",
     "output_type": "stream",
     "text": [
      "Removing DewPoint_lag_1 with VIF of 19495.903486\n",
      "Iteration # 30\n"
     ]
    },
    {
     "name": "stderr",
     "output_type": "stream",
     "text": [
      "/opt/anaconda3/lib/python3.8/site-packages/statsmodels/regression/linear_model.py:1717: RuntimeWarning: invalid value encountered in double_scalars\n",
      "  return 1 - self.ssr/self.uncentered_tss\n"
     ]
    },
    {
     "name": "stdout",
     "output_type": "stream",
     "text": [
      "Removing Tmin_lag_7 with VIF of 17092.098418\n",
      "Iteration # 31\n"
     ]
    },
    {
     "name": "stderr",
     "output_type": "stream",
     "text": [
      "/opt/anaconda3/lib/python3.8/site-packages/statsmodels/regression/linear_model.py:1717: RuntimeWarning: invalid value encountered in double_scalars\n",
      "  return 1 - self.ssr/self.uncentered_tss\n"
     ]
    },
    {
     "name": "stdout",
     "output_type": "stream",
     "text": [
      "Removing Tmin_lag_14 with VIF of 12575.139109\n",
      "Iteration # 32\n"
     ]
    },
    {
     "name": "stderr",
     "output_type": "stream",
     "text": [
      "/opt/anaconda3/lib/python3.8/site-packages/statsmodels/regression/linear_model.py:1717: RuntimeWarning: invalid value encountered in double_scalars\n",
      "  return 1 - self.ssr/self.uncentered_tss\n"
     ]
    },
    {
     "name": "stdout",
     "output_type": "stream",
     "text": [
      "Removing DewPoint_lag_7 with VIF of 4964.944779\n",
      "Iteration # 33\n"
     ]
    },
    {
     "name": "stderr",
     "output_type": "stream",
     "text": [
      "/opt/anaconda3/lib/python3.8/site-packages/statsmodels/regression/linear_model.py:1717: RuntimeWarning: invalid value encountered in double_scalars\n",
      "  return 1 - self.ssr/self.uncentered_tss\n"
     ]
    },
    {
     "name": "stdout",
     "output_type": "stream",
     "text": [
      "Removing Tmin_lag_1 with VIF of 4767.221673\n",
      "Iteration # 34\n"
     ]
    },
    {
     "name": "stderr",
     "output_type": "stream",
     "text": [
      "/opt/anaconda3/lib/python3.8/site-packages/statsmodels/regression/linear_model.py:1717: RuntimeWarning: invalid value encountered in double_scalars\n",
      "  return 1 - self.ssr/self.uncentered_tss\n"
     ]
    },
    {
     "name": "stdout",
     "output_type": "stream",
     "text": [
      "Removing DewPoint_lag_14 with VIF of 3773.458976\n",
      "Iteration # 35\n"
     ]
    },
    {
     "name": "stderr",
     "output_type": "stream",
     "text": [
      "/opt/anaconda3/lib/python3.8/site-packages/statsmodels/regression/linear_model.py:1717: RuntimeWarning: invalid value encountered in double_scalars\n",
      "  return 1 - self.ssr/self.uncentered_tss\n"
     ]
    },
    {
     "name": "stdout",
     "output_type": "stream",
     "text": [
      "Removing AvgSpeed_lag_1 with VIF of 3428.963869\n",
      "Iteration # 36\n"
     ]
    },
    {
     "name": "stderr",
     "output_type": "stream",
     "text": [
      "/opt/anaconda3/lib/python3.8/site-packages/statsmodels/regression/linear_model.py:1717: RuntimeWarning: invalid value encountered in double_scalars\n",
      "  return 1 - self.ssr/self.uncentered_tss\n"
     ]
    },
    {
     "name": "stdout",
     "output_type": "stream",
     "text": [
      "Removing Tmax with VIF of 2282.172755\n",
      "Iteration # 37\n"
     ]
    },
    {
     "name": "stderr",
     "output_type": "stream",
     "text": [
      "/opt/anaconda3/lib/python3.8/site-packages/statsmodels/regression/linear_model.py:1717: RuntimeWarning: invalid value encountered in double_scalars\n",
      "  return 1 - self.ssr/self.uncentered_tss\n"
     ]
    },
    {
     "name": "stdout",
     "output_type": "stream",
     "text": [
      "Removing DewPoint_lag_21 with VIF of 1074.864836\n",
      "Iteration # 38\n"
     ]
    },
    {
     "name": "stderr",
     "output_type": "stream",
     "text": [
      "/opt/anaconda3/lib/python3.8/site-packages/statsmodels/regression/linear_model.py:1717: RuntimeWarning: invalid value encountered in double_scalars\n",
      "  return 1 - self.ssr/self.uncentered_tss\n"
     ]
    },
    {
     "name": "stdout",
     "output_type": "stream",
     "text": [
      "Removing Tmin_lag_21 with VIF of 855.440342\n",
      "Iteration # 39\n"
     ]
    },
    {
     "name": "stderr",
     "output_type": "stream",
     "text": [
      "/opt/anaconda3/lib/python3.8/site-packages/statsmodels/regression/linear_model.py:1717: RuntimeWarning: invalid value encountered in double_scalars\n",
      "  return 1 - self.ssr/self.uncentered_tss\n"
     ]
    },
    {
     "name": "stdout",
     "output_type": "stream",
     "text": [
      "Removing AvgSpeed_lag_7 with VIF of 818.595316\n",
      "Iteration # 40\n"
     ]
    },
    {
     "name": "stderr",
     "output_type": "stream",
     "text": [
      "/opt/anaconda3/lib/python3.8/site-packages/statsmodels/regression/linear_model.py:1717: RuntimeWarning: invalid value encountered in double_scalars\n",
      "  return 1 - self.ssr/self.uncentered_tss\n"
     ]
    },
    {
     "name": "stdout",
     "output_type": "stream",
     "text": [
      "Removing AvgSpeed_lag_14 with VIF of 596.322678\n",
      "Iteration # 41\n"
     ]
    },
    {
     "name": "stderr",
     "output_type": "stream",
     "text": [
      "/opt/anaconda3/lib/python3.8/site-packages/statsmodels/regression/linear_model.py:1717: RuntimeWarning: invalid value encountered in double_scalars\n",
      "  return 1 - self.ssr/self.uncentered_tss\n"
     ]
    },
    {
     "name": "stdout",
     "output_type": "stream",
     "text": [
      "Removing Cool_lag_1 with VIF of 472.659905\n",
      "Iteration # 42\n"
     ]
    },
    {
     "name": "stderr",
     "output_type": "stream",
     "text": [
      "/opt/anaconda3/lib/python3.8/site-packages/statsmodels/regression/linear_model.py:1717: RuntimeWarning: invalid value encountered in double_scalars\n",
      "  return 1 - self.ssr/self.uncentered_tss\n"
     ]
    },
    {
     "name": "stdout",
     "output_type": "stream",
     "text": [
      "Removing DewPoint with VIF of 389.171426\n",
      "Iteration # 43\n"
     ]
    },
    {
     "name": "stderr",
     "output_type": "stream",
     "text": [
      "/opt/anaconda3/lib/python3.8/site-packages/statsmodels/regression/linear_model.py:1717: RuntimeWarning: invalid value encountered in double_scalars\n",
      "  return 1 - self.ssr/self.uncentered_tss\n"
     ]
    },
    {
     "name": "stdout",
     "output_type": "stream",
     "text": [
      "Removing ResultSpeed with VIF of 368.375562\n",
      "Iteration # 44\n"
     ]
    },
    {
     "name": "stderr",
     "output_type": "stream",
     "text": [
      "/opt/anaconda3/lib/python3.8/site-packages/statsmodels/regression/linear_model.py:1717: RuntimeWarning: invalid value encountered in double_scalars\n",
      "  return 1 - self.ssr/self.uncentered_tss\n"
     ]
    },
    {
     "name": "stdout",
     "output_type": "stream",
     "text": [
      "Removing ResultDir_lag_1 with VIF of 299.927518\n",
      "Iteration # 45\n"
     ]
    },
    {
     "name": "stderr",
     "output_type": "stream",
     "text": [
      "/opt/anaconda3/lib/python3.8/site-packages/statsmodels/regression/linear_model.py:1717: RuntimeWarning: invalid value encountered in double_scalars\n",
      "  return 1 - self.ssr/self.uncentered_tss\n"
     ]
    },
    {
     "name": "stdout",
     "output_type": "stream",
     "text": [
      "Removing AvgSpeed_lag_21 with VIF of 136.501462\n",
      "Iteration # 46\n"
     ]
    },
    {
     "name": "stderr",
     "output_type": "stream",
     "text": [
      "/opt/anaconda3/lib/python3.8/site-packages/statsmodels/regression/linear_model.py:1717: RuntimeWarning: invalid value encountered in double_scalars\n",
      "  return 1 - self.ssr/self.uncentered_tss\n"
     ]
    },
    {
     "name": "stdout",
     "output_type": "stream",
     "text": [
      "Removing Cool_lag_14 with VIF of 122.023339\n",
      "Iteration # 47\n"
     ]
    },
    {
     "name": "stderr",
     "output_type": "stream",
     "text": [
      "/opt/anaconda3/lib/python3.8/site-packages/statsmodels/regression/linear_model.py:1717: RuntimeWarning: invalid value encountered in double_scalars\n",
      "  return 1 - self.ssr/self.uncentered_tss\n"
     ]
    },
    {
     "name": "stdout",
     "output_type": "stream",
     "text": [
      "Removing Heat_lag_1 with VIF of 121.769414\n",
      "Iteration # 48\n"
     ]
    },
    {
     "name": "stderr",
     "output_type": "stream",
     "text": [
      "/opt/anaconda3/lib/python3.8/site-packages/statsmodels/regression/linear_model.py:1717: RuntimeWarning: invalid value encountered in double_scalars\n",
      "  return 1 - self.ssr/self.uncentered_tss\n"
     ]
    },
    {
     "name": "stdout",
     "output_type": "stream",
     "text": [
      "Removing ResultSpeed_lag_7 with VIF of 103.145216\n",
      "Iteration # 49\n"
     ]
    },
    {
     "name": "stderr",
     "output_type": "stream",
     "text": [
      "/opt/anaconda3/lib/python3.8/site-packages/statsmodels/regression/linear_model.py:1717: RuntimeWarning: invalid value encountered in double_scalars\n",
      "  return 1 - self.ssr/self.uncentered_tss\n"
     ]
    },
    {
     "name": "stdout",
     "output_type": "stream",
     "text": [
      "Removing Cool_lag_7 with VIF of 87.415398\n",
      "Iteration # 50\n"
     ]
    },
    {
     "name": "stderr",
     "output_type": "stream",
     "text": [
      "/opt/anaconda3/lib/python3.8/site-packages/statsmodels/regression/linear_model.py:1717: RuntimeWarning: invalid value encountered in double_scalars\n",
      "  return 1 - self.ssr/self.uncentered_tss\n"
     ]
    },
    {
     "name": "stdout",
     "output_type": "stream",
     "text": [
      "Removing PrecipTotal_lag_1 with VIF of 85.882539\n",
      "Iteration # 51\n"
     ]
    },
    {
     "name": "stderr",
     "output_type": "stream",
     "text": [
      "/opt/anaconda3/lib/python3.8/site-packages/statsmodels/regression/linear_model.py:1717: RuntimeWarning: invalid value encountered in double_scalars\n",
      "  return 1 - self.ssr/self.uncentered_tss\n"
     ]
    },
    {
     "name": "stdout",
     "output_type": "stream",
     "text": [
      "Removing ResultDir_lag_14 with VIF of 77.814888\n",
      "Iteration # 52\n"
     ]
    },
    {
     "name": "stderr",
     "output_type": "stream",
     "text": [
      "/opt/anaconda3/lib/python3.8/site-packages/statsmodels/regression/linear_model.py:1717: RuntimeWarning: invalid value encountered in double_scalars\n",
      "  return 1 - self.ssr/self.uncentered_tss\n"
     ]
    },
    {
     "name": "stdout",
     "output_type": "stream",
     "text": [
      "Removing ResultSpeed_lag_14 with VIF of 68.276167\n",
      "Iteration # 53\n"
     ]
    },
    {
     "name": "stderr",
     "output_type": "stream",
     "text": [
      "/opt/anaconda3/lib/python3.8/site-packages/statsmodels/regression/linear_model.py:1717: RuntimeWarning: invalid value encountered in double_scalars\n",
      "  return 1 - self.ssr/self.uncentered_tss\n"
     ]
    },
    {
     "name": "stdout",
     "output_type": "stream",
     "text": [
      "Removing AvgSpeed with VIF of 60.407923\n",
      "Iteration # 54\n"
     ]
    },
    {
     "name": "stderr",
     "output_type": "stream",
     "text": [
      "/opt/anaconda3/lib/python3.8/site-packages/statsmodels/regression/linear_model.py:1717: RuntimeWarning: invalid value encountered in double_scalars\n",
      "  return 1 - self.ssr/self.uncentered_tss\n"
     ]
    },
    {
     "name": "stdout",
     "output_type": "stream",
     "text": [
      "Removing ResultDir_lag_7 with VIF of 56.813643\n",
      "Iteration # 55\n"
     ]
    },
    {
     "name": "stderr",
     "output_type": "stream",
     "text": [
      "/opt/anaconda3/lib/python3.8/site-packages/statsmodels/regression/linear_model.py:1717: RuntimeWarning: invalid value encountered in double_scalars\n",
      "  return 1 - self.ssr/self.uncentered_tss\n"
     ]
    },
    {
     "name": "stdout",
     "output_type": "stream",
     "text": [
      "Removing Heat_lag_14 with VIF of 26.015182\n",
      "Iteration # 56\n"
     ]
    },
    {
     "name": "stderr",
     "output_type": "stream",
     "text": [
      "/opt/anaconda3/lib/python3.8/site-packages/statsmodels/regression/linear_model.py:1717: RuntimeWarning: invalid value encountered in double_scalars\n",
      "  return 1 - self.ssr/self.uncentered_tss\n"
     ]
    },
    {
     "name": "stdout",
     "output_type": "stream",
     "text": [
      "Removing Cool with VIF of 21.641685\n",
      "Iteration # 57\n"
     ]
    },
    {
     "name": "stderr",
     "output_type": "stream",
     "text": [
      "/opt/anaconda3/lib/python3.8/site-packages/statsmodels/regression/linear_model.py:1717: RuntimeWarning: invalid value encountered in double_scalars\n",
      "  return 1 - self.ssr/self.uncentered_tss\n"
     ]
    },
    {
     "name": "stdout",
     "output_type": "stream",
     "text": [
      "Removing PrecipTotal_lag_7 with VIF of 20.012295\n",
      "Iteration # 58\n"
     ]
    },
    {
     "name": "stderr",
     "output_type": "stream",
     "text": [
      "/opt/anaconda3/lib/python3.8/site-packages/statsmodels/regression/linear_model.py:1717: RuntimeWarning: invalid value encountered in double_scalars\n",
      "  return 1 - self.ssr/self.uncentered_tss\n"
     ]
    },
    {
     "name": "stdout",
     "output_type": "stream",
     "text": [
      "Removing Heat_lag_7 with VIF of 19.375233\n",
      "Iteration # 59\n"
     ]
    },
    {
     "name": "stderr",
     "output_type": "stream",
     "text": [
      "/opt/anaconda3/lib/python3.8/site-packages/statsmodels/regression/linear_model.py:1717: RuntimeWarning: invalid value encountered in double_scalars\n",
      "  return 1 - self.ssr/self.uncentered_tss\n"
     ]
    },
    {
     "name": "stdout",
     "output_type": "stream",
     "text": [
      "Removing ResultSpeed_lag_1 with VIF of 18.348860\n",
      "Iteration # 60\n"
     ]
    },
    {
     "name": "stderr",
     "output_type": "stream",
     "text": [
      "/opt/anaconda3/lib/python3.8/site-packages/statsmodels/regression/linear_model.py:1717: RuntimeWarning: invalid value encountered in double_scalars\n",
      "  return 1 - self.ssr/self.uncentered_tss\n"
     ]
    },
    {
     "name": "stdout",
     "output_type": "stream",
     "text": [
      "Removing ResultDir_lag_21 with VIF of 15.019957\n",
      "Iteration # 61\n"
     ]
    },
    {
     "name": "stderr",
     "output_type": "stream",
     "text": [
      "/opt/anaconda3/lib/python3.8/site-packages/statsmodels/regression/linear_model.py:1717: RuntimeWarning: invalid value encountered in double_scalars\n",
      "  return 1 - self.ssr/self.uncentered_tss\n"
     ]
    },
    {
     "name": "stdout",
     "output_type": "stream",
     "text": [
      "Removing PrecipTotal_lag_14 with VIF of 14.922912\n",
      "Iteration # 62\n"
     ]
    },
    {
     "name": "stderr",
     "output_type": "stream",
     "text": [
      "/opt/anaconda3/lib/python3.8/site-packages/statsmodels/regression/linear_model.py:1717: RuntimeWarning: invalid value encountered in double_scalars\n",
      "  return 1 - self.ssr/self.uncentered_tss\n"
     ]
    },
    {
     "name": "stdout",
     "output_type": "stream",
     "text": [
      "Removing Species_CULEX PIPIENS/RESTUANS with VIF of 9.935017\n",
      "Iteration # 63\n"
     ]
    },
    {
     "name": "stderr",
     "output_type": "stream",
     "text": [
      "/opt/anaconda3/lib/python3.8/site-packages/statsmodels/regression/linear_model.py:1717: RuntimeWarning: invalid value encountered in double_scalars\n",
      "  return 1 - self.ssr/self.uncentered_tss\n"
     ]
    },
    {
     "name": "stdout",
     "output_type": "stream",
     "text": [
      "Removing ResultSpeed_lag_21 with VIF of 5.441843\n",
      "Iteration # 64\n"
     ]
    },
    {
     "name": "stderr",
     "output_type": "stream",
     "text": [
      "/opt/anaconda3/lib/python3.8/site-packages/statsmodels/regression/linear_model.py:1717: RuntimeWarning: invalid value encountered in double_scalars\n",
      "  return 1 - self.ssr/self.uncentered_tss\n"
     ]
    },
    {
     "name": "stdout",
     "output_type": "stream",
     "text": [
      "Complete\n"
     ]
    }
   ],
   "source": [
    "# Information Value Analysis via the Variance Inlfation Factor.\n",
    "\n",
    "def iterate_vif(df, vif_threshold=5, max_vif=6):\n",
    "    count = 0\n",
    "    while max_vif > vif_threshold:\n",
    "        count += 1\n",
    "        print(\"Iteration # \"+str(count))\n",
    "        vif = pd.DataFrame()\n",
    "        vif[\"VIFactor\"] = [variance_inflation_factor(df.values, i) for i in range(df.shape[1])]\n",
    "        vif[\"features\"] = df.columns\n",
    "\n",
    "        if vif['VIFactor'].max() > vif_threshold:\n",
    "            print('Removing %s with VIF of %f' % (vif[vif['VIFactor'] == vif['VIFactor'].max()]['features'].values[0], vif['VIFactor'].max()))\n",
    "            df = df.drop(vif[vif['VIFactor'] == vif['VIFactor'].max()]['features'].values[0], axis=1)\n",
    "            max_vif = vif['VIFactor'].max()\n",
    "        else:\n",
    "            print('Complete')\n",
    "            break\n",
    "    return df, vif.sort_values('VIFactor')\n",
    "\n",
    "final_df, final_vif = iterate_vif(X_train)"
   ]
  },
  {
   "cell_type": "code",
   "execution_count": 7,
   "metadata": {},
   "outputs": [
    {
     "data": {
      "text/html": [
       "<div>\n",
       "<style scoped>\n",
       "    .dataframe tbody tr th:only-of-type {\n",
       "        vertical-align: middle;\n",
       "    }\n",
       "\n",
       "    .dataframe tbody tr th {\n",
       "        vertical-align: top;\n",
       "    }\n",
       "\n",
       "    .dataframe thead th {\n",
       "        text-align: right;\n",
       "    }\n",
       "</style>\n",
       "<table border=\"1\" class=\"dataframe\">\n",
       "  <thead>\n",
       "    <tr style=\"text-align: right;\">\n",
       "      <th></th>\n",
       "      <th>NumMosquitos</th>\n",
       "      <th>Species_CULEX PIPIENS</th>\n",
       "      <th>Species_CULEX RESTUANS</th>\n",
       "      <th>Species_CULEX SALINARIUS</th>\n",
       "      <th>Species_CULEX TARSALIS</th>\n",
       "      <th>Species_CULEX TERRITANS</th>\n",
       "      <th>Heat</th>\n",
       "      <th>Depth</th>\n",
       "      <th>SnowFall</th>\n",
       "      <th>PrecipTotal</th>\n",
       "      <th>...</th>\n",
       "      <th>Cool_lag_21</th>\n",
       "      <th>Depth_lag_1</th>\n",
       "      <th>Depth_lag_7</th>\n",
       "      <th>Depth_lag_14</th>\n",
       "      <th>Depth_lag_21</th>\n",
       "      <th>SnowFall_lag_1</th>\n",
       "      <th>SnowFall_lag_7</th>\n",
       "      <th>SnowFall_lag_14</th>\n",
       "      <th>SnowFall_lag_21</th>\n",
       "      <th>PrecipTotal_lag_21</th>\n",
       "    </tr>\n",
       "    <tr>\n",
       "      <th>Date</th>\n",
       "      <th></th>\n",
       "      <th></th>\n",
       "      <th></th>\n",
       "      <th></th>\n",
       "      <th></th>\n",
       "      <th></th>\n",
       "      <th></th>\n",
       "      <th></th>\n",
       "      <th></th>\n",
       "      <th></th>\n",
       "      <th></th>\n",
       "      <th></th>\n",
       "      <th></th>\n",
       "      <th></th>\n",
       "      <th></th>\n",
       "      <th></th>\n",
       "      <th></th>\n",
       "      <th></th>\n",
       "      <th></th>\n",
       "      <th></th>\n",
       "      <th></th>\n",
       "    </tr>\n",
       "  </thead>\n",
       "  <tbody>\n",
       "    <tr>\n",
       "      <th>2013-07-25</th>\n",
       "      <td>6</td>\n",
       "      <td>0</td>\n",
       "      <td>0</td>\n",
       "      <td>0</td>\n",
       "      <td>0</td>\n",
       "      <td>0</td>\n",
       "      <td>0.0</td>\n",
       "      <td>0.0</td>\n",
       "      <td>0.0</td>\n",
       "      <td>0.0</td>\n",
       "      <td>...</td>\n",
       "      <td>4.5</td>\n",
       "      <td>0.0</td>\n",
       "      <td>0.0</td>\n",
       "      <td>0.0</td>\n",
       "      <td>0.0</td>\n",
       "      <td>0.0</td>\n",
       "      <td>0.0</td>\n",
       "      <td>0.0</td>\n",
       "      <td>0.0</td>\n",
       "      <td>0.0</td>\n",
       "    </tr>\n",
       "    <tr>\n",
       "      <th>2013-09-26</th>\n",
       "      <td>5</td>\n",
       "      <td>0</td>\n",
       "      <td>0</td>\n",
       "      <td>0</td>\n",
       "      <td>0</td>\n",
       "      <td>0</td>\n",
       "      <td>0.0</td>\n",
       "      <td>0.0</td>\n",
       "      <td>0.0</td>\n",
       "      <td>0.0</td>\n",
       "      <td>...</td>\n",
       "      <td>1.0</td>\n",
       "      <td>0.0</td>\n",
       "      <td>0.0</td>\n",
       "      <td>0.0</td>\n",
       "      <td>0.0</td>\n",
       "      <td>0.0</td>\n",
       "      <td>0.0</td>\n",
       "      <td>0.0</td>\n",
       "      <td>0.0</td>\n",
       "      <td>0.0</td>\n",
       "    </tr>\n",
       "    <tr>\n",
       "      <th>2011-08-12</th>\n",
       "      <td>2</td>\n",
       "      <td>0</td>\n",
       "      <td>1</td>\n",
       "      <td>0</td>\n",
       "      <td>0</td>\n",
       "      <td>0</td>\n",
       "      <td>0.0</td>\n",
       "      <td>0.0</td>\n",
       "      <td>0.0</td>\n",
       "      <td>0.0</td>\n",
       "      <td>...</td>\n",
       "      <td>7.5</td>\n",
       "      <td>0.0</td>\n",
       "      <td>0.0</td>\n",
       "      <td>0.0</td>\n",
       "      <td>0.0</td>\n",
       "      <td>0.0</td>\n",
       "      <td>0.0</td>\n",
       "      <td>0.0</td>\n",
       "      <td>0.0</td>\n",
       "      <td>0.0</td>\n",
       "    </tr>\n",
       "    <tr>\n",
       "      <th>2007-07-11</th>\n",
       "      <td>6</td>\n",
       "      <td>0</td>\n",
       "      <td>0</td>\n",
       "      <td>0</td>\n",
       "      <td>0</td>\n",
       "      <td>0</td>\n",
       "      <td>0.0</td>\n",
       "      <td>0.0</td>\n",
       "      <td>0.0</td>\n",
       "      <td>0.0</td>\n",
       "      <td>...</td>\n",
       "      <td>2.0</td>\n",
       "      <td>0.0</td>\n",
       "      <td>0.0</td>\n",
       "      <td>0.0</td>\n",
       "      <td>0.0</td>\n",
       "      <td>0.0</td>\n",
       "      <td>0.0</td>\n",
       "      <td>0.0</td>\n",
       "      <td>0.0</td>\n",
       "      <td>0.0</td>\n",
       "    </tr>\n",
       "    <tr>\n",
       "      <th>2013-08-08</th>\n",
       "      <td>2</td>\n",
       "      <td>1</td>\n",
       "      <td>0</td>\n",
       "      <td>0</td>\n",
       "      <td>0</td>\n",
       "      <td>0</td>\n",
       "      <td>0.0</td>\n",
       "      <td>0.0</td>\n",
       "      <td>0.0</td>\n",
       "      <td>0.0</td>\n",
       "      <td>...</td>\n",
       "      <td>8.0</td>\n",
       "      <td>0.0</td>\n",
       "      <td>0.0</td>\n",
       "      <td>0.0</td>\n",
       "      <td>0.0</td>\n",
       "      <td>0.0</td>\n",
       "      <td>0.0</td>\n",
       "      <td>0.0</td>\n",
       "      <td>0.0</td>\n",
       "      <td>0.0</td>\n",
       "    </tr>\n",
       "  </tbody>\n",
       "</table>\n",
       "<p>5 rows × 23 columns</p>\n",
       "</div>"
      ],
      "text/plain": [
       "            NumMosquitos  Species_CULEX PIPIENS  Species_CULEX RESTUANS  \\\n",
       "Date                                                                      \n",
       "2013-07-25             6                      0                       0   \n",
       "2013-09-26             5                      0                       0   \n",
       "2011-08-12             2                      0                       1   \n",
       "2007-07-11             6                      0                       0   \n",
       "2013-08-08             2                      1                       0   \n",
       "\n",
       "            Species_CULEX SALINARIUS  Species_CULEX TARSALIS  \\\n",
       "Date                                                           \n",
       "2013-07-25                         0                       0   \n",
       "2013-09-26                         0                       0   \n",
       "2011-08-12                         0                       0   \n",
       "2007-07-11                         0                       0   \n",
       "2013-08-08                         0                       0   \n",
       "\n",
       "            Species_CULEX TERRITANS  Heat  Depth  SnowFall  PrecipTotal  ...  \\\n",
       "Date                                                                     ...   \n",
       "2013-07-25                        0   0.0    0.0       0.0          0.0  ...   \n",
       "2013-09-26                        0   0.0    0.0       0.0          0.0  ...   \n",
       "2011-08-12                        0   0.0    0.0       0.0          0.0  ...   \n",
       "2007-07-11                        0   0.0    0.0       0.0          0.0  ...   \n",
       "2013-08-08                        0   0.0    0.0       0.0          0.0  ...   \n",
       "\n",
       "            Cool_lag_21  Depth_lag_1  Depth_lag_7  Depth_lag_14  Depth_lag_21  \\\n",
       "Date                                                                            \n",
       "2013-07-25          4.5          0.0          0.0           0.0           0.0   \n",
       "2013-09-26          1.0          0.0          0.0           0.0           0.0   \n",
       "2011-08-12          7.5          0.0          0.0           0.0           0.0   \n",
       "2007-07-11          2.0          0.0          0.0           0.0           0.0   \n",
       "2013-08-08          8.0          0.0          0.0           0.0           0.0   \n",
       "\n",
       "            SnowFall_lag_1  SnowFall_lag_7  SnowFall_lag_14  SnowFall_lag_21  \\\n",
       "Date                                                                           \n",
       "2013-07-25             0.0             0.0              0.0              0.0   \n",
       "2013-09-26             0.0             0.0              0.0              0.0   \n",
       "2011-08-12             0.0             0.0              0.0              0.0   \n",
       "2007-07-11             0.0             0.0              0.0              0.0   \n",
       "2013-08-08             0.0             0.0              0.0              0.0   \n",
       "\n",
       "            PrecipTotal_lag_21  \n",
       "Date                            \n",
       "2013-07-25                 0.0  \n",
       "2013-09-26                 0.0  \n",
       "2011-08-12                 0.0  \n",
       "2007-07-11                 0.0  \n",
       "2013-08-08                 0.0  \n",
       "\n",
       "[5 rows x 23 columns]"
      ]
     },
     "execution_count": 7,
     "metadata": {},
     "output_type": "execute_result"
    }
   ],
   "source": [
    "final_df.head()"
   ]
  },
  {
   "cell_type": "code",
   "execution_count": 8,
   "metadata": {},
   "outputs": [
    {
     "data": {
      "text/html": [
       "<div>\n",
       "<style scoped>\n",
       "    .dataframe tbody tr th:only-of-type {\n",
       "        vertical-align: middle;\n",
       "    }\n",
       "\n",
       "    .dataframe tbody tr th {\n",
       "        vertical-align: top;\n",
       "    }\n",
       "\n",
       "    .dataframe thead th {\n",
       "        text-align: right;\n",
       "    }\n",
       "</style>\n",
       "<table border=\"1\" class=\"dataframe\">\n",
       "  <thead>\n",
       "    <tr style=\"text-align: right;\">\n",
       "      <th></th>\n",
       "      <th>VIFactor</th>\n",
       "      <th>features</th>\n",
       "    </tr>\n",
       "  </thead>\n",
       "  <tbody>\n",
       "    <tr>\n",
       "      <th>4</th>\n",
       "      <td>1.007717</td>\n",
       "      <td>Species_CULEX TARSALIS</td>\n",
       "    </tr>\n",
       "    <tr>\n",
       "      <th>3</th>\n",
       "      <td>1.020086</td>\n",
       "      <td>Species_CULEX SALINARIUS</td>\n",
       "    </tr>\n",
       "    <tr>\n",
       "      <th>5</th>\n",
       "      <td>1.058026</td>\n",
       "      <td>Species_CULEX TERRITANS</td>\n",
       "    </tr>\n",
       "    <tr>\n",
       "      <th>1</th>\n",
       "      <td>1.500469</td>\n",
       "      <td>Species_CULEX PIPIENS</td>\n",
       "    </tr>\n",
       "    <tr>\n",
       "      <th>2</th>\n",
       "      <td>1.512638</td>\n",
       "      <td>Species_CULEX RESTUANS</td>\n",
       "    </tr>\n",
       "    <tr>\n",
       "      <th>0</th>\n",
       "      <td>1.705421</td>\n",
       "      <td>NumMosquitos</td>\n",
       "    </tr>\n",
       "    <tr>\n",
       "      <th>9</th>\n",
       "      <td>3.735686</td>\n",
       "      <td>PrecipTotal</td>\n",
       "    </tr>\n",
       "    <tr>\n",
       "      <th>22</th>\n",
       "      <td>3.794456</td>\n",
       "      <td>PrecipTotal_lag_21</td>\n",
       "    </tr>\n",
       "    <tr>\n",
       "      <th>10</th>\n",
       "      <td>4.090379</td>\n",
       "      <td>ResultDir</td>\n",
       "    </tr>\n",
       "    <tr>\n",
       "      <th>13</th>\n",
       "      <td>4.209629</td>\n",
       "      <td>Cool_lag_21</td>\n",
       "    </tr>\n",
       "    <tr>\n",
       "      <th>11</th>\n",
       "      <td>4.530008</td>\n",
       "      <td>Region</td>\n",
       "    </tr>\n",
       "    <tr>\n",
       "      <th>6</th>\n",
       "      <td>4.749748</td>\n",
       "      <td>Heat</td>\n",
       "    </tr>\n",
       "    <tr>\n",
       "      <th>12</th>\n",
       "      <td>4.963788</td>\n",
       "      <td>Heat_lag_21</td>\n",
       "    </tr>\n",
       "    <tr>\n",
       "      <th>7</th>\n",
       "      <td>NaN</td>\n",
       "      <td>Depth</td>\n",
       "    </tr>\n",
       "    <tr>\n",
       "      <th>8</th>\n",
       "      <td>NaN</td>\n",
       "      <td>SnowFall</td>\n",
       "    </tr>\n",
       "    <tr>\n",
       "      <th>14</th>\n",
       "      <td>NaN</td>\n",
       "      <td>Depth_lag_1</td>\n",
       "    </tr>\n",
       "    <tr>\n",
       "      <th>15</th>\n",
       "      <td>NaN</td>\n",
       "      <td>Depth_lag_7</td>\n",
       "    </tr>\n",
       "    <tr>\n",
       "      <th>16</th>\n",
       "      <td>NaN</td>\n",
       "      <td>Depth_lag_14</td>\n",
       "    </tr>\n",
       "    <tr>\n",
       "      <th>17</th>\n",
       "      <td>NaN</td>\n",
       "      <td>Depth_lag_21</td>\n",
       "    </tr>\n",
       "    <tr>\n",
       "      <th>18</th>\n",
       "      <td>NaN</td>\n",
       "      <td>SnowFall_lag_1</td>\n",
       "    </tr>\n",
       "    <tr>\n",
       "      <th>19</th>\n",
       "      <td>NaN</td>\n",
       "      <td>SnowFall_lag_7</td>\n",
       "    </tr>\n",
       "    <tr>\n",
       "      <th>20</th>\n",
       "      <td>NaN</td>\n",
       "      <td>SnowFall_lag_14</td>\n",
       "    </tr>\n",
       "    <tr>\n",
       "      <th>21</th>\n",
       "      <td>NaN</td>\n",
       "      <td>SnowFall_lag_21</td>\n",
       "    </tr>\n",
       "  </tbody>\n",
       "</table>\n",
       "</div>"
      ],
      "text/plain": [
       "    VIFactor                  features\n",
       "4   1.007717    Species_CULEX TARSALIS\n",
       "3   1.020086  Species_CULEX SALINARIUS\n",
       "5   1.058026   Species_CULEX TERRITANS\n",
       "1   1.500469     Species_CULEX PIPIENS\n",
       "2   1.512638    Species_CULEX RESTUANS\n",
       "0   1.705421              NumMosquitos\n",
       "9   3.735686               PrecipTotal\n",
       "22  3.794456        PrecipTotal_lag_21\n",
       "10  4.090379                 ResultDir\n",
       "13  4.209629               Cool_lag_21\n",
       "11  4.530008                    Region\n",
       "6   4.749748                      Heat\n",
       "12  4.963788               Heat_lag_21\n",
       "7        NaN                     Depth\n",
       "8        NaN                  SnowFall\n",
       "14       NaN               Depth_lag_1\n",
       "15       NaN               Depth_lag_7\n",
       "16       NaN              Depth_lag_14\n",
       "17       NaN              Depth_lag_21\n",
       "18       NaN            SnowFall_lag_1\n",
       "19       NaN            SnowFall_lag_7\n",
       "20       NaN           SnowFall_lag_14\n",
       "21       NaN           SnowFall_lag_21"
      ]
     },
     "execution_count": 8,
     "metadata": {},
     "output_type": "execute_result"
    }
   ],
   "source": [
    "final_vif"
   ]
  },
  {
   "cell_type": "code",
   "execution_count": 9,
   "metadata": {},
   "outputs": [
    {
     "data": {
      "text/html": [
       "<div>\n",
       "<style scoped>\n",
       "    .dataframe tbody tr th:only-of-type {\n",
       "        vertical-align: middle;\n",
       "    }\n",
       "\n",
       "    .dataframe tbody tr th {\n",
       "        vertical-align: top;\n",
       "    }\n",
       "\n",
       "    .dataframe thead th {\n",
       "        text-align: right;\n",
       "    }\n",
       "</style>\n",
       "<table border=\"1\" class=\"dataframe\">\n",
       "  <thead>\n",
       "    <tr style=\"text-align: right;\">\n",
       "      <th></th>\n",
       "      <th>VIFactor</th>\n",
       "      <th>features</th>\n",
       "    </tr>\n",
       "  </thead>\n",
       "  <tbody>\n",
       "    <tr>\n",
       "      <th>0</th>\n",
       "      <td>1.007717</td>\n",
       "      <td>Species_CULEX TARSALIS</td>\n",
       "    </tr>\n",
       "    <tr>\n",
       "      <th>1</th>\n",
       "      <td>1.020086</td>\n",
       "      <td>Species_CULEX SALINARIUS</td>\n",
       "    </tr>\n",
       "    <tr>\n",
       "      <th>2</th>\n",
       "      <td>1.058026</td>\n",
       "      <td>Species_CULEX TERRITANS</td>\n",
       "    </tr>\n",
       "    <tr>\n",
       "      <th>3</th>\n",
       "      <td>1.500469</td>\n",
       "      <td>Species_CULEX PIPIENS</td>\n",
       "    </tr>\n",
       "    <tr>\n",
       "      <th>4</th>\n",
       "      <td>1.512638</td>\n",
       "      <td>Species_CULEX RESTUANS</td>\n",
       "    </tr>\n",
       "    <tr>\n",
       "      <th>5</th>\n",
       "      <td>1.705421</td>\n",
       "      <td>NumMosquitos</td>\n",
       "    </tr>\n",
       "    <tr>\n",
       "      <th>6</th>\n",
       "      <td>3.735686</td>\n",
       "      <td>PrecipTotal</td>\n",
       "    </tr>\n",
       "    <tr>\n",
       "      <th>7</th>\n",
       "      <td>3.794456</td>\n",
       "      <td>PrecipTotal_lag_21</td>\n",
       "    </tr>\n",
       "    <tr>\n",
       "      <th>8</th>\n",
       "      <td>4.090379</td>\n",
       "      <td>ResultDir</td>\n",
       "    </tr>\n",
       "    <tr>\n",
       "      <th>9</th>\n",
       "      <td>4.209629</td>\n",
       "      <td>Cool_lag_21</td>\n",
       "    </tr>\n",
       "    <tr>\n",
       "      <th>10</th>\n",
       "      <td>4.530008</td>\n",
       "      <td>Region</td>\n",
       "    </tr>\n",
       "    <tr>\n",
       "      <th>11</th>\n",
       "      <td>4.749748</td>\n",
       "      <td>Heat</td>\n",
       "    </tr>\n",
       "    <tr>\n",
       "      <th>12</th>\n",
       "      <td>4.963788</td>\n",
       "      <td>Heat_lag_21</td>\n",
       "    </tr>\n",
       "    <tr>\n",
       "      <th>13</th>\n",
       "      <td>NaN</td>\n",
       "      <td>Depth</td>\n",
       "    </tr>\n",
       "    <tr>\n",
       "      <th>14</th>\n",
       "      <td>NaN</td>\n",
       "      <td>SnowFall</td>\n",
       "    </tr>\n",
       "    <tr>\n",
       "      <th>15</th>\n",
       "      <td>NaN</td>\n",
       "      <td>Depth_lag_1</td>\n",
       "    </tr>\n",
       "    <tr>\n",
       "      <th>16</th>\n",
       "      <td>NaN</td>\n",
       "      <td>Depth_lag_7</td>\n",
       "    </tr>\n",
       "    <tr>\n",
       "      <th>17</th>\n",
       "      <td>NaN</td>\n",
       "      <td>Depth_lag_14</td>\n",
       "    </tr>\n",
       "    <tr>\n",
       "      <th>18</th>\n",
       "      <td>NaN</td>\n",
       "      <td>Depth_lag_21</td>\n",
       "    </tr>\n",
       "    <tr>\n",
       "      <th>19</th>\n",
       "      <td>NaN</td>\n",
       "      <td>SnowFall_lag_1</td>\n",
       "    </tr>\n",
       "    <tr>\n",
       "      <th>20</th>\n",
       "      <td>NaN</td>\n",
       "      <td>SnowFall_lag_7</td>\n",
       "    </tr>\n",
       "    <tr>\n",
       "      <th>21</th>\n",
       "      <td>NaN</td>\n",
       "      <td>SnowFall_lag_14</td>\n",
       "    </tr>\n",
       "    <tr>\n",
       "      <th>22</th>\n",
       "      <td>NaN</td>\n",
       "      <td>SnowFall_lag_21</td>\n",
       "    </tr>\n",
       "  </tbody>\n",
       "</table>\n",
       "</div>"
      ],
      "text/plain": [
       "    VIFactor                  features\n",
       "0   1.007717    Species_CULEX TARSALIS\n",
       "1   1.020086  Species_CULEX SALINARIUS\n",
       "2   1.058026   Species_CULEX TERRITANS\n",
       "3   1.500469     Species_CULEX PIPIENS\n",
       "4   1.512638    Species_CULEX RESTUANS\n",
       "5   1.705421              NumMosquitos\n",
       "6   3.735686               PrecipTotal\n",
       "7   3.794456        PrecipTotal_lag_21\n",
       "8   4.090379                 ResultDir\n",
       "9   4.209629               Cool_lag_21\n",
       "10  4.530008                    Region\n",
       "11  4.749748                      Heat\n",
       "12  4.963788               Heat_lag_21\n",
       "13       NaN                     Depth\n",
       "14       NaN                  SnowFall\n",
       "15       NaN               Depth_lag_1\n",
       "16       NaN               Depth_lag_7\n",
       "17       NaN              Depth_lag_14\n",
       "18       NaN              Depth_lag_21\n",
       "19       NaN            SnowFall_lag_1\n",
       "20       NaN            SnowFall_lag_7\n",
       "21       NaN           SnowFall_lag_14\n",
       "22       NaN           SnowFall_lag_21"
      ]
     },
     "execution_count": 9,
     "metadata": {},
     "output_type": "execute_result"
    }
   ],
   "source": [
    "final_vif.reset_index(drop=True, inplace=True)\n",
    "final_vif"
   ]
  },
  {
   "cell_type": "code",
   "execution_count": 10,
   "metadata": {},
   "outputs": [
    {
     "data": {
      "text/html": [
       "<div>\n",
       "<style scoped>\n",
       "    .dataframe tbody tr th:only-of-type {\n",
       "        vertical-align: middle;\n",
       "    }\n",
       "\n",
       "    .dataframe tbody tr th {\n",
       "        vertical-align: top;\n",
       "    }\n",
       "\n",
       "    .dataframe thead th {\n",
       "        text-align: right;\n",
       "    }\n",
       "</style>\n",
       "<table border=\"1\" class=\"dataframe\">\n",
       "  <thead>\n",
       "    <tr style=\"text-align: right;\">\n",
       "      <th></th>\n",
       "      <th>NumMosquitos</th>\n",
       "      <th>Species_CULEX PIPIENS</th>\n",
       "      <th>Species_CULEX RESTUANS</th>\n",
       "      <th>Species_CULEX SALINARIUS</th>\n",
       "      <th>Species_CULEX TARSALIS</th>\n",
       "      <th>Species_CULEX TERRITANS</th>\n",
       "      <th>Heat</th>\n",
       "      <th>Depth</th>\n",
       "      <th>SnowFall</th>\n",
       "      <th>PrecipTotal</th>\n",
       "      <th>...</th>\n",
       "      <th>Cool_lag_21</th>\n",
       "      <th>Depth_lag_1</th>\n",
       "      <th>Depth_lag_7</th>\n",
       "      <th>Depth_lag_14</th>\n",
       "      <th>Depth_lag_21</th>\n",
       "      <th>SnowFall_lag_1</th>\n",
       "      <th>SnowFall_lag_7</th>\n",
       "      <th>SnowFall_lag_14</th>\n",
       "      <th>SnowFall_lag_21</th>\n",
       "      <th>PrecipTotal_lag_21</th>\n",
       "    </tr>\n",
       "  </thead>\n",
       "  <tbody>\n",
       "    <tr>\n",
       "      <th>count</th>\n",
       "      <td>8313.000000</td>\n",
       "      <td>8313.000000</td>\n",
       "      <td>8313.000000</td>\n",
       "      <td>8313.000000</td>\n",
       "      <td>8313.000000</td>\n",
       "      <td>8313.000000</td>\n",
       "      <td>8313.000000</td>\n",
       "      <td>8313.0</td>\n",
       "      <td>8313.0</td>\n",
       "      <td>8313.000000</td>\n",
       "      <td>...</td>\n",
       "      <td>8313.000000</td>\n",
       "      <td>8313.0</td>\n",
       "      <td>8313.0</td>\n",
       "      <td>8313.0</td>\n",
       "      <td>8313.0</td>\n",
       "      <td>8313.0</td>\n",
       "      <td>8313.0</td>\n",
       "      <td>8313.0</td>\n",
       "      <td>8313.0</td>\n",
       "      <td>8313.000000</td>\n",
       "    </tr>\n",
       "    <tr>\n",
       "      <th>mean</th>\n",
       "      <td>13.055936</td>\n",
       "      <td>0.254782</td>\n",
       "      <td>0.258390</td>\n",
       "      <td>0.008421</td>\n",
       "      <td>0.000722</td>\n",
       "      <td>0.022134</td>\n",
       "      <td>0.864910</td>\n",
       "      <td>0.0</td>\n",
       "      <td>0.0</td>\n",
       "      <td>0.123172</td>\n",
       "      <td>...</td>\n",
       "      <td>8.937628</td>\n",
       "      <td>0.0</td>\n",
       "      <td>0.0</td>\n",
       "      <td>0.0</td>\n",
       "      <td>0.0</td>\n",
       "      <td>0.0</td>\n",
       "      <td>0.0</td>\n",
       "      <td>0.0</td>\n",
       "      <td>0.0</td>\n",
       "      <td>0.123713</td>\n",
       "    </tr>\n",
       "    <tr>\n",
       "      <th>std</th>\n",
       "      <td>16.266714</td>\n",
       "      <td>0.435765</td>\n",
       "      <td>0.437776</td>\n",
       "      <td>0.091382</td>\n",
       "      <td>0.026858</td>\n",
       "      <td>0.147128</td>\n",
       "      <td>2.659059</td>\n",
       "      <td>0.0</td>\n",
       "      <td>0.0</td>\n",
       "      <td>0.240267</td>\n",
       "      <td>...</td>\n",
       "      <td>5.744583</td>\n",
       "      <td>0.0</td>\n",
       "      <td>0.0</td>\n",
       "      <td>0.0</td>\n",
       "      <td>0.0</td>\n",
       "      <td>0.0</td>\n",
       "      <td>0.0</td>\n",
       "      <td>0.0</td>\n",
       "      <td>0.0</td>\n",
       "      <td>0.240532</td>\n",
       "    </tr>\n",
       "    <tr>\n",
       "      <th>min</th>\n",
       "      <td>1.000000</td>\n",
       "      <td>0.000000</td>\n",
       "      <td>0.000000</td>\n",
       "      <td>0.000000</td>\n",
       "      <td>0.000000</td>\n",
       "      <td>0.000000</td>\n",
       "      <td>0.000000</td>\n",
       "      <td>0.0</td>\n",
       "      <td>0.0</td>\n",
       "      <td>0.000000</td>\n",
       "      <td>...</td>\n",
       "      <td>0.000000</td>\n",
       "      <td>0.0</td>\n",
       "      <td>0.0</td>\n",
       "      <td>0.0</td>\n",
       "      <td>0.0</td>\n",
       "      <td>0.0</td>\n",
       "      <td>0.0</td>\n",
       "      <td>0.0</td>\n",
       "      <td>0.0</td>\n",
       "      <td>0.000000</td>\n",
       "    </tr>\n",
       "    <tr>\n",
       "      <th>25%</th>\n",
       "      <td>2.000000</td>\n",
       "      <td>0.000000</td>\n",
       "      <td>0.000000</td>\n",
       "      <td>0.000000</td>\n",
       "      <td>0.000000</td>\n",
       "      <td>0.000000</td>\n",
       "      <td>0.000000</td>\n",
       "      <td>0.0</td>\n",
       "      <td>0.0</td>\n",
       "      <td>0.000000</td>\n",
       "      <td>...</td>\n",
       "      <td>5.000000</td>\n",
       "      <td>0.0</td>\n",
       "      <td>0.0</td>\n",
       "      <td>0.0</td>\n",
       "      <td>0.0</td>\n",
       "      <td>0.0</td>\n",
       "      <td>0.0</td>\n",
       "      <td>0.0</td>\n",
       "      <td>0.0</td>\n",
       "      <td>0.000000</td>\n",
       "    </tr>\n",
       "    <tr>\n",
       "      <th>50%</th>\n",
       "      <td>5.000000</td>\n",
       "      <td>0.000000</td>\n",
       "      <td>0.000000</td>\n",
       "      <td>0.000000</td>\n",
       "      <td>0.000000</td>\n",
       "      <td>0.000000</td>\n",
       "      <td>0.000000</td>\n",
       "      <td>0.0</td>\n",
       "      <td>0.0</td>\n",
       "      <td>0.000000</td>\n",
       "      <td>...</td>\n",
       "      <td>9.500000</td>\n",
       "      <td>0.0</td>\n",
       "      <td>0.0</td>\n",
       "      <td>0.0</td>\n",
       "      <td>0.0</td>\n",
       "      <td>0.0</td>\n",
       "      <td>0.0</td>\n",
       "      <td>0.0</td>\n",
       "      <td>0.0</td>\n",
       "      <td>0.000000</td>\n",
       "    </tr>\n",
       "    <tr>\n",
       "      <th>75%</th>\n",
       "      <td>18.000000</td>\n",
       "      <td>1.000000</td>\n",
       "      <td>1.000000</td>\n",
       "      <td>0.000000</td>\n",
       "      <td>0.000000</td>\n",
       "      <td>0.000000</td>\n",
       "      <td>0.000000</td>\n",
       "      <td>0.0</td>\n",
       "      <td>0.0</td>\n",
       "      <td>0.100000</td>\n",
       "      <td>...</td>\n",
       "      <td>14.500000</td>\n",
       "      <td>0.0</td>\n",
       "      <td>0.0</td>\n",
       "      <td>0.0</td>\n",
       "      <td>0.0</td>\n",
       "      <td>0.0</td>\n",
       "      <td>0.0</td>\n",
       "      <td>0.0</td>\n",
       "      <td>0.0</td>\n",
       "      <td>0.100000</td>\n",
       "    </tr>\n",
       "    <tr>\n",
       "      <th>max</th>\n",
       "      <td>50.000000</td>\n",
       "      <td>1.000000</td>\n",
       "      <td>1.000000</td>\n",
       "      <td>1.000000</td>\n",
       "      <td>1.000000</td>\n",
       "      <td>1.000000</td>\n",
       "      <td>14.000000</td>\n",
       "      <td>0.0</td>\n",
       "      <td>0.0</td>\n",
       "      <td>1.235000</td>\n",
       "      <td>...</td>\n",
       "      <td>20.500000</td>\n",
       "      <td>0.0</td>\n",
       "      <td>0.0</td>\n",
       "      <td>0.0</td>\n",
       "      <td>0.0</td>\n",
       "      <td>0.0</td>\n",
       "      <td>0.0</td>\n",
       "      <td>0.0</td>\n",
       "      <td>0.0</td>\n",
       "      <td>1.235000</td>\n",
       "    </tr>\n",
       "  </tbody>\n",
       "</table>\n",
       "<p>8 rows × 23 columns</p>\n",
       "</div>"
      ],
      "text/plain": [
       "       NumMosquitos  Species_CULEX PIPIENS  Species_CULEX RESTUANS  \\\n",
       "count   8313.000000            8313.000000             8313.000000   \n",
       "mean      13.055936               0.254782                0.258390   \n",
       "std       16.266714               0.435765                0.437776   \n",
       "min        1.000000               0.000000                0.000000   \n",
       "25%        2.000000               0.000000                0.000000   \n",
       "50%        5.000000               0.000000                0.000000   \n",
       "75%       18.000000               1.000000                1.000000   \n",
       "max       50.000000               1.000000                1.000000   \n",
       "\n",
       "       Species_CULEX SALINARIUS  Species_CULEX TARSALIS  \\\n",
       "count               8313.000000             8313.000000   \n",
       "mean                   0.008421                0.000722   \n",
       "std                    0.091382                0.026858   \n",
       "min                    0.000000                0.000000   \n",
       "25%                    0.000000                0.000000   \n",
       "50%                    0.000000                0.000000   \n",
       "75%                    0.000000                0.000000   \n",
       "max                    1.000000                1.000000   \n",
       "\n",
       "       Species_CULEX TERRITANS         Heat   Depth  SnowFall  PrecipTotal  \\\n",
       "count              8313.000000  8313.000000  8313.0    8313.0  8313.000000   \n",
       "mean                  0.022134     0.864910     0.0       0.0     0.123172   \n",
       "std                   0.147128     2.659059     0.0       0.0     0.240267   \n",
       "min                   0.000000     0.000000     0.0       0.0     0.000000   \n",
       "25%                   0.000000     0.000000     0.0       0.0     0.000000   \n",
       "50%                   0.000000     0.000000     0.0       0.0     0.000000   \n",
       "75%                   0.000000     0.000000     0.0       0.0     0.100000   \n",
       "max                   1.000000    14.000000     0.0       0.0     1.235000   \n",
       "\n",
       "       ...  Cool_lag_21  Depth_lag_1  Depth_lag_7  Depth_lag_14  Depth_lag_21  \\\n",
       "count  ...  8313.000000       8313.0       8313.0        8313.0        8313.0   \n",
       "mean   ...     8.937628          0.0          0.0           0.0           0.0   \n",
       "std    ...     5.744583          0.0          0.0           0.0           0.0   \n",
       "min    ...     0.000000          0.0          0.0           0.0           0.0   \n",
       "25%    ...     5.000000          0.0          0.0           0.0           0.0   \n",
       "50%    ...     9.500000          0.0          0.0           0.0           0.0   \n",
       "75%    ...    14.500000          0.0          0.0           0.0           0.0   \n",
       "max    ...    20.500000          0.0          0.0           0.0           0.0   \n",
       "\n",
       "       SnowFall_lag_1  SnowFall_lag_7  SnowFall_lag_14  SnowFall_lag_21  \\\n",
       "count          8313.0          8313.0           8313.0           8313.0   \n",
       "mean              0.0             0.0              0.0              0.0   \n",
       "std               0.0             0.0              0.0              0.0   \n",
       "min               0.0             0.0              0.0              0.0   \n",
       "25%               0.0             0.0              0.0              0.0   \n",
       "50%               0.0             0.0              0.0              0.0   \n",
       "75%               0.0             0.0              0.0              0.0   \n",
       "max               0.0             0.0              0.0              0.0   \n",
       "\n",
       "       PrecipTotal_lag_21  \n",
       "count         8313.000000  \n",
       "mean             0.123713  \n",
       "std              0.240532  \n",
       "min              0.000000  \n",
       "25%              0.000000  \n",
       "50%              0.000000  \n",
       "75%              0.100000  \n",
       "max              1.235000  \n",
       "\n",
       "[8 rows x 23 columns]"
      ]
     },
     "execution_count": 10,
     "metadata": {},
     "output_type": "execute_result"
    }
   ],
   "source": [
    "final_df.describe()"
   ]
  },
  {
   "cell_type": "code",
   "execution_count": 11,
   "metadata": {},
   "outputs": [],
   "source": [
    "# It appears some of these columns are entirely 0 and of no use. Let's narrow it down to\n",
    "# the important stuff.\n",
    "\n",
    "final_df.drop(['Depth', 'SnowFall', 'Depth_lag_1', 'Depth_lag_7', 'Depth_lag_14', 'Depth_lag_21',\n",
    "              'SnowFall_lag_1', 'SnowFall_lag_7', 'SnowFall_lag_14', 'SnowFall_lag_21'],\n",
    "              axis=1, inplace=True)\n",
    "final_vif.drop(final_vif.index[13:23], axis=0, inplace=True)"
   ]
  },
  {
   "cell_type": "code",
   "execution_count": 12,
   "metadata": {},
   "outputs": [
    {
     "data": {
      "text/html": [
       "<div>\n",
       "<style scoped>\n",
       "    .dataframe tbody tr th:only-of-type {\n",
       "        vertical-align: middle;\n",
       "    }\n",
       "\n",
       "    .dataframe tbody tr th {\n",
       "        vertical-align: top;\n",
       "    }\n",
       "\n",
       "    .dataframe thead th {\n",
       "        text-align: right;\n",
       "    }\n",
       "</style>\n",
       "<table border=\"1\" class=\"dataframe\">\n",
       "  <thead>\n",
       "    <tr style=\"text-align: right;\">\n",
       "      <th></th>\n",
       "      <th>NumMosquitos</th>\n",
       "      <th>Species_CULEX PIPIENS</th>\n",
       "      <th>Species_CULEX RESTUANS</th>\n",
       "      <th>Species_CULEX SALINARIUS</th>\n",
       "      <th>Species_CULEX TARSALIS</th>\n",
       "      <th>Species_CULEX TERRITANS</th>\n",
       "      <th>Heat</th>\n",
       "      <th>PrecipTotal</th>\n",
       "      <th>ResultDir</th>\n",
       "      <th>Region</th>\n",
       "      <th>Heat_lag_21</th>\n",
       "      <th>Cool_lag_21</th>\n",
       "      <th>PrecipTotal_lag_21</th>\n",
       "    </tr>\n",
       "    <tr>\n",
       "      <th>Date</th>\n",
       "      <th></th>\n",
       "      <th></th>\n",
       "      <th></th>\n",
       "      <th></th>\n",
       "      <th></th>\n",
       "      <th></th>\n",
       "      <th></th>\n",
       "      <th></th>\n",
       "      <th></th>\n",
       "      <th></th>\n",
       "      <th></th>\n",
       "      <th></th>\n",
       "      <th></th>\n",
       "    </tr>\n",
       "  </thead>\n",
       "  <tbody>\n",
       "    <tr>\n",
       "      <th>2013-07-25</th>\n",
       "      <td>6</td>\n",
       "      <td>0</td>\n",
       "      <td>0</td>\n",
       "      <td>0</td>\n",
       "      <td>0</td>\n",
       "      <td>0</td>\n",
       "      <td>0.0</td>\n",
       "      <td>0.0</td>\n",
       "      <td>23.0</td>\n",
       "      <td>5</td>\n",
       "      <td>0.0</td>\n",
       "      <td>4.5</td>\n",
       "      <td>0.0</td>\n",
       "    </tr>\n",
       "    <tr>\n",
       "      <th>2013-09-26</th>\n",
       "      <td>5</td>\n",
       "      <td>0</td>\n",
       "      <td>0</td>\n",
       "      <td>0</td>\n",
       "      <td>0</td>\n",
       "      <td>0</td>\n",
       "      <td>0.0</td>\n",
       "      <td>0.0</td>\n",
       "      <td>11.0</td>\n",
       "      <td>3</td>\n",
       "      <td>0.0</td>\n",
       "      <td>1.0</td>\n",
       "      <td>0.0</td>\n",
       "    </tr>\n",
       "    <tr>\n",
       "      <th>2011-08-12</th>\n",
       "      <td>2</td>\n",
       "      <td>0</td>\n",
       "      <td>1</td>\n",
       "      <td>0</td>\n",
       "      <td>0</td>\n",
       "      <td>0</td>\n",
       "      <td>0.0</td>\n",
       "      <td>0.0</td>\n",
       "      <td>19.0</td>\n",
       "      <td>8</td>\n",
       "      <td>0.0</td>\n",
       "      <td>7.5</td>\n",
       "      <td>0.0</td>\n",
       "    </tr>\n",
       "    <tr>\n",
       "      <th>2007-07-11</th>\n",
       "      <td>6</td>\n",
       "      <td>0</td>\n",
       "      <td>0</td>\n",
       "      <td>0</td>\n",
       "      <td>0</td>\n",
       "      <td>0</td>\n",
       "      <td>0.0</td>\n",
       "      <td>0.0</td>\n",
       "      <td>30.0</td>\n",
       "      <td>5</td>\n",
       "      <td>0.0</td>\n",
       "      <td>2.0</td>\n",
       "      <td>0.0</td>\n",
       "    </tr>\n",
       "    <tr>\n",
       "      <th>2013-08-08</th>\n",
       "      <td>2</td>\n",
       "      <td>1</td>\n",
       "      <td>0</td>\n",
       "      <td>0</td>\n",
       "      <td>0</td>\n",
       "      <td>0</td>\n",
       "      <td>0.0</td>\n",
       "      <td>0.0</td>\n",
       "      <td>5.0</td>\n",
       "      <td>5</td>\n",
       "      <td>0.0</td>\n",
       "      <td>8.0</td>\n",
       "      <td>0.0</td>\n",
       "    </tr>\n",
       "  </tbody>\n",
       "</table>\n",
       "</div>"
      ],
      "text/plain": [
       "            NumMosquitos  Species_CULEX PIPIENS  Species_CULEX RESTUANS  \\\n",
       "Date                                                                      \n",
       "2013-07-25             6                      0                       0   \n",
       "2013-09-26             5                      0                       0   \n",
       "2011-08-12             2                      0                       1   \n",
       "2007-07-11             6                      0                       0   \n",
       "2013-08-08             2                      1                       0   \n",
       "\n",
       "            Species_CULEX SALINARIUS  Species_CULEX TARSALIS  \\\n",
       "Date                                                           \n",
       "2013-07-25                         0                       0   \n",
       "2013-09-26                         0                       0   \n",
       "2011-08-12                         0                       0   \n",
       "2007-07-11                         0                       0   \n",
       "2013-08-08                         0                       0   \n",
       "\n",
       "            Species_CULEX TERRITANS  Heat  PrecipTotal  ResultDir  Region  \\\n",
       "Date                                                                        \n",
       "2013-07-25                        0   0.0          0.0       23.0       5   \n",
       "2013-09-26                        0   0.0          0.0       11.0       3   \n",
       "2011-08-12                        0   0.0          0.0       19.0       8   \n",
       "2007-07-11                        0   0.0          0.0       30.0       5   \n",
       "2013-08-08                        0   0.0          0.0        5.0       5   \n",
       "\n",
       "            Heat_lag_21  Cool_lag_21  PrecipTotal_lag_21  \n",
       "Date                                                      \n",
       "2013-07-25          0.0          4.5                 0.0  \n",
       "2013-09-26          0.0          1.0                 0.0  \n",
       "2011-08-12          0.0          7.5                 0.0  \n",
       "2007-07-11          0.0          2.0                 0.0  \n",
       "2013-08-08          0.0          8.0                 0.0  "
      ]
     },
     "execution_count": 12,
     "metadata": {},
     "output_type": "execute_result"
    }
   ],
   "source": [
    "final_df.head()"
   ]
  },
  {
   "cell_type": "code",
   "execution_count": 13,
   "metadata": {},
   "outputs": [
    {
     "data": {
      "text/html": [
       "<div>\n",
       "<style scoped>\n",
       "    .dataframe tbody tr th:only-of-type {\n",
       "        vertical-align: middle;\n",
       "    }\n",
       "\n",
       "    .dataframe tbody tr th {\n",
       "        vertical-align: top;\n",
       "    }\n",
       "\n",
       "    .dataframe thead th {\n",
       "        text-align: right;\n",
       "    }\n",
       "</style>\n",
       "<table border=\"1\" class=\"dataframe\">\n",
       "  <thead>\n",
       "    <tr style=\"text-align: right;\">\n",
       "      <th></th>\n",
       "      <th>VIFactor</th>\n",
       "      <th>features</th>\n",
       "    </tr>\n",
       "  </thead>\n",
       "  <tbody>\n",
       "    <tr>\n",
       "      <th>0</th>\n",
       "      <td>1.007717</td>\n",
       "      <td>Species_CULEX TARSALIS</td>\n",
       "    </tr>\n",
       "    <tr>\n",
       "      <th>1</th>\n",
       "      <td>1.020086</td>\n",
       "      <td>Species_CULEX SALINARIUS</td>\n",
       "    </tr>\n",
       "    <tr>\n",
       "      <th>2</th>\n",
       "      <td>1.058026</td>\n",
       "      <td>Species_CULEX TERRITANS</td>\n",
       "    </tr>\n",
       "    <tr>\n",
       "      <th>3</th>\n",
       "      <td>1.500469</td>\n",
       "      <td>Species_CULEX PIPIENS</td>\n",
       "    </tr>\n",
       "    <tr>\n",
       "      <th>4</th>\n",
       "      <td>1.512638</td>\n",
       "      <td>Species_CULEX RESTUANS</td>\n",
       "    </tr>\n",
       "    <tr>\n",
       "      <th>5</th>\n",
       "      <td>1.705421</td>\n",
       "      <td>NumMosquitos</td>\n",
       "    </tr>\n",
       "    <tr>\n",
       "      <th>6</th>\n",
       "      <td>3.735686</td>\n",
       "      <td>PrecipTotal</td>\n",
       "    </tr>\n",
       "    <tr>\n",
       "      <th>7</th>\n",
       "      <td>3.794456</td>\n",
       "      <td>PrecipTotal_lag_21</td>\n",
       "    </tr>\n",
       "    <tr>\n",
       "      <th>8</th>\n",
       "      <td>4.090379</td>\n",
       "      <td>ResultDir</td>\n",
       "    </tr>\n",
       "    <tr>\n",
       "      <th>9</th>\n",
       "      <td>4.209629</td>\n",
       "      <td>Cool_lag_21</td>\n",
       "    </tr>\n",
       "    <tr>\n",
       "      <th>10</th>\n",
       "      <td>4.530008</td>\n",
       "      <td>Region</td>\n",
       "    </tr>\n",
       "    <tr>\n",
       "      <th>11</th>\n",
       "      <td>4.749748</td>\n",
       "      <td>Heat</td>\n",
       "    </tr>\n",
       "    <tr>\n",
       "      <th>12</th>\n",
       "      <td>4.963788</td>\n",
       "      <td>Heat_lag_21</td>\n",
       "    </tr>\n",
       "  </tbody>\n",
       "</table>\n",
       "</div>"
      ],
      "text/plain": [
       "    VIFactor                  features\n",
       "0   1.007717    Species_CULEX TARSALIS\n",
       "1   1.020086  Species_CULEX SALINARIUS\n",
       "2   1.058026   Species_CULEX TERRITANS\n",
       "3   1.500469     Species_CULEX PIPIENS\n",
       "4   1.512638    Species_CULEX RESTUANS\n",
       "5   1.705421              NumMosquitos\n",
       "6   3.735686               PrecipTotal\n",
       "7   3.794456        PrecipTotal_lag_21\n",
       "8   4.090379                 ResultDir\n",
       "9   4.209629               Cool_lag_21\n",
       "10  4.530008                    Region\n",
       "11  4.749748                      Heat\n",
       "12  4.963788               Heat_lag_21"
      ]
     },
     "execution_count": 13,
     "metadata": {},
     "output_type": "execute_result"
    }
   ],
   "source": [
    "final_vif"
   ]
  },
  {
   "cell_type": "code",
   "execution_count": 14,
   "metadata": {},
   "outputs": [
    {
     "data": {
      "text/plain": [
       "<seaborn.axisgrid.FacetGrid at 0x10e0014f0>"
      ]
     },
     "execution_count": 14,
     "metadata": {},
     "output_type": "execute_result"
    },
    {
     "data": {
      "image/png": "[encoded data removed]",
      "text/plain": [
       "<Figure size 360x360 with 1 Axes>"
      ]
     },
     "metadata": {
      "needs_background": "light"
     },
     "output_type": "display_data"
    }
   ],
   "source": [
    "# Visualizing feature importance.\n",
    "\n",
    "sns.catplot(x='VIFactor', y='features', data=final_vif, kind='bar', orient='h',\n",
    "           palette =\"flare\")"
   ]
  },
  {
   "cell_type": "code",
   "execution_count": 15,
   "metadata": {},
   "outputs": [
    {
     "data": {
      "text/html": [
       "<div>\n",
       "<style scoped>\n",
       "    .dataframe tbody tr th:only-of-type {\n",
       "        vertical-align: middle;\n",
       "    }\n",
       "\n",
       "    .dataframe tbody tr th {\n",
       "        vertical-align: top;\n",
       "    }\n",
       "\n",
       "    .dataframe thead th {\n",
       "        text-align: right;\n",
       "    }\n",
       "</style>\n",
       "<table border=\"1\" class=\"dataframe\">\n",
       "  <thead>\n",
       "    <tr style=\"text-align: right;\">\n",
       "      <th></th>\n",
       "      <th>NumMosquitos</th>\n",
       "      <th>Species_CULEX PIPIENS</th>\n",
       "      <th>Species_CULEX RESTUANS</th>\n",
       "      <th>Species_CULEX SALINARIUS</th>\n",
       "      <th>Species_CULEX TARSALIS</th>\n",
       "      <th>Species_CULEX TERRITANS</th>\n",
       "      <th>Heat</th>\n",
       "      <th>PrecipTotal</th>\n",
       "      <th>ResultDir</th>\n",
       "      <th>Region</th>\n",
       "      <th>Heat_lag_21</th>\n",
       "      <th>Cool_lag_21</th>\n",
       "      <th>PrecipTotal_lag_21</th>\n",
       "    </tr>\n",
       "    <tr>\n",
       "      <th>Date</th>\n",
       "      <th></th>\n",
       "      <th></th>\n",
       "      <th></th>\n",
       "      <th></th>\n",
       "      <th></th>\n",
       "      <th></th>\n",
       "      <th></th>\n",
       "      <th></th>\n",
       "      <th></th>\n",
       "      <th></th>\n",
       "      <th></th>\n",
       "      <th></th>\n",
       "      <th></th>\n",
       "    </tr>\n",
       "  </thead>\n",
       "  <tbody>\n",
       "    <tr>\n",
       "      <th>2007-05-29</th>\n",
       "      <td>1</td>\n",
       "      <td>0</td>\n",
       "      <td>0</td>\n",
       "      <td>0</td>\n",
       "      <td>0</td>\n",
       "      <td>0</td>\n",
       "      <td>0.0</td>\n",
       "      <td>0.00</td>\n",
       "      <td>17.5</td>\n",
       "      <td>7</td>\n",
       "      <td>0.0</td>\n",
       "      <td>12.0</td>\n",
       "      <td>0.00</td>\n",
       "    </tr>\n",
       "    <tr>\n",
       "      <th>2007-05-29</th>\n",
       "      <td>1</td>\n",
       "      <td>0</td>\n",
       "      <td>1</td>\n",
       "      <td>0</td>\n",
       "      <td>0</td>\n",
       "      <td>0</td>\n",
       "      <td>0.0</td>\n",
       "      <td>0.00</td>\n",
       "      <td>17.5</td>\n",
       "      <td>3</td>\n",
       "      <td>0.0</td>\n",
       "      <td>12.0</td>\n",
       "      <td>0.00</td>\n",
       "    </tr>\n",
       "    <tr>\n",
       "      <th>2007-05-29</th>\n",
       "      <td>1</td>\n",
       "      <td>0</td>\n",
       "      <td>1</td>\n",
       "      <td>0</td>\n",
       "      <td>0</td>\n",
       "      <td>0</td>\n",
       "      <td>0.0</td>\n",
       "      <td>0.00</td>\n",
       "      <td>17.5</td>\n",
       "      <td>4</td>\n",
       "      <td>0.0</td>\n",
       "      <td>12.0</td>\n",
       "      <td>0.00</td>\n",
       "    </tr>\n",
       "    <tr>\n",
       "      <th>2007-06-05</th>\n",
       "      <td>3</td>\n",
       "      <td>0</td>\n",
       "      <td>1</td>\n",
       "      <td>0</td>\n",
       "      <td>0</td>\n",
       "      <td>0</td>\n",
       "      <td>7.5</td>\n",
       "      <td>0.14</td>\n",
       "      <td>10.0</td>\n",
       "      <td>6</td>\n",
       "      <td>7.5</td>\n",
       "      <td>0.0</td>\n",
       "      <td>0.14</td>\n",
       "    </tr>\n",
       "    <tr>\n",
       "      <th>2007-06-05</th>\n",
       "      <td>1</td>\n",
       "      <td>0</td>\n",
       "      <td>0</td>\n",
       "      <td>0</td>\n",
       "      <td>0</td>\n",
       "      <td>0</td>\n",
       "      <td>7.5</td>\n",
       "      <td>0.14</td>\n",
       "      <td>10.0</td>\n",
       "      <td>7</td>\n",
       "      <td>7.5</td>\n",
       "      <td>0.0</td>\n",
       "      <td>0.14</td>\n",
       "    </tr>\n",
       "    <tr>\n",
       "      <th>2007-06-05</th>\n",
       "      <td>1</td>\n",
       "      <td>0</td>\n",
       "      <td>1</td>\n",
       "      <td>0</td>\n",
       "      <td>0</td>\n",
       "      <td>0</td>\n",
       "      <td>7.5</td>\n",
       "      <td>0.14</td>\n",
       "      <td>10.0</td>\n",
       "      <td>7</td>\n",
       "      <td>7.5</td>\n",
       "      <td>0.0</td>\n",
       "      <td>0.14</td>\n",
       "    </tr>\n",
       "    <tr>\n",
       "      <th>2007-06-05</th>\n",
       "      <td>1</td>\n",
       "      <td>1</td>\n",
       "      <td>0</td>\n",
       "      <td>0</td>\n",
       "      <td>0</td>\n",
       "      <td>0</td>\n",
       "      <td>7.5</td>\n",
       "      <td>0.14</td>\n",
       "      <td>10.0</td>\n",
       "      <td>2</td>\n",
       "      <td>7.5</td>\n",
       "      <td>0.0</td>\n",
       "      <td>0.14</td>\n",
       "    </tr>\n",
       "    <tr>\n",
       "      <th>2007-06-05</th>\n",
       "      <td>1</td>\n",
       "      <td>0</td>\n",
       "      <td>1</td>\n",
       "      <td>0</td>\n",
       "      <td>0</td>\n",
       "      <td>0</td>\n",
       "      <td>7.5</td>\n",
       "      <td>0.14</td>\n",
       "      <td>10.0</td>\n",
       "      <td>5</td>\n",
       "      <td>0.0</td>\n",
       "      <td>12.0</td>\n",
       "      <td>0.00</td>\n",
       "    </tr>\n",
       "    <tr>\n",
       "      <th>2007-06-05</th>\n",
       "      <td>1</td>\n",
       "      <td>0</td>\n",
       "      <td>1</td>\n",
       "      <td>0</td>\n",
       "      <td>0</td>\n",
       "      <td>0</td>\n",
       "      <td>7.5</td>\n",
       "      <td>0.14</td>\n",
       "      <td>10.0</td>\n",
       "      <td>5</td>\n",
       "      <td>0.0</td>\n",
       "      <td>12.0</td>\n",
       "      <td>0.00</td>\n",
       "    </tr>\n",
       "    <tr>\n",
       "      <th>2007-06-05</th>\n",
       "      <td>2</td>\n",
       "      <td>0</td>\n",
       "      <td>1</td>\n",
       "      <td>0</td>\n",
       "      <td>0</td>\n",
       "      <td>0</td>\n",
       "      <td>7.5</td>\n",
       "      <td>0.14</td>\n",
       "      <td>10.0</td>\n",
       "      <td>8</td>\n",
       "      <td>7.5</td>\n",
       "      <td>0.0</td>\n",
       "      <td>0.14</td>\n",
       "    </tr>\n",
       "  </tbody>\n",
       "</table>\n",
       "</div>"
      ],
      "text/plain": [
       "            NumMosquitos  Species_CULEX PIPIENS  Species_CULEX RESTUANS  \\\n",
       "Date                                                                      \n",
       "2007-05-29             1                      0                       0   \n",
       "2007-05-29             1                      0                       1   \n",
       "2007-05-29             1                      0                       1   \n",
       "2007-06-05             3                      0                       1   \n",
       "2007-06-05             1                      0                       0   \n",
       "2007-06-05             1                      0                       1   \n",
       "2007-06-05             1                      1                       0   \n",
       "2007-06-05             1                      0                       1   \n",
       "2007-06-05             1                      0                       1   \n",
       "2007-06-05             2                      0                       1   \n",
       "\n",
       "            Species_CULEX SALINARIUS  Species_CULEX TARSALIS  \\\n",
       "Date                                                           \n",
       "2007-05-29                         0                       0   \n",
       "2007-05-29                         0                       0   \n",
       "2007-05-29                         0                       0   \n",
       "2007-06-05                         0                       0   \n",
       "2007-06-05                         0                       0   \n",
       "2007-06-05                         0                       0   \n",
       "2007-06-05                         0                       0   \n",
       "2007-06-05                         0                       0   \n",
       "2007-06-05                         0                       0   \n",
       "2007-06-05                         0                       0   \n",
       "\n",
       "            Species_CULEX TERRITANS  Heat  PrecipTotal  ResultDir  Region  \\\n",
       "Date                                                                        \n",
       "2007-05-29                        0   0.0         0.00       17.5       7   \n",
       "2007-05-29                        0   0.0         0.00       17.5       3   \n",
       "2007-05-29                        0   0.0         0.00       17.5       4   \n",
       "2007-06-05                        0   7.5         0.14       10.0       6   \n",
       "2007-06-05                        0   7.5         0.14       10.0       7   \n",
       "2007-06-05                        0   7.5         0.14       10.0       7   \n",
       "2007-06-05                        0   7.5         0.14       10.0       2   \n",
       "2007-06-05                        0   7.5         0.14       10.0       5   \n",
       "2007-06-05                        0   7.5         0.14       10.0       5   \n",
       "2007-06-05                        0   7.5         0.14       10.0       8   \n",
       "\n",
       "            Heat_lag_21  Cool_lag_21  PrecipTotal_lag_21  \n",
       "Date                                                      \n",
       "2007-05-29          0.0         12.0                0.00  \n",
       "2007-05-29          0.0         12.0                0.00  \n",
       "2007-05-29          0.0         12.0                0.00  \n",
       "2007-06-05          7.5          0.0                0.14  \n",
       "2007-06-05          7.5          0.0                0.14  \n",
       "2007-06-05          7.5          0.0                0.14  \n",
       "2007-06-05          7.5          0.0                0.14  \n",
       "2007-06-05          0.0         12.0                0.00  \n",
       "2007-06-05          0.0         12.0                0.00  \n",
       "2007-06-05          7.5          0.0                0.14  "
      ]
     },
     "execution_count": 15,
     "metadata": {},
     "output_type": "execute_result"
    }
   ],
   "source": [
    "final_df.sort_index(inplace=True)\n",
    "final_df.head(10)"
   ]
  },
  {
   "cell_type": "code",
   "execution_count": 16,
   "metadata": {},
   "outputs": [
    {
     "data": {
      "text/plain": [
       "Index(['NumMosquitos', 'Species_CULEX PIPIENS', 'Species_CULEX RESTUANS',\n",
       "       'Species_CULEX SALINARIUS', 'Species_CULEX TARSALIS',\n",
       "       'Species_CULEX TERRITANS', 'Heat', 'PrecipTotal', 'ResultDir', 'Region',\n",
       "       'Heat_lag_21', 'Cool_lag_21', 'PrecipTotal_lag_21'],\n",
       "      dtype='object')"
      ]
     },
     "execution_count": 16,
     "metadata": {},
     "output_type": "execute_result"
    }
   ],
   "source": [
    "# As the final pre-processing step, I will subset X_train and X_test on final_df, which \n",
    "# shows which columns are of use.\n",
    "\n",
    "X_train = X_train[final_df.columns]\n",
    "X_train.columns"
   ]
  },
  {
   "cell_type": "code",
   "execution_count": 17,
   "metadata": {},
   "outputs": [
    {
     "data": {
      "text/plain": [
       "Index(['NumMosquitos', 'Species_CULEX PIPIENS', 'Species_CULEX RESTUANS',\n",
       "       'Species_CULEX SALINARIUS', 'Species_CULEX TARSALIS',\n",
       "       'Species_CULEX TERRITANS', 'Heat', 'PrecipTotal', 'ResultDir', 'Region',\n",
       "       'Heat_lag_21', 'Cool_lag_21', 'PrecipTotal_lag_21'],\n",
       "      dtype='object')"
      ]
     },
     "execution_count": 17,
     "metadata": {},
     "output_type": "execute_result"
    }
   ],
   "source": [
    "X_test = X_test[final_df.columns]\n",
    "X_test.columns"
   ]
  },
  {
   "cell_type": "markdown",
   "metadata": {},
   "source": [
    "## Modeling"
   ]
  },
  {
   "cell_type": "markdown",
   "metadata": {},
   "source": [
    "Now that the data is prepped for modeling, it is time to implement these models. I will be using 3 different models, and determining which is the best fit for predicting the target feature, Wnv_Present. These models will include a random forest model, two logistic regression models, and an XG boost model."
   ]
  },
  {
   "cell_type": "code",
   "execution_count": 106,
   "metadata": {},
   "outputs": [],
   "source": [
    "from sklearn.metrics import precision_recall_curve\n",
    "from sklearn.metrics import f1_score\n",
    "from sklearn.metrics import auc\n",
    "from sklearn.linear_model import LogisticRegression\n",
    "from matplotlib import pyplot\n",
    "from sklearn.metrics import precision_recall_curve\n",
    "from sklearn.metrics import f1_score\n",
    "from sklearn.metrics import auc\n",
    "from sklearn.ensemble import RandomForestClassifier\n",
    "from sklearn.metrics import classification_report, confusion_matrix, roc_curve, roc_auc_score\n",
    "from sklearn.metrics import plot_roc_curve\n",
    "from sklearn.metrics import accuracy_score, log_loss\n",
    "from sklearn.pipeline import Pipeline\n",
    "from sklearn.pipeline import make_pipeline\n",
    "from sklearn.preprocessing import StandardScaler\n",
    "from sklearn.model_selection import GridSearchCV"
   ]
  },
  {
   "cell_type": "code",
   "execution_count": 114,
   "metadata": {},
   "outputs": [],
   "source": [
    "def model_evaluation(model,params,avg):\n",
    "    '''Creates classification report and plots the roc curve of the model.'''\n",
    "    pipe = make_pipeline(StandardScaler(),model)\n",
    "    model_ran = RandomizedSearchCV(pipe,params,cv=10, n_jobs=-1, scoring = 'roc_auc',random_state = 42)\n",
    "    model_ran = model_ran.fit(X_train,y_train)\n",
    "    y_pred = model_ran.predict(X_test)\n",
    "    y_pred_proba = model_ran.predict_proba(X_test)[:,1]\n",
    "    f1 = f1_score(y_test, y_pred, average= avg)\n",
    "    cm = confusion_matrix(y_test, y_pred)\n",
    "    model_roc_auc = roc_auc_score(y_test, y_pred_proba)\n",
    "    \n",
    "    print('F1-score: ' , round(f1,4))\n",
    "    print(\"Best Score: \" , round(model_ran.best_score_,4))\n",
    "    print(\"Test ROC AUC:\", round(model_roc_auc, 4), '\\n')\n",
    "    print(\"Best Parameters: \" , model_ran.best_params_)\n",
    "    print(\"Confusion Matrix: \" ,'\\n', cm, '\\n')\n",
    "    print(\"Classsification Report: \",'\\n', classification_report(y_test, y_pred))\n",
    "\n",
    "    y_pred_proba=model_ran.predict_proba(X_test)[:,1]\n",
    "    fpr, tpr, thresholds = roc_curve(y_test, y_pred_proba)\n",
    "    \n",
    "    plt.figure()\n",
    "    plt.plot(fpr, tpr, label= 'Model (area = %0.2f)' % model_roc_auc)\n",
    "    plt.plot([0, 1], [0, 1],'r--')\n",
    "    plt.xlim([0.0, 1.0])\n",
    "    plt.ylim([0.0, 1.05])\n",
    "    plt.xlabel('False Positive Rate')\n",
    "    plt.ylabel('True Positive Rate')\n",
    "    plt.title('Receiver operating characteristic')\n",
    "    plt.legend(loc=\"lower right\")"
   ]
  },
  {
   "cell_type": "markdown",
   "metadata": {},
   "source": [
    "### Fit Random Forest Classifier"
   ]
  },
  {
   "cell_type": "code",
   "execution_count": 112,
   "metadata": {},
   "outputs": [
    {
     "name": "stdout",
     "output_type": "stream",
     "text": [
      "F1-score:  0.0\n",
      "Best Score:  0.8498\n",
      "Test ROC AUC: 0.838 \n",
      "\n",
      "Best Parameters:  {'randomforestclassifier__n_estimators': 2000, 'randomforestclassifier__min_samples_split': 3, 'randomforestclassifier__max_features': 'sqrt', 'randomforestclassifier__max_depth': 8, 'randomforestclassifier__criterion': 'entropy'}\n",
      "Confusion Matrix:  \n",
      " [[1969    0]\n",
      " [ 110    0]] \n",
      "\n",
      "Classsification Report:  \n",
      "               precision    recall  f1-score   support\n",
      "\n",
      "           0       0.95      1.00      0.97      1969\n",
      "           1       0.00      0.00      0.00       110\n",
      "\n",
      "    accuracy                           0.95      2079\n",
      "   macro avg       0.47      0.50      0.49      2079\n",
      "weighted avg       0.90      0.95      0.92      2079\n",
      "\n"
     ]
    },
    {
     "name": "stderr",
     "output_type": "stream",
     "text": [
      "Precision and F-score are ill-defined and being set to 0.0 in labels with no predicted samples. Use `zero_division` parameter to control this behavior.\n"
     ]
    },
    {
     "data": {
      "image/png": "[encoded data removed]",
      "text/plain": [
       "<Figure size 432x288 with 1 Axes>"
      ]
     },
     "metadata": {
      "needs_background": "light"
     },
     "output_type": "display_data"
    }
   ],
   "source": [
    "params= { 'randomforestclassifier__n_estimators':[500, 600, 800, 1000, 1500, 1800, 2000], \n",
    "             'randomforestclassifier__max_features':['auto', 'sqrt', 'log2'], \n",
    "             'randomforestclassifier__max_depth':np.arange(4,20), \n",
    "             'randomforestclassifier__criterion':['gini', 'entropy'],\n",
    "            'randomforestclassifier__min_samples_split' : [2, 3, 4] }\n",
    "avg= 'binary'\n",
    "\n",
    "model_evaluation(RandomForestClassifier(), params, avg)"
   ]
  },
  {
   "cell_type": "markdown",
   "metadata": {},
   "source": [
    "### Fit Logistic Regression Classifier"
   ]
  },
  {
   "cell_type": "code",
   "execution_count": 117,
   "metadata": {},
   "outputs": [
    {
     "name": "stdout",
     "output_type": "stream",
     "text": [
      "F1-score:  0.0\n",
      "Best Score:  0.7623\n",
      "Test ROC AUC: 0.7624 \n",
      "\n",
      "Best Parameters:  {'logisticregression__penalty': 'l2', 'logisticregression__C': 2.0}\n",
      "Confusion Matrix:  \n",
      " [[1969    0]\n",
      " [ 110    0]] \n",
      "\n",
      "Classsification Report:  \n",
      "               precision    recall  f1-score   support\n",
      "\n",
      "           0       0.95      1.00      0.97      1969\n",
      "           1       0.00      0.00      0.00       110\n",
      "\n",
      "    accuracy                           0.95      2079\n",
      "   macro avg       0.47      0.50      0.49      2079\n",
      "weighted avg       0.90      0.95      0.92      2079\n",
      "\n"
     ]
    },
    {
     "name": "stderr",
     "output_type": "stream",
     "text": [
      "Precision and F-score are ill-defined and being set to 0.0 in labels with no predicted samples. Use `zero_division` parameter to control this behavior.\n"
     ]
    },
    {
     "data": {
      "image/png": "[encoded data removed]",
      "text/plain": [
       "<Figure size 432x288 with 1 Axes>"
      ]
     },
     "metadata": {
      "needs_background": "light"
     },
     "output_type": "display_data"
    }
   ],
   "source": [
    "# First logistic regression model\n",
    "\n",
    "logit1_params = {'logisticregression__penalty':['l1','l2','elasticnet'], \n",
    "                'logisticregression__C':np.arange(0.5, 100.0, 0.5) }\n",
    "\n",
    "logit1 = LogisticRegression()\n",
    "model_evaluation(logit1, logit1_params, avg)"
   ]
  },
  {
   "cell_type": "code",
   "execution_count": 118,
   "metadata": {},
   "outputs": [
    {
     "name": "stdout",
     "output_type": "stream",
     "text": [
      "F1-score:  0.2293\n",
      "Best Score:  0.769\n",
      "Test ROC AUC: 0.7651 \n",
      "\n",
      "Best Parameters:  {'logisticregression__penalty': 'l2', 'logisticregression__class_weight': 'balanced', 'logisticregression__C': 2.0}\n",
      "Confusion Matrix:  \n",
      " [[1469  500]\n",
      " [  31   79]] \n",
      "\n",
      "Classsification Report:  \n",
      "               precision    recall  f1-score   support\n",
      "\n",
      "           0       0.98      0.75      0.85      1969\n",
      "           1       0.14      0.72      0.23       110\n",
      "\n",
      "    accuracy                           0.74      2079\n",
      "   macro avg       0.56      0.73      0.54      2079\n",
      "weighted avg       0.93      0.74      0.81      2079\n",
      "\n"
     ]
    },
    {
     "data": {
      "image/png": "[encoded data removed]",
      "text/plain": [
       "<Figure size 432x288 with 1 Axes>"
      ]
     },
     "metadata": {
      "needs_background": "light"
     },
     "output_type": "display_data"
    }
   ],
   "source": [
    "# Second logistic regression model\n",
    "\n",
    "logit2_params = {'logisticregression__penalty':['l1','l2','elasticnet'], \n",
    "                 'logisticregression__class_weight':['balanced'], \n",
    "                'logisticregression__C':np.arange(0.5, 100.0, 0.5)}\n",
    "logit2 = LogisticRegression()\n",
    "\n",
    "model_evaluation(logit2, logit2_params, avg)"
   ]
  },
  {
   "cell_type": "markdown",
   "metadata": {},
   "source": [
    "Better than first model."
   ]
  },
  {
   "cell_type": "markdown",
   "metadata": {},
   "source": [
    "### Fit XG Boost Classifier"
   ]
  },
  {
   "cell_type": "code",
   "execution_count": 119,
   "metadata": {},
   "outputs": [
    {
     "name": "stderr",
     "output_type": "stream",
     "text": [
      "The total space of parameters 6 is smaller than n_iter=10. Running 6 iterations. For exhaustive searches, use GridSearchCV.\n",
      "The use of label encoder in XGBClassifier is deprecated and will be removed in a future release. To remove this warning, do the following: 1) Pass option use_label_encoder=False when constructing XGBClassifier object; and 2) Encode your labels (y) as integers starting with 0, i.e. 0, 1, 2, ..., [num_class - 1].\n"
     ]
    },
    {
     "name": "stdout",
     "output_type": "stream",
     "text": [
      "[12:18:08] WARNING: /private/var/folders/rg/vb03dfw167593y158dqrs8200000gn/T/pip-install-h2anl8uv/xgboost/build/temp.macosx-10.9-x86_64-3.8/xgboost/src/learner.cc:573: \n",
      "Parameters: { \"silent\" } might not be used.\n",
      "\n",
      "  This may not be accurate due to some parameters are only used in language bindings but\n",
      "  passed down to XGBoost core.  Or some parameters are not used but slip through this\n",
      "  verification. Please open an issue if you find above cases.\n",
      "\n",
      "\n",
      "[12:18:08] WARNING: /private/var/folders/rg/vb03dfw167593y158dqrs8200000gn/T/pip-install-h2anl8uv/xgboost/build/temp.macosx-10.9-x86_64-3.8/xgboost/src/learner.cc:1095: Starting in XGBoost 1.3.0, the default evaluation metric used with the objective 'binary:logistic' was changed from 'error' to 'logloss'. Explicitly set eval_metric if you'd like to restore the old behavior.\n",
      "F1-score:  0.0678\n",
      "Best Score:  0.8621\n",
      "Test ROC AUC: 0.8554 \n",
      "\n",
      "Best Parameters:  {'xgbclassifier__subsample': 0.89, 'xgbclassifier__silent': 1, 'xgbclassifier__seed': 27, 'xgbclassifier__objective': 'binary:logistic', 'xgbclassifier__nthread': 10, 'xgbclassifier__n_estimators': 1000, 'xgbclassifier__min_child_weight': 1, 'xgbclassifier__max_depth': 2, 'xgbclassifier__learning_rate': 0.05, 'xgbclassifier__colsample_bytree': 0.58}\n",
      "Confusion Matrix:  \n",
      " [[1965    4]\n",
      " [ 106    4]] \n",
      "\n",
      "Classsification Report:  \n",
      "               precision    recall  f1-score   support\n",
      "\n",
      "           0       0.95      1.00      0.97      1969\n",
      "           1       0.50      0.04      0.07       110\n",
      "\n",
      "    accuracy                           0.95      2079\n",
      "   macro avg       0.72      0.52      0.52      2079\n",
      "weighted avg       0.93      0.95      0.92      2079\n",
      "\n"
     ]
    },
    {
     "data": {
      "image/png": "[encoded data removed]",
      "text/plain": [
       "<Figure size 432x288 with 1 Axes>"
      ]
     },
     "metadata": {
      "needs_background": "light"
     },
     "output_type": "display_data"
    }
   ],
   "source": [
    "from xgboost import XGBClassifier\n",
    "\n",
    "\n",
    "xg_params= {'xgbclassifier__nthread':[10], # when use hyperthread, xgboost may become slower\n",
    "              'xgbclassifier__objective':['binary:logistic'],\n",
    "              'xgbclassifier__learning_rate':[0.05], # so called `eta` value\n",
    "              'xgbclassifier__max_depth':[2],\n",
    "              'xgbclassifier__min_child_weight':[1],\n",
    "              'xgbclassifier__silent':[1],\n",
    "              'xgbclassifier__subsample':[.89,.91,.895],\n",
    "              'xgbclassifier__colsample_bytree':[.58,.585],\n",
    "              'xgbclassifier__n_estimators':[1000],\n",
    "             'xgbclassifier__seed':[27]} # number of trees, change it to 1000 for better results \n",
    "\n",
    "xgb = XGBClassifier()\n",
    "\n",
    "model_evaluation(XGBClassifier(), xg_params, avg)"
   ]
  },
  {
   "cell_type": "markdown",
   "metadata": {},
   "source": [
    "The XG Boost model preformed the best, with the highest auc of 0.86. I will now use shap analysis to explain the model, but first I must fit the model outside of the function it was fit inside of."
   ]
  },
  {
   "cell_type": "code",
   "execution_count": 129,
   "metadata": {},
   "outputs": [
    {
     "name": "stderr",
     "output_type": "stream",
     "text": [
      "The use of label encoder in XGBClassifier is deprecated and will be removed in a future release. To remove this warning, do the following: 1) Pass option use_label_encoder=False when constructing XGBClassifier object; and 2) Encode your labels (y) as integers starting with 0, i.e. 0, 1, 2, ..., [num_class - 1].\n"
     ]
    },
    {
     "name": "stdout",
     "output_type": "stream",
     "text": [
      "[13:27:08] WARNING: /private/var/folders/rg/vb03dfw167593y158dqrs8200000gn/T/pip-install-h2anl8uv/xgboost/build/temp.macosx-10.9-x86_64-3.8/xgboost/src/learner.cc:573: \n",
      "Parameters: { \"silent\" } might not be used.\n",
      "\n",
      "  This may not be accurate due to some parameters are only used in language bindings but\n",
      "  passed down to XGBoost core.  Or some parameters are not used but slip through this\n",
      "  verification. Please open an issue if you find above cases.\n",
      "\n",
      "\n",
      "[13:27:08] WARNING: /private/var/folders/rg/vb03dfw167593y158dqrs8200000gn/T/pip-install-h2anl8uv/xgboost/build/temp.macosx-10.9-x86_64-3.8/xgboost/src/learner.cc:1095: Starting in XGBoost 1.3.0, the default evaluation metric used with the objective 'binary:logistic' was changed from 'error' to 'logloss'. Explicitly set eval_metric if you'd like to restore the old behavior.\n",
      "F1-score:  0.0678\n",
      "ROC AUC: 0.8554 \n",
      "\n",
      "Confusion Matrix:  \n",
      " [[1965    4]\n",
      " [ 106    4]] \n",
      "\n",
      "Classsification Report:  \n",
      "               precision    recall  f1-score   support\n",
      "\n",
      "           0       0.95      1.00      0.97      1969\n",
      "           1       0.50      0.04      0.07       110\n",
      "\n",
      "    accuracy                           0.95      2079\n",
      "   macro avg       0.72      0.52      0.52      2079\n",
      "weighted avg       0.93      0.95      0.92      2079\n",
      "\n"
     ]
    },
    {
     "data": {
      "text/plain": [
       "<matplotlib.legend.Legend at 0x12c26b8e0>"
      ]
     },
     "execution_count": 129,
     "metadata": {},
     "output_type": "execute_result"
    },
    {
     "data": {
      "image/png": "[encoded data removed]",
      "text/plain": [
       "<Figure size 432x288 with 1 Axes>"
      ]
     },
     "metadata": {
      "needs_background": "light"
     },
     "output_type": "display_data"
    }
   ],
   "source": [
    "xgb = XGBClassifier(subsample=0.89, \n",
    "                   silent=1, \n",
    "                   seed=27, \n",
    "                   objective= 'binary:logistic', \n",
    "                   nthread=10, \n",
    "                   n_estimators=1000, \n",
    "                   min_child_weight=1, \n",
    "                   max_depth=2, \n",
    "                   learning_rate=0.05, \n",
    "                   colsample_bytree=0.58)\n",
    "\n",
    "xgb.fit(X_train,y_train)\n",
    "y_pred = xgb.predict(X_test)\n",
    "y_pred_proba = xgb.predict_proba(X_test)[:,1]\n",
    "\n",
    "f1 = f1_score(y_test, y_pred, average= 'binary')\n",
    "cm = confusion_matrix(y_test, y_pred)\n",
    "model_roc_auc = roc_auc_score(y_test, y_pred_proba)\n",
    "\n",
    "print('F1-score: ' , round(f1,4))\n",
    "print(\"ROC AUC:\", round(model_roc_auc, 4), '\\n')\n",
    "print(\"Confusion Matrix: \" ,'\\n', cm, '\\n')\n",
    "print(\"Classsification Report: \",'\\n', classification_report(y_test, y_pred))\n",
    "y_pred_proba=xgb.predict_proba(X_test)[:,1]\n",
    "fpr, tpr, thresholds = roc_curve(y_test, y_pred_proba)\n",
    "\n",
    "plt.figure()\n",
    "plt.plot(fpr, tpr, label= 'Model (area = %0.2f)' % model_roc_auc)\n",
    "plt.plot([0, 1], [0, 1],'r--')\n",
    "plt.xlim([0.0, 1.0])\n",
    "plt.ylim([0.0, 1.05])\n",
    "plt.xlabel('False Positive Rate')\n",
    "plt.ylabel('True Positive Rate')\n",
    "plt.title('Receiver operating characteristic')\n",
    "plt.legend(loc=\"lower right\")"
   ]
  },
  {
   "cell_type": "markdown",
   "metadata": {},
   "source": [
    "### Variable Importance Plot"
   ]
  },
  {
   "cell_type": "code",
   "execution_count": 130,
   "metadata": {},
   "outputs": [
    {
     "name": "stderr",
     "output_type": "stream",
     "text": [
      "ntree_limit is deprecated, use `iteration_range` or model slicing instead.\n"
     ]
    }
   ],
   "source": [
    "import shap\n",
    "\n",
    "explainer = shap.TreeExplainer(xgb)\n",
    "shap_values = explainer.shap_values(X_train)"
   ]
  },
  {
   "cell_type": "code",
   "execution_count": 131,
   "metadata": {},
   "outputs": [
    {
     "data": {
      "image/png": "[encoded data removed]",
      "text/plain": [
       "<Figure size 576x482.4 with 1 Axes>"
      ]
     },
     "metadata": {
      "needs_background": "light"
     },
     "output_type": "display_data"
    }
   ],
   "source": [
    "shap.summary_plot(shap_values, X_train, plot_type=\"bar\")"
   ]
  },
  {
   "cell_type": "markdown",
   "metadata": {},
   "source": [
    "### Summary Plot"
   ]
  },
  {
   "cell_type": "code",
   "execution_count": 132,
   "metadata": {},
   "outputs": [
    {
     "data": {
      "image/png": "[encoded data removed]",
      "text/plain": [
       "<Figure size 576x482.4 with 2 Axes>"
      ]
     },
     "metadata": {
      "needs_background": "light"
     },
     "output_type": "display_data"
    }
   ],
   "source": [
    "shap.summary_plot(shap_values, X_train)"
   ]
  },
  {
   "cell_type": "markdown",
   "metadata": {},
   "source": [
    "- **Feature importance**: From top to bottom, features are ranked in order of importance.\n",
    "\n",
    "- **Impact**: The horizontal position shows whether the effect of the value is associated with a higher or lower prediction.\n",
    "\n",
    "- **Original value**: Color shows whether that variable is high (in red) or low (in blue) for that observation.\n",
    "\n",
    "- **Correlation**: A high level of the “NumMosquitos” has a high positive impact on the quality rating, and a low negative, which means the same. The “high” comes from the red color, and the “positive” impact is shown on the x-axis. Similarly, we can say “Species_CULEX RESTUANS” is negatively correlated with the target variable."
   ]
  },
  {
   "cell_type": "markdown",
   "metadata": {},
   "source": [
    "### Dependence Plots\n",
    "(For top 5 features)"
   ]
  },
  {
   "cell_type": "markdown",
   "metadata": {},
   "source": [
    "The dependence plot shows the marginal effect one or two features have on the predicted outcome of a machine learning model. It tells whether the relationship between the target and a feature is linear, monotonic, or more complex."
   ]
  },
  {
   "cell_type": "code",
   "execution_count": 133,
   "metadata": {},
   "outputs": [
    {
     "name": "stderr",
     "output_type": "stream",
     "text": [
      "Passing parameters norm and vmin/vmax simultaneously is deprecated since 3.3 and will become an error two minor releases later. Please pass vmin/vmax directly to the norm when creating it.\n"
     ]
    },
    {
     "data": {
      "image/png": "[encoded data removed]",
      "text/plain": [
       "<Figure size 540x360 with 2 Axes>"
      ]
     },
     "metadata": {
      "needs_background": "light"
     },
     "output_type": "display_data"
    }
   ],
   "source": [
    "shap.dependence_plot('NumMosquitos', shap_values, X_train)"
   ]
  },
  {
   "cell_type": "code",
   "execution_count": 134,
   "metadata": {},
   "outputs": [
    {
     "data": {
      "image/png": "[encoded data removed]",
      "text/plain": [
       "<Figure size 540x360 with 2 Axes>"
      ]
     },
     "metadata": {
      "needs_background": "light"
     },
     "output_type": "display_data"
    }
   ],
   "source": [
    "shap.dependence_plot('Cool_lag_21', shap_values, X_train)"
   ]
  },
  {
   "cell_type": "code",
   "execution_count": 135,
   "metadata": {},
   "outputs": [
    {
     "data": {
      "image/png": "[encoded data removed]",
      "text/plain": [
       "<Figure size 540x360 with 2 Axes>"
      ]
     },
     "metadata": {
      "needs_background": "light"
     },
     "output_type": "display_data"
    }
   ],
   "source": [
    "shap.dependence_plot('ResultDir', shap_values, X_train)"
   ]
  },
  {
   "cell_type": "code",
   "execution_count": 136,
   "metadata": {},
   "outputs": [
    {
     "data": {
      "image/png": "[encoded data removed]",
      "text/plain": [
       "<Figure size 540x360 with 2 Axes>"
      ]
     },
     "metadata": {
      "needs_background": "light"
     },
     "output_type": "display_data"
    }
   ],
   "source": [
    "shap.dependence_plot('Region', shap_values, X_train)"
   ]
  },
  {
   "cell_type": "code",
   "execution_count": 137,
   "metadata": {},
   "outputs": [
    {
     "data": {
      "image/png": "[encoded data removed]",
      "text/plain": [
       "<Figure size 540x360 with 2 Axes>"
      ]
     },
     "metadata": {
      "needs_background": "light"
     },
     "output_type": "display_data"
    }
   ],
   "source": [
    "shap.dependence_plot('Heat_lag_21', shap_values, X_train)"
   ]
  }
 ],
 "metadata": {
  "kernelspec": {
   "display_name": "Python 3",
   "language": "python",
   "name": "python3"
  },
  "language_info": {
   "codemirror_mode": {
    "name": "ipython",
    "version": 3
   },
   "file_extension": ".py",
   "mimetype": "text/x-python",
   "name": "python",
   "nbconvert_exporter": "python",
   "pygments_lexer": "ipython3",
   "version": "3.8.5"
  }
 },
 "nbformat": 4,
 "nbformat_minor": 4
}
