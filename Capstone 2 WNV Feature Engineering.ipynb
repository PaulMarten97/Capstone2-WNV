{
 "cells": [
  {
   "cell_type": "markdown",
   "metadata": {},
   "source": [
    "# West Nile Virus Preprocessing and Modeling"
   ]
  },
  {
   "cell_type": "markdown",
   "metadata": {},
   "source": [
    "## Feature Engineering"
   ]
  },
  {
   "cell_type": "code",
   "execution_count": 1,
   "metadata": {},
   "outputs": [],
   "source": [
    "import pandas as pd\n",
    "import numpy as np\n",
    "from scipy import stats\n",
    "import seaborn as sns\n",
    "import matplotlib.pyplot as plt\n",
    "from sklearn.model_selection import train_test_split, cross_val_score, GridSearchCV\n",
    "from sklearn.pipeline import Pipeline\n",
    "from sklearn.metrics import classification_report\n",
    "from sklearn.linear_model import LogisticRegression\n",
    "import pandas.core.algorithms as algos\n",
    "from pandas import Series\n",
    "import scipy.stats.stats as stats\n",
    "import re\n",
    "import traceback\n",
    "import string\n",
    "import statsmodels.api as sm\n",
    "from statsmodels.stats.outliers_influence import variance_inflation_factor"
   ]
  },
  {
   "cell_type": "code",
   "execution_count": 2,
   "metadata": {},
   "outputs": [],
   "source": [
    "df = pd.read_csv('/Users/ultimateflexer/Desktop/Datasets/predict-west-nile-virus/clean_df.csv')"
   ]
  },
  {
   "cell_type": "code",
   "execution_count": 3,
   "metadata": {},
   "outputs": [
    {
     "data": {
      "text/html": [
       "<div>\n",
       "<style scoped>\n",
       "    .dataframe tbody tr th:only-of-type {\n",
       "        vertical-align: middle;\n",
       "    }\n",
       "\n",
       "    .dataframe tbody tr th {\n",
       "        vertical-align: top;\n",
       "    }\n",
       "\n",
       "    .dataframe thead th {\n",
       "        text-align: right;\n",
       "    }\n",
       "</style>\n",
       "<table border=\"1\" class=\"dataframe\">\n",
       "  <thead>\n",
       "    <tr style=\"text-align: right;\">\n",
       "      <th></th>\n",
       "      <th>Date</th>\n",
       "      <th>Address</th>\n",
       "      <th>Street</th>\n",
       "      <th>Trap</th>\n",
       "      <th>Latitude</th>\n",
       "      <th>Longitude</th>\n",
       "      <th>NumMosquitos</th>\n",
       "      <th>WnvPresent</th>\n",
       "      <th>Species_CULEX ERRATICUS</th>\n",
       "      <th>Species_CULEX PIPIENS</th>\n",
       "      <th>...</th>\n",
       "      <th>ResultSpeed_lag_14</th>\n",
       "      <th>ResultSpeed_lag_21</th>\n",
       "      <th>ResultDir_lag_1</th>\n",
       "      <th>ResultDir_lag_7</th>\n",
       "      <th>ResultDir_lag_14</th>\n",
       "      <th>ResultDir_lag_21</th>\n",
       "      <th>AvgSpeed_lag_1</th>\n",
       "      <th>AvgSpeed_lag_7</th>\n",
       "      <th>AvgSpeed_lag_14</th>\n",
       "      <th>AvgSpeed_lag_21</th>\n",
       "    </tr>\n",
       "  </thead>\n",
       "  <tbody>\n",
       "    <tr>\n",
       "      <th>0</th>\n",
       "      <td>2007-05-29</td>\n",
       "      <td>4100 North Oak Park Avenue, Chicago, IL 60634,...</td>\n",
       "      <td>N OAK PARK AVE</td>\n",
       "      <td>T002</td>\n",
       "      <td>41.954690</td>\n",
       "      <td>-87.800991</td>\n",
       "      <td>1</td>\n",
       "      <td>0</td>\n",
       "      <td>0</td>\n",
       "      <td>0</td>\n",
       "      <td>...</td>\n",
       "      <td>NaN</td>\n",
       "      <td>NaN</td>\n",
       "      <td>NaN</td>\n",
       "      <td>NaN</td>\n",
       "      <td>NaN</td>\n",
       "      <td>NaN</td>\n",
       "      <td>NaN</td>\n",
       "      <td>NaN</td>\n",
       "      <td>NaN</td>\n",
       "      <td>NaN</td>\n",
       "    </tr>\n",
       "    <tr>\n",
       "      <th>1</th>\n",
       "      <td>2007-05-29</td>\n",
       "      <td>4100 North Oak Park Avenue, Chicago, IL 60634,...</td>\n",
       "      <td>N OAK PARK AVE</td>\n",
       "      <td>T002</td>\n",
       "      <td>41.954690</td>\n",
       "      <td>-87.800991</td>\n",
       "      <td>1</td>\n",
       "      <td>0</td>\n",
       "      <td>0</td>\n",
       "      <td>0</td>\n",
       "      <td>...</td>\n",
       "      <td>NaN</td>\n",
       "      <td>NaN</td>\n",
       "      <td>17.5</td>\n",
       "      <td>NaN</td>\n",
       "      <td>NaN</td>\n",
       "      <td>NaN</td>\n",
       "      <td>9.0</td>\n",
       "      <td>NaN</td>\n",
       "      <td>NaN</td>\n",
       "      <td>NaN</td>\n",
       "    </tr>\n",
       "    <tr>\n",
       "      <th>2</th>\n",
       "      <td>2007-05-29</td>\n",
       "      <td>6200 North Mandell Avenue, Chicago, IL 60646, USA</td>\n",
       "      <td>N MANDELL AVE</td>\n",
       "      <td>T007</td>\n",
       "      <td>41.994991</td>\n",
       "      <td>-87.769279</td>\n",
       "      <td>1</td>\n",
       "      <td>0</td>\n",
       "      <td>0</td>\n",
       "      <td>0</td>\n",
       "      <td>...</td>\n",
       "      <td>NaN</td>\n",
       "      <td>NaN</td>\n",
       "      <td>17.5</td>\n",
       "      <td>NaN</td>\n",
       "      <td>NaN</td>\n",
       "      <td>NaN</td>\n",
       "      <td>9.0</td>\n",
       "      <td>NaN</td>\n",
       "      <td>NaN</td>\n",
       "      <td>NaN</td>\n",
       "    </tr>\n",
       "    <tr>\n",
       "      <th>3</th>\n",
       "      <td>2007-05-29</td>\n",
       "      <td>7900 West Foster Avenue, Chicago, IL 60656, USA</td>\n",
       "      <td>W FOSTER AVE</td>\n",
       "      <td>T015</td>\n",
       "      <td>41.974089</td>\n",
       "      <td>-87.824812</td>\n",
       "      <td>1</td>\n",
       "      <td>0</td>\n",
       "      <td>0</td>\n",
       "      <td>0</td>\n",
       "      <td>...</td>\n",
       "      <td>NaN</td>\n",
       "      <td>NaN</td>\n",
       "      <td>17.5</td>\n",
       "      <td>NaN</td>\n",
       "      <td>NaN</td>\n",
       "      <td>NaN</td>\n",
       "      <td>9.0</td>\n",
       "      <td>NaN</td>\n",
       "      <td>NaN</td>\n",
       "      <td>NaN</td>\n",
       "    </tr>\n",
       "    <tr>\n",
       "      <th>4</th>\n",
       "      <td>2007-05-29</td>\n",
       "      <td>7900 West Foster Avenue, Chicago, IL 60656, USA</td>\n",
       "      <td>W FOSTER AVE</td>\n",
       "      <td>T015</td>\n",
       "      <td>41.974089</td>\n",
       "      <td>-87.824812</td>\n",
       "      <td>4</td>\n",
       "      <td>0</td>\n",
       "      <td>0</td>\n",
       "      <td>0</td>\n",
       "      <td>...</td>\n",
       "      <td>NaN</td>\n",
       "      <td>NaN</td>\n",
       "      <td>17.5</td>\n",
       "      <td>NaN</td>\n",
       "      <td>NaN</td>\n",
       "      <td>NaN</td>\n",
       "      <td>9.0</td>\n",
       "      <td>NaN</td>\n",
       "      <td>NaN</td>\n",
       "      <td>NaN</td>\n",
       "    </tr>\n",
       "    <tr>\n",
       "      <th>5</th>\n",
       "      <td>2007-05-29</td>\n",
       "      <td>1500 West Webster Avenue, Chicago, IL 60614, USA</td>\n",
       "      <td>W WEBSTER AVE</td>\n",
       "      <td>T045</td>\n",
       "      <td>41.921600</td>\n",
       "      <td>-87.666455</td>\n",
       "      <td>2</td>\n",
       "      <td>0</td>\n",
       "      <td>0</td>\n",
       "      <td>0</td>\n",
       "      <td>...</td>\n",
       "      <td>NaN</td>\n",
       "      <td>NaN</td>\n",
       "      <td>17.5</td>\n",
       "      <td>NaN</td>\n",
       "      <td>NaN</td>\n",
       "      <td>NaN</td>\n",
       "      <td>9.0</td>\n",
       "      <td>NaN</td>\n",
       "      <td>NaN</td>\n",
       "      <td>NaN</td>\n",
       "    </tr>\n",
       "    <tr>\n",
       "      <th>6</th>\n",
       "      <td>2007-05-29</td>\n",
       "      <td>2500 West Grand Avenue, Chicago, IL 60654, USA</td>\n",
       "      <td>W GRAND AVE</td>\n",
       "      <td>T046</td>\n",
       "      <td>41.891118</td>\n",
       "      <td>-87.654491</td>\n",
       "      <td>1</td>\n",
       "      <td>0</td>\n",
       "      <td>0</td>\n",
       "      <td>0</td>\n",
       "      <td>...</td>\n",
       "      <td>NaN</td>\n",
       "      <td>NaN</td>\n",
       "      <td>17.5</td>\n",
       "      <td>NaN</td>\n",
       "      <td>NaN</td>\n",
       "      <td>NaN</td>\n",
       "      <td>9.0</td>\n",
       "      <td>NaN</td>\n",
       "      <td>NaN</td>\n",
       "      <td>NaN</td>\n",
       "    </tr>\n",
       "    <tr>\n",
       "      <th>7</th>\n",
       "      <td>2007-05-29</td>\n",
       "      <td>1100 Roosevelt Road, Chicago, IL 60608, USA</td>\n",
       "      <td>W ROOSEVELT</td>\n",
       "      <td>T048</td>\n",
       "      <td>41.867108</td>\n",
       "      <td>-87.654224</td>\n",
       "      <td>1</td>\n",
       "      <td>0</td>\n",
       "      <td>0</td>\n",
       "      <td>0</td>\n",
       "      <td>...</td>\n",
       "      <td>NaN</td>\n",
       "      <td>NaN</td>\n",
       "      <td>17.5</td>\n",
       "      <td>17.5</td>\n",
       "      <td>NaN</td>\n",
       "      <td>NaN</td>\n",
       "      <td>9.0</td>\n",
       "      <td>9.0</td>\n",
       "      <td>NaN</td>\n",
       "      <td>NaN</td>\n",
       "    </tr>\n",
       "    <tr>\n",
       "      <th>8</th>\n",
       "      <td>2007-05-29</td>\n",
       "      <td>1100 Roosevelt Road, Chicago, IL 60608, USA</td>\n",
       "      <td>W ROOSEVELT</td>\n",
       "      <td>T048</td>\n",
       "      <td>41.867108</td>\n",
       "      <td>-87.654224</td>\n",
       "      <td>2</td>\n",
       "      <td>0</td>\n",
       "      <td>0</td>\n",
       "      <td>0</td>\n",
       "      <td>...</td>\n",
       "      <td>NaN</td>\n",
       "      <td>NaN</td>\n",
       "      <td>17.5</td>\n",
       "      <td>17.5</td>\n",
       "      <td>NaN</td>\n",
       "      <td>NaN</td>\n",
       "      <td>9.0</td>\n",
       "      <td>9.0</td>\n",
       "      <td>NaN</td>\n",
       "      <td>NaN</td>\n",
       "    </tr>\n",
       "    <tr>\n",
       "      <th>9</th>\n",
       "      <td>2007-05-29</td>\n",
       "      <td>1100 West Chicago Avenue, Chicago, IL 60642, USA</td>\n",
       "      <td>W CHICAGO</td>\n",
       "      <td>T049</td>\n",
       "      <td>41.896282</td>\n",
       "      <td>-87.655232</td>\n",
       "      <td>1</td>\n",
       "      <td>0</td>\n",
       "      <td>0</td>\n",
       "      <td>0</td>\n",
       "      <td>...</td>\n",
       "      <td>NaN</td>\n",
       "      <td>NaN</td>\n",
       "      <td>17.5</td>\n",
       "      <td>17.5</td>\n",
       "      <td>NaN</td>\n",
       "      <td>NaN</td>\n",
       "      <td>9.0</td>\n",
       "      <td>9.0</td>\n",
       "      <td>NaN</td>\n",
       "      <td>NaN</td>\n",
       "    </tr>\n",
       "  </tbody>\n",
       "</table>\n",
       "<p>10 rows × 91 columns</p>\n",
       "</div>"
      ],
      "text/plain": [
       "         Date                                            Address  \\\n",
       "0  2007-05-29  4100 North Oak Park Avenue, Chicago, IL 60634,...   \n",
       "1  2007-05-29  4100 North Oak Park Avenue, Chicago, IL 60634,...   \n",
       "2  2007-05-29  6200 North Mandell Avenue, Chicago, IL 60646, USA   \n",
       "3  2007-05-29    7900 West Foster Avenue, Chicago, IL 60656, USA   \n",
       "4  2007-05-29    7900 West Foster Avenue, Chicago, IL 60656, USA   \n",
       "5  2007-05-29   1500 West Webster Avenue, Chicago, IL 60614, USA   \n",
       "6  2007-05-29     2500 West Grand Avenue, Chicago, IL 60654, USA   \n",
       "7  2007-05-29        1100 Roosevelt Road, Chicago, IL 60608, USA   \n",
       "8  2007-05-29        1100 Roosevelt Road, Chicago, IL 60608, USA   \n",
       "9  2007-05-29   1100 West Chicago Avenue, Chicago, IL 60642, USA   \n",
       "\n",
       "            Street  Trap   Latitude  Longitude  NumMosquitos  WnvPresent  \\\n",
       "0   N OAK PARK AVE  T002  41.954690 -87.800991             1           0   \n",
       "1   N OAK PARK AVE  T002  41.954690 -87.800991             1           0   \n",
       "2    N MANDELL AVE  T007  41.994991 -87.769279             1           0   \n",
       "3     W FOSTER AVE  T015  41.974089 -87.824812             1           0   \n",
       "4     W FOSTER AVE  T015  41.974089 -87.824812             4           0   \n",
       "5    W WEBSTER AVE  T045  41.921600 -87.666455             2           0   \n",
       "6      W GRAND AVE  T046  41.891118 -87.654491             1           0   \n",
       "7      W ROOSEVELT  T048  41.867108 -87.654224             1           0   \n",
       "8      W ROOSEVELT  T048  41.867108 -87.654224             2           0   \n",
       "9        W CHICAGO  T049  41.896282 -87.655232             1           0   \n",
       "\n",
       "   Species_CULEX ERRATICUS  Species_CULEX PIPIENS  ...  ResultSpeed_lag_14  \\\n",
       "0                        0                      0  ...                 NaN   \n",
       "1                        0                      0  ...                 NaN   \n",
       "2                        0                      0  ...                 NaN   \n",
       "3                        0                      0  ...                 NaN   \n",
       "4                        0                      0  ...                 NaN   \n",
       "5                        0                      0  ...                 NaN   \n",
       "6                        0                      0  ...                 NaN   \n",
       "7                        0                      0  ...                 NaN   \n",
       "8                        0                      0  ...                 NaN   \n",
       "9                        0                      0  ...                 NaN   \n",
       "\n",
       "   ResultSpeed_lag_21  ResultDir_lag_1  ResultDir_lag_7  ResultDir_lag_14  \\\n",
       "0                 NaN              NaN              NaN               NaN   \n",
       "1                 NaN             17.5              NaN               NaN   \n",
       "2                 NaN             17.5              NaN               NaN   \n",
       "3                 NaN             17.5              NaN               NaN   \n",
       "4                 NaN             17.5              NaN               NaN   \n",
       "5                 NaN             17.5              NaN               NaN   \n",
       "6                 NaN             17.5              NaN               NaN   \n",
       "7                 NaN             17.5             17.5               NaN   \n",
       "8                 NaN             17.5             17.5               NaN   \n",
       "9                 NaN             17.5             17.5               NaN   \n",
       "\n",
       "   ResultDir_lag_21  AvgSpeed_lag_1  AvgSpeed_lag_7  AvgSpeed_lag_14  \\\n",
       "0               NaN             NaN             NaN              NaN   \n",
       "1               NaN             9.0             NaN              NaN   \n",
       "2               NaN             9.0             NaN              NaN   \n",
       "3               NaN             9.0             NaN              NaN   \n",
       "4               NaN             9.0             NaN              NaN   \n",
       "5               NaN             9.0             NaN              NaN   \n",
       "6               NaN             9.0             NaN              NaN   \n",
       "7               NaN             9.0             9.0              NaN   \n",
       "8               NaN             9.0             9.0              NaN   \n",
       "9               NaN             9.0             9.0              NaN   \n",
       "\n",
       "   AvgSpeed_lag_21  \n",
       "0              NaN  \n",
       "1              NaN  \n",
       "2              NaN  \n",
       "3              NaN  \n",
       "4              NaN  \n",
       "5              NaN  \n",
       "6              NaN  \n",
       "7              NaN  \n",
       "8              NaN  \n",
       "9              NaN  \n",
       "\n",
       "[10 rows x 91 columns]"
      ]
     },
     "execution_count": 3,
     "metadata": {},
     "output_type": "execute_result"
    }
   ],
   "source": [
    "df.head(10)"
   ]
  },
  {
   "cell_type": "code",
   "execution_count": 4,
   "metadata": {},
   "outputs": [
    {
     "name": "stdout",
     "output_type": "stream",
     "text": [
      "<class 'pandas.core.frame.DataFrame'>\n",
      "Index: 10392 entries, 2007-05-29 to 2013-09-26\n",
      "Data columns (total 87 columns):\n",
      " #   Column                          Non-Null Count  Dtype  \n",
      "---  ------                          --------------  -----  \n",
      " 0   Latitude                        10392 non-null  float64\n",
      " 1   Longitude                       10392 non-null  float64\n",
      " 2   NumMosquitos                    10392 non-null  int64  \n",
      " 3   WnvPresent                      10392 non-null  int64  \n",
      " 4   Species_CULEX ERRATICUS         10392 non-null  int64  \n",
      " 5   Species_CULEX PIPIENS           10392 non-null  int64  \n",
      " 6   Species_CULEX PIPIENS/RESTUANS  10392 non-null  int64  \n",
      " 7   Species_CULEX RESTUANS          10392 non-null  int64  \n",
      " 8   Species_CULEX SALINARIUS        10392 non-null  int64  \n",
      " 9   Species_CULEX TARSALIS          10392 non-null  int64  \n",
      " 10  Species_CULEX TERRITANS         10392 non-null  int64  \n",
      " 11  Tmax                            10392 non-null  float64\n",
      " 12  Tmin                            10392 non-null  float64\n",
      " 13  Tavg                            10392 non-null  float64\n",
      " 14  DewPoint                        10392 non-null  float64\n",
      " 15  WetBulb                         10392 non-null  float64\n",
      " 16  Heat                            10392 non-null  float64\n",
      " 17  Cool                            10392 non-null  float64\n",
      " 18  Depth                           10392 non-null  float64\n",
      " 19  SnowFall                        10392 non-null  float64\n",
      " 20  PrecipTotal                     10392 non-null  float64\n",
      " 21  StnPressure                     10392 non-null  float64\n",
      " 22  SeaLevel                        10392 non-null  float64\n",
      " 23  ResultSpeed                     10392 non-null  float64\n",
      " 24  ResultDir                       10392 non-null  float64\n",
      " 25  AvgSpeed                        10392 non-null  float64\n",
      " 26  Region                          10392 non-null  int64  \n",
      " 27  Tmax_lag_1                      10392 non-null  float64\n",
      " 28  Tmax_lag_7                      10392 non-null  float64\n",
      " 29  Tmax_lag_14                     10392 non-null  float64\n",
      " 30  Tmax_lag_21                     10392 non-null  float64\n",
      " 31  Tmin_lag_1                      10392 non-null  float64\n",
      " 32  Tmin_lag_7                      10392 non-null  float64\n",
      " 33  Tmin_lag_14                     10392 non-null  float64\n",
      " 34  Tmin_lag_21                     10392 non-null  float64\n",
      " 35  Tavg_lag_1                      10392 non-null  float64\n",
      " 36  Tavg_lag_7                      10392 non-null  float64\n",
      " 37  Tavg_lag_14                     10392 non-null  float64\n",
      " 38  Tavg_lag_21                     10392 non-null  float64\n",
      " 39  DewPoint_lag_1                  10392 non-null  float64\n",
      " 40  DewPoint_lag_7                  10392 non-null  float64\n",
      " 41  DewPoint_lag_14                 10392 non-null  float64\n",
      " 42  DewPoint_lag_21                 10392 non-null  float64\n",
      " 43  WetBulb_lag_1                   10392 non-null  float64\n",
      " 44  WetBulb_lag_7                   10392 non-null  float64\n",
      " 45  WetBulb_lag_14                  10392 non-null  float64\n",
      " 46  WetBulb_lag_21                  10392 non-null  float64\n",
      " 47  Heat_lag_1                      10392 non-null  float64\n",
      " 48  Heat_lag_7                      10392 non-null  float64\n",
      " 49  Heat_lag_14                     10392 non-null  float64\n",
      " 50  Heat_lag_21                     10392 non-null  float64\n",
      " 51  Cool_lag_1                      10392 non-null  float64\n",
      " 52  Cool_lag_7                      10392 non-null  float64\n",
      " 53  Cool_lag_14                     10392 non-null  float64\n",
      " 54  Cool_lag_21                     10392 non-null  float64\n",
      " 55  Depth_lag_1                     10392 non-null  float64\n",
      " 56  Depth_lag_7                     10392 non-null  float64\n",
      " 57  Depth_lag_14                    10392 non-null  float64\n",
      " 58  Depth_lag_21                    10392 non-null  float64\n",
      " 59  SnowFall_lag_1                  10392 non-null  float64\n",
      " 60  SnowFall_lag_7                  10392 non-null  float64\n",
      " 61  SnowFall_lag_14                 10392 non-null  float64\n",
      " 62  SnowFall_lag_21                 10392 non-null  float64\n",
      " 63  PrecipTotal_lag_1               10392 non-null  float64\n",
      " 64  PrecipTotal_lag_7               10392 non-null  float64\n",
      " 65  PrecipTotal_lag_14              10392 non-null  float64\n",
      " 66  PrecipTotal_lag_21              10392 non-null  float64\n",
      " 67  StnPressure_lag_1               10392 non-null  float64\n",
      " 68  StnPressure_lag_7               10392 non-null  float64\n",
      " 69  StnPressure_lag_14              10392 non-null  float64\n",
      " 70  StnPressure_lag_21              10392 non-null  float64\n",
      " 71  SeaLevel_lag_1                  10392 non-null  float64\n",
      " 72  SeaLevel_lag_7                  10392 non-null  float64\n",
      " 73  SeaLevel_lag_14                 10392 non-null  float64\n",
      " 74  SeaLevel_lag_21                 10392 non-null  float64\n",
      " 75  ResultSpeed_lag_1               10392 non-null  float64\n",
      " 76  ResultSpeed_lag_7               10392 non-null  float64\n",
      " 77  ResultSpeed_lag_14              10392 non-null  float64\n",
      " 78  ResultSpeed_lag_21              10392 non-null  float64\n",
      " 79  ResultDir_lag_1                 10392 non-null  float64\n",
      " 80  ResultDir_lag_7                 10392 non-null  float64\n",
      " 81  ResultDir_lag_14                10392 non-null  float64\n",
      " 82  ResultDir_lag_21                10392 non-null  float64\n",
      " 83  AvgSpeed_lag_1                  10392 non-null  float64\n",
      " 84  AvgSpeed_lag_7                  10392 non-null  float64\n",
      " 85  AvgSpeed_lag_14                 10392 non-null  float64\n",
      " 86  AvgSpeed_lag_21                 10392 non-null  float64\n",
      "dtypes: float64(77), int64(10)\n",
      "memory usage: 7.0+ MB\n"
     ]
    }
   ],
   "source": [
    "# Before I perform information value analysis on the data, I am going to drop the address \n",
    "# columns as well as the trap column. I also need to deal with NaN values. These will be dropped\n",
    "# so as not to interfere with the lag variables. \n",
    "\n",
    "df.set_index('Date', inplace=True)\n",
    "df.drop(['Address', 'Street', 'Trap'], axis=1, inplace=True)\n",
    "\n",
    "df = df.dropna(axis=0)\n",
    "df.info()"
   ]
  },
  {
   "cell_type": "code",
   "execution_count": 5,
   "metadata": {},
   "outputs": [],
   "source": [
    "# Split data into train and test sets\n",
    "\n",
    "y = df['WnvPresent']\n",
    "X = df.drop('WnvPresent', axis=1)\n",
    "\n",
    "X_train, X_test, y_train, y_test = train_test_split(X, y, test_size = 0.2, \n",
    "                                                    random_state=42, stratify=y)"
   ]
  },
  {
   "cell_type": "code",
   "execution_count": 6,
   "metadata": {},
   "outputs": [
    {
     "name": "stdout",
     "output_type": "stream",
     "text": [
      "Iteration # 1\n"
     ]
    },
    {
     "name": "stderr",
     "output_type": "stream",
     "text": [
      "/opt/anaconda3/lib/python3.8/site-packages/statsmodels/stats/outliers_influence.py:193: RuntimeWarning: divide by zero encountered in double_scalars\n",
      "  vif = 1. / (1. - r_squared_i)\n",
      "/opt/anaconda3/lib/python3.8/site-packages/statsmodels/regression/linear_model.py:1715: RuntimeWarning: invalid value encountered in double_scalars\n",
      "  return 1 - self.ssr/self.centered_tss\n"
     ]
    },
    {
     "name": "stdout",
     "output_type": "stream",
     "text": [
      "Removing Species_CULEX ERRATICUS with VIF of inf\n",
      "Iteration # 2\n"
     ]
    },
    {
     "name": "stderr",
     "output_type": "stream",
     "text": [
      "/opt/anaconda3/lib/python3.8/site-packages/statsmodels/stats/outliers_influence.py:193: RuntimeWarning: divide by zero encountered in double_scalars\n",
      "  vif = 1. / (1. - r_squared_i)\n",
      "/opt/anaconda3/lib/python3.8/site-packages/statsmodels/regression/linear_model.py:1715: RuntimeWarning: invalid value encountered in double_scalars\n",
      "  return 1 - self.ssr/self.centered_tss\n"
     ]
    },
    {
     "name": "stdout",
     "output_type": "stream",
     "text": [
      "Removing Tavg with VIF of inf\n",
      "Iteration # 3\n"
     ]
    },
    {
     "name": "stderr",
     "output_type": "stream",
     "text": [
      "/opt/anaconda3/lib/python3.8/site-packages/statsmodels/regression/linear_model.py:1715: RuntimeWarning: invalid value encountered in double_scalars\n",
      "  return 1 - self.ssr/self.centered_tss\n",
      "/opt/anaconda3/lib/python3.8/site-packages/statsmodels/stats/outliers_influence.py:193: RuntimeWarning: divide by zero encountered in double_scalars\n",
      "  vif = 1. / (1. - r_squared_i)\n"
     ]
    },
    {
     "name": "stdout",
     "output_type": "stream",
     "text": [
      "Removing Tavg_lag_1 with VIF of inf\n",
      "Iteration # 4\n"
     ]
    },
    {
     "name": "stderr",
     "output_type": "stream",
     "text": [
      "/opt/anaconda3/lib/python3.8/site-packages/statsmodels/regression/linear_model.py:1715: RuntimeWarning: invalid value encountered in double_scalars\n",
      "  return 1 - self.ssr/self.centered_tss\n",
      "/opt/anaconda3/lib/python3.8/site-packages/statsmodels/stats/outliers_influence.py:193: RuntimeWarning: divide by zero encountered in double_scalars\n",
      "  vif = 1. / (1. - r_squared_i)\n"
     ]
    },
    {
     "name": "stdout",
     "output_type": "stream",
     "text": [
      "Removing Tavg_lag_7 with VIF of inf\n",
      "Iteration # 5\n"
     ]
    },
    {
     "name": "stderr",
     "output_type": "stream",
     "text": [
      "/opt/anaconda3/lib/python3.8/site-packages/statsmodels/regression/linear_model.py:1715: RuntimeWarning: invalid value encountered in double_scalars\n",
      "  return 1 - self.ssr/self.centered_tss\n",
      "/opt/anaconda3/lib/python3.8/site-packages/statsmodels/stats/outliers_influence.py:193: RuntimeWarning: divide by zero encountered in double_scalars\n",
      "  vif = 1. / (1. - r_squared_i)\n"
     ]
    },
    {
     "name": "stdout",
     "output_type": "stream",
     "text": [
      "Removing Tavg_lag_14 with VIF of inf\n",
      "Iteration # 6\n"
     ]
    },
    {
     "name": "stderr",
     "output_type": "stream",
     "text": [
      "/opt/anaconda3/lib/python3.8/site-packages/statsmodels/regression/linear_model.py:1715: RuntimeWarning: invalid value encountered in double_scalars\n",
      "  return 1 - self.ssr/self.centered_tss\n"
     ]
    },
    {
     "name": "stdout",
     "output_type": "stream",
     "text": [
      "Removing Tavg_lag_21 with VIF of 2119901.963588\n",
      "Iteration # 7\n"
     ]
    },
    {
     "name": "stderr",
     "output_type": "stream",
     "text": [
      "/opt/anaconda3/lib/python3.8/site-packages/statsmodels/regression/linear_model.py:1717: RuntimeWarning: invalid value encountered in double_scalars\n",
      "  return 1 - self.ssr/self.uncentered_tss\n"
     ]
    },
    {
     "name": "stdout",
     "output_type": "stream",
     "text": [
      "Removing SeaLevel_lag_1 with VIF of 540973318.103352\n",
      "Iteration # 8\n"
     ]
    },
    {
     "name": "stderr",
     "output_type": "stream",
     "text": [
      "/opt/anaconda3/lib/python3.8/site-packages/statsmodels/regression/linear_model.py:1717: RuntimeWarning: invalid value encountered in double_scalars\n",
      "  return 1 - self.ssr/self.uncentered_tss\n"
     ]
    },
    {
     "name": "stdout",
     "output_type": "stream",
     "text": [
      "Removing SeaLevel_lag_7 with VIF of 129605009.373039\n",
      "Iteration # 9\n"
     ]
    },
    {
     "name": "stderr",
     "output_type": "stream",
     "text": [
      "/opt/anaconda3/lib/python3.8/site-packages/statsmodels/regression/linear_model.py:1717: RuntimeWarning: invalid value encountered in double_scalars\n",
      "  return 1 - self.ssr/self.uncentered_tss\n"
     ]
    },
    {
     "name": "stdout",
     "output_type": "stream",
     "text": [
      "Removing SeaLevel_lag_14 with VIF of 95977748.133310\n",
      "Iteration # 10\n"
     ]
    },
    {
     "name": "stderr",
     "output_type": "stream",
     "text": [
      "/opt/anaconda3/lib/python3.8/site-packages/statsmodels/regression/linear_model.py:1717: RuntimeWarning: invalid value encountered in double_scalars\n",
      "  return 1 - self.ssr/self.uncentered_tss\n"
     ]
    },
    {
     "name": "stdout",
     "output_type": "stream",
     "text": [
      "Removing StnPressure with VIF of 30409582.199312\n",
      "Iteration # 11\n"
     ]
    },
    {
     "name": "stderr",
     "output_type": "stream",
     "text": [
      "/opt/anaconda3/lib/python3.8/site-packages/statsmodels/regression/linear_model.py:1717: RuntimeWarning: invalid value encountered in double_scalars\n",
      "  return 1 - self.ssr/self.uncentered_tss\n"
     ]
    },
    {
     "name": "stdout",
     "output_type": "stream",
     "text": [
      "Removing StnPressure_lag_21 with VIF of 13463668.911907\n",
      "Iteration # 12\n"
     ]
    },
    {
     "name": "stderr",
     "output_type": "stream",
     "text": [
      "/opt/anaconda3/lib/python3.8/site-packages/statsmodels/regression/linear_model.py:1717: RuntimeWarning: invalid value encountered in double_scalars\n",
      "  return 1 - self.ssr/self.uncentered_tss\n"
     ]
    },
    {
     "name": "stdout",
     "output_type": "stream",
     "text": [
      "Removing StnPressure_lag_1 with VIF of 5408775.297608\n",
      "Iteration # 13\n"
     ]
    },
    {
     "name": "stderr",
     "output_type": "stream",
     "text": [
      "/opt/anaconda3/lib/python3.8/site-packages/statsmodels/regression/linear_model.py:1717: RuntimeWarning: invalid value encountered in double_scalars\n",
      "  return 1 - self.ssr/self.uncentered_tss\n"
     ]
    },
    {
     "name": "stdout",
     "output_type": "stream",
     "text": [
      "Removing Tmax_lag_1 with VIF of 5151619.568098\n",
      "Iteration # 14\n"
     ]
    },
    {
     "name": "stderr",
     "output_type": "stream",
     "text": [
      "/opt/anaconda3/lib/python3.8/site-packages/statsmodels/regression/linear_model.py:1717: RuntimeWarning: invalid value encountered in double_scalars\n",
      "  return 1 - self.ssr/self.uncentered_tss\n"
     ]
    },
    {
     "name": "stdout",
     "output_type": "stream",
     "text": [
      "Removing WetBulb_lag_1 with VIF of 1938584.163294\n",
      "Iteration # 15\n"
     ]
    },
    {
     "name": "stderr",
     "output_type": "stream",
     "text": [
      "/opt/anaconda3/lib/python3.8/site-packages/statsmodels/regression/linear_model.py:1717: RuntimeWarning: invalid value encountered in double_scalars\n",
      "  return 1 - self.ssr/self.uncentered_tss\n"
     ]
    },
    {
     "name": "stdout",
     "output_type": "stream",
     "text": [
      "Removing StnPressure_lag_7 with VIF of 1596453.660378\n",
      "Iteration # 16\n"
     ]
    },
    {
     "name": "stderr",
     "output_type": "stream",
     "text": [
      "/opt/anaconda3/lib/python3.8/site-packages/statsmodels/regression/linear_model.py:1717: RuntimeWarning: invalid value encountered in double_scalars\n",
      "  return 1 - self.ssr/self.uncentered_tss\n"
     ]
    },
    {
     "name": "stdout",
     "output_type": "stream",
     "text": [
      "Removing Longitude with VIF of 1185962.107439\n",
      "Iteration # 17\n"
     ]
    },
    {
     "name": "stderr",
     "output_type": "stream",
     "text": [
      "/opt/anaconda3/lib/python3.8/site-packages/statsmodels/regression/linear_model.py:1717: RuntimeWarning: invalid value encountered in double_scalars\n",
      "  return 1 - self.ssr/self.uncentered_tss\n"
     ]
    },
    {
     "name": "stdout",
     "output_type": "stream",
     "text": [
      "Removing Tmax_lag_7 with VIF of 1183683.698830\n",
      "Iteration # 18\n"
     ]
    },
    {
     "name": "stderr",
     "output_type": "stream",
     "text": [
      "/opt/anaconda3/lib/python3.8/site-packages/statsmodels/regression/linear_model.py:1717: RuntimeWarning: invalid value encountered in double_scalars\n",
      "  return 1 - self.ssr/self.uncentered_tss\n"
     ]
    },
    {
     "name": "stdout",
     "output_type": "stream",
     "text": [
      "Removing StnPressure_lag_14 with VIF of 1084594.066961\n",
      "Iteration # 19\n"
     ]
    },
    {
     "name": "stderr",
     "output_type": "stream",
     "text": [
      "/opt/anaconda3/lib/python3.8/site-packages/statsmodels/regression/linear_model.py:1717: RuntimeWarning: invalid value encountered in double_scalars\n",
      "  return 1 - self.ssr/self.uncentered_tss\n"
     ]
    },
    {
     "name": "stdout",
     "output_type": "stream",
     "text": [
      "Removing Tmax_lag_14 with VIF of 865360.217997\n",
      "Iteration # 20\n"
     ]
    },
    {
     "name": "stderr",
     "output_type": "stream",
     "text": [
      "/opt/anaconda3/lib/python3.8/site-packages/statsmodels/regression/linear_model.py:1717: RuntimeWarning: invalid value encountered in double_scalars\n",
      "  return 1 - self.ssr/self.uncentered_tss\n"
     ]
    },
    {
     "name": "stdout",
     "output_type": "stream",
     "text": [
      "Removing WetBulb_lag_14 with VIF of 415694.295906\n",
      "Iteration # 21\n"
     ]
    },
    {
     "name": "stderr",
     "output_type": "stream",
     "text": [
      "/opt/anaconda3/lib/python3.8/site-packages/statsmodels/regression/linear_model.py:1717: RuntimeWarning: invalid value encountered in double_scalars\n",
      "  return 1 - self.ssr/self.uncentered_tss\n"
     ]
    },
    {
     "name": "stdout",
     "output_type": "stream",
     "text": [
      "Removing SeaLevel_lag_21 with VIF of 321603.414211\n",
      "Iteration # 22\n"
     ]
    },
    {
     "name": "stderr",
     "output_type": "stream",
     "text": [
      "/opt/anaconda3/lib/python3.8/site-packages/statsmodels/regression/linear_model.py:1717: RuntimeWarning: invalid value encountered in double_scalars\n",
      "  return 1 - self.ssr/self.uncentered_tss\n"
     ]
    },
    {
     "name": "stdout",
     "output_type": "stream",
     "text": [
      "Removing WetBulb_lag_7 with VIF of 308223.145889\n",
      "Iteration # 23\n"
     ]
    },
    {
     "name": "stderr",
     "output_type": "stream",
     "text": [
      "/opt/anaconda3/lib/python3.8/site-packages/statsmodels/regression/linear_model.py:1717: RuntimeWarning: invalid value encountered in double_scalars\n",
      "  return 1 - self.ssr/self.uncentered_tss\n"
     ]
    },
    {
     "name": "stdout",
     "output_type": "stream",
     "text": [
      "Removing Latitude with VIF of 219049.856502\n",
      "Iteration # 24\n"
     ]
    },
    {
     "name": "stderr",
     "output_type": "stream",
     "text": [
      "/opt/anaconda3/lib/python3.8/site-packages/statsmodels/regression/linear_model.py:1717: RuntimeWarning: invalid value encountered in double_scalars\n",
      "  return 1 - self.ssr/self.uncentered_tss\n"
     ]
    },
    {
     "name": "stdout",
     "output_type": "stream",
     "text": [
      "Removing Tmax_lag_21 with VIF of 210052.052228\n",
      "Iteration # 25\n"
     ]
    },
    {
     "name": "stderr",
     "output_type": "stream",
     "text": [
      "/opt/anaconda3/lib/python3.8/site-packages/statsmodels/regression/linear_model.py:1717: RuntimeWarning: invalid value encountered in double_scalars\n",
      "  return 1 - self.ssr/self.uncentered_tss\n"
     ]
    },
    {
     "name": "stdout",
     "output_type": "stream",
     "text": [
      "Removing Tmin with VIF of 77185.949922\n",
      "Iteration # 26\n"
     ]
    },
    {
     "name": "stderr",
     "output_type": "stream",
     "text": [
      "/opt/anaconda3/lib/python3.8/site-packages/statsmodels/regression/linear_model.py:1717: RuntimeWarning: invalid value encountered in double_scalars\n",
      "  return 1 - self.ssr/self.uncentered_tss\n"
     ]
    },
    {
     "name": "stdout",
     "output_type": "stream",
     "text": [
      "Removing WetBulb with VIF of 76568.186330\n",
      "Iteration # 27\n"
     ]
    },
    {
     "name": "stderr",
     "output_type": "stream",
     "text": [
      "/opt/anaconda3/lib/python3.8/site-packages/statsmodels/regression/linear_model.py:1717: RuntimeWarning: invalid value encountered in double_scalars\n",
      "  return 1 - self.ssr/self.uncentered_tss\n"
     ]
    },
    {
     "name": "stdout",
     "output_type": "stream",
     "text": [
      "Removing SeaLevel with VIF of 58325.067838\n",
      "Iteration # 28\n"
     ]
    },
    {
     "name": "stderr",
     "output_type": "stream",
     "text": [
      "/opt/anaconda3/lib/python3.8/site-packages/statsmodels/regression/linear_model.py:1717: RuntimeWarning: invalid value encountered in double_scalars\n",
      "  return 1 - self.ssr/self.uncentered_tss\n"
     ]
    },
    {
     "name": "stdout",
     "output_type": "stream",
     "text": [
      "Removing WetBulb_lag_21 with VIF of 24235.775762\n",
      "Iteration # 29\n"
     ]
    },
    {
     "name": "stderr",
     "output_type": "stream",
     "text": [
      "/opt/anaconda3/lib/python3.8/site-packages/statsmodels/regression/linear_model.py:1717: RuntimeWarning: invalid value encountered in double_scalars\n",
      "  return 1 - self.ssr/self.uncentered_tss\n"
     ]
    },
    {
     "name": "stdout",
     "output_type": "stream",
     "text": [
      "Removing DewPoint_lag_1 with VIF of 19495.903486\n",
      "Iteration # 30\n"
     ]
    },
    {
     "name": "stderr",
     "output_type": "stream",
     "text": [
      "/opt/anaconda3/lib/python3.8/site-packages/statsmodels/regression/linear_model.py:1717: RuntimeWarning: invalid value encountered in double_scalars\n",
      "  return 1 - self.ssr/self.uncentered_tss\n"
     ]
    },
    {
     "name": "stdout",
     "output_type": "stream",
     "text": [
      "Removing Tmin_lag_7 with VIF of 17092.098418\n",
      "Iteration # 31\n"
     ]
    },
    {
     "name": "stderr",
     "output_type": "stream",
     "text": [
      "/opt/anaconda3/lib/python3.8/site-packages/statsmodels/regression/linear_model.py:1717: RuntimeWarning: invalid value encountered in double_scalars\n",
      "  return 1 - self.ssr/self.uncentered_tss\n"
     ]
    },
    {
     "name": "stdout",
     "output_type": "stream",
     "text": [
      "Removing Tmin_lag_14 with VIF of 12575.139109\n",
      "Iteration # 32\n"
     ]
    },
    {
     "name": "stderr",
     "output_type": "stream",
     "text": [
      "/opt/anaconda3/lib/python3.8/site-packages/statsmodels/regression/linear_model.py:1717: RuntimeWarning: invalid value encountered in double_scalars\n",
      "  return 1 - self.ssr/self.uncentered_tss\n"
     ]
    },
    {
     "name": "stdout",
     "output_type": "stream",
     "text": [
      "Removing DewPoint_lag_7 with VIF of 4964.944779\n",
      "Iteration # 33\n"
     ]
    },
    {
     "name": "stderr",
     "output_type": "stream",
     "text": [
      "/opt/anaconda3/lib/python3.8/site-packages/statsmodels/regression/linear_model.py:1717: RuntimeWarning: invalid value encountered in double_scalars\n",
      "  return 1 - self.ssr/self.uncentered_tss\n"
     ]
    },
    {
     "name": "stdout",
     "output_type": "stream",
     "text": [
      "Removing Tmin_lag_1 with VIF of 4767.221673\n",
      "Iteration # 34\n"
     ]
    },
    {
     "name": "stderr",
     "output_type": "stream",
     "text": [
      "/opt/anaconda3/lib/python3.8/site-packages/statsmodels/regression/linear_model.py:1717: RuntimeWarning: invalid value encountered in double_scalars\n",
      "  return 1 - self.ssr/self.uncentered_tss\n"
     ]
    },
    {
     "name": "stdout",
     "output_type": "stream",
     "text": [
      "Removing DewPoint_lag_14 with VIF of 3773.458976\n",
      "Iteration # 35\n"
     ]
    },
    {
     "name": "stderr",
     "output_type": "stream",
     "text": [
      "/opt/anaconda3/lib/python3.8/site-packages/statsmodels/regression/linear_model.py:1717: RuntimeWarning: invalid value encountered in double_scalars\n",
      "  return 1 - self.ssr/self.uncentered_tss\n"
     ]
    },
    {
     "name": "stdout",
     "output_type": "stream",
     "text": [
      "Removing AvgSpeed_lag_1 with VIF of 3428.963869\n",
      "Iteration # 36\n"
     ]
    },
    {
     "name": "stderr",
     "output_type": "stream",
     "text": [
      "/opt/anaconda3/lib/python3.8/site-packages/statsmodels/regression/linear_model.py:1717: RuntimeWarning: invalid value encountered in double_scalars\n",
      "  return 1 - self.ssr/self.uncentered_tss\n"
     ]
    },
    {
     "name": "stdout",
     "output_type": "stream",
     "text": [
      "Removing Tmax with VIF of 2282.172755\n",
      "Iteration # 37\n"
     ]
    },
    {
     "name": "stderr",
     "output_type": "stream",
     "text": [
      "/opt/anaconda3/lib/python3.8/site-packages/statsmodels/regression/linear_model.py:1717: RuntimeWarning: invalid value encountered in double_scalars\n",
      "  return 1 - self.ssr/self.uncentered_tss\n"
     ]
    },
    {
     "name": "stdout",
     "output_type": "stream",
     "text": [
      "Removing DewPoint_lag_21 with VIF of 1074.864836\n",
      "Iteration # 38\n"
     ]
    },
    {
     "name": "stderr",
     "output_type": "stream",
     "text": [
      "/opt/anaconda3/lib/python3.8/site-packages/statsmodels/regression/linear_model.py:1717: RuntimeWarning: invalid value encountered in double_scalars\n",
      "  return 1 - self.ssr/self.uncentered_tss\n"
     ]
    },
    {
     "name": "stdout",
     "output_type": "stream",
     "text": [
      "Removing Tmin_lag_21 with VIF of 855.440342\n",
      "Iteration # 39\n"
     ]
    },
    {
     "name": "stderr",
     "output_type": "stream",
     "text": [
      "/opt/anaconda3/lib/python3.8/site-packages/statsmodels/regression/linear_model.py:1717: RuntimeWarning: invalid value encountered in double_scalars\n",
      "  return 1 - self.ssr/self.uncentered_tss\n"
     ]
    },
    {
     "name": "stdout",
     "output_type": "stream",
     "text": [
      "Removing AvgSpeed_lag_7 with VIF of 818.595316\n",
      "Iteration # 40\n"
     ]
    },
    {
     "name": "stderr",
     "output_type": "stream",
     "text": [
      "/opt/anaconda3/lib/python3.8/site-packages/statsmodels/regression/linear_model.py:1717: RuntimeWarning: invalid value encountered in double_scalars\n",
      "  return 1 - self.ssr/self.uncentered_tss\n"
     ]
    },
    {
     "name": "stdout",
     "output_type": "stream",
     "text": [
      "Removing AvgSpeed_lag_14 with VIF of 596.322678\n",
      "Iteration # 41\n"
     ]
    },
    {
     "name": "stderr",
     "output_type": "stream",
     "text": [
      "/opt/anaconda3/lib/python3.8/site-packages/statsmodels/regression/linear_model.py:1717: RuntimeWarning: invalid value encountered in double_scalars\n",
      "  return 1 - self.ssr/self.uncentered_tss\n"
     ]
    },
    {
     "name": "stdout",
     "output_type": "stream",
     "text": [
      "Removing Cool_lag_1 with VIF of 472.659905\n",
      "Iteration # 42\n"
     ]
    },
    {
     "name": "stderr",
     "output_type": "stream",
     "text": [
      "/opt/anaconda3/lib/python3.8/site-packages/statsmodels/regression/linear_model.py:1717: RuntimeWarning: invalid value encountered in double_scalars\n",
      "  return 1 - self.ssr/self.uncentered_tss\n"
     ]
    },
    {
     "name": "stdout",
     "output_type": "stream",
     "text": [
      "Removing DewPoint with VIF of 389.171426\n",
      "Iteration # 43\n"
     ]
    },
    {
     "name": "stderr",
     "output_type": "stream",
     "text": [
      "/opt/anaconda3/lib/python3.8/site-packages/statsmodels/regression/linear_model.py:1717: RuntimeWarning: invalid value encountered in double_scalars\n",
      "  return 1 - self.ssr/self.uncentered_tss\n"
     ]
    },
    {
     "name": "stdout",
     "output_type": "stream",
     "text": [
      "Removing ResultSpeed with VIF of 368.375562\n",
      "Iteration # 44\n"
     ]
    },
    {
     "name": "stderr",
     "output_type": "stream",
     "text": [
      "/opt/anaconda3/lib/python3.8/site-packages/statsmodels/regression/linear_model.py:1717: RuntimeWarning: invalid value encountered in double_scalars\n",
      "  return 1 - self.ssr/self.uncentered_tss\n"
     ]
    },
    {
     "name": "stdout",
     "output_type": "stream",
     "text": [
      "Removing ResultDir_lag_1 with VIF of 299.927518\n",
      "Iteration # 45\n"
     ]
    },
    {
     "name": "stderr",
     "output_type": "stream",
     "text": [
      "/opt/anaconda3/lib/python3.8/site-packages/statsmodels/regression/linear_model.py:1717: RuntimeWarning: invalid value encountered in double_scalars\n",
      "  return 1 - self.ssr/self.uncentered_tss\n"
     ]
    },
    {
     "name": "stdout",
     "output_type": "stream",
     "text": [
      "Removing AvgSpeed_lag_21 with VIF of 136.501462\n",
      "Iteration # 46\n"
     ]
    },
    {
     "name": "stderr",
     "output_type": "stream",
     "text": [
      "/opt/anaconda3/lib/python3.8/site-packages/statsmodels/regression/linear_model.py:1717: RuntimeWarning: invalid value encountered in double_scalars\n",
      "  return 1 - self.ssr/self.uncentered_tss\n"
     ]
    },
    {
     "name": "stdout",
     "output_type": "stream",
     "text": [
      "Removing Cool_lag_14 with VIF of 122.023339\n",
      "Iteration # 47\n"
     ]
    },
    {
     "name": "stderr",
     "output_type": "stream",
     "text": [
      "/opt/anaconda3/lib/python3.8/site-packages/statsmodels/regression/linear_model.py:1717: RuntimeWarning: invalid value encountered in double_scalars\n",
      "  return 1 - self.ssr/self.uncentered_tss\n"
     ]
    },
    {
     "name": "stdout",
     "output_type": "stream",
     "text": [
      "Removing Heat_lag_1 with VIF of 121.769414\n",
      "Iteration # 48\n"
     ]
    },
    {
     "name": "stderr",
     "output_type": "stream",
     "text": [
      "/opt/anaconda3/lib/python3.8/site-packages/statsmodels/regression/linear_model.py:1717: RuntimeWarning: invalid value encountered in double_scalars\n",
      "  return 1 - self.ssr/self.uncentered_tss\n"
     ]
    },
    {
     "name": "stdout",
     "output_type": "stream",
     "text": [
      "Removing ResultSpeed_lag_7 with VIF of 103.145216\n",
      "Iteration # 49\n"
     ]
    },
    {
     "name": "stderr",
     "output_type": "stream",
     "text": [
      "/opt/anaconda3/lib/python3.8/site-packages/statsmodels/regression/linear_model.py:1717: RuntimeWarning: invalid value encountered in double_scalars\n",
      "  return 1 - self.ssr/self.uncentered_tss\n"
     ]
    },
    {
     "name": "stdout",
     "output_type": "stream",
     "text": [
      "Removing Cool_lag_7 with VIF of 87.415398\n",
      "Iteration # 50\n"
     ]
    },
    {
     "name": "stderr",
     "output_type": "stream",
     "text": [
      "/opt/anaconda3/lib/python3.8/site-packages/statsmodels/regression/linear_model.py:1717: RuntimeWarning: invalid value encountered in double_scalars\n",
      "  return 1 - self.ssr/self.uncentered_tss\n"
     ]
    },
    {
     "name": "stdout",
     "output_type": "stream",
     "text": [
      "Removing PrecipTotal_lag_1 with VIF of 85.882539\n",
      "Iteration # 51\n"
     ]
    },
    {
     "name": "stderr",
     "output_type": "stream",
     "text": [
      "/opt/anaconda3/lib/python3.8/site-packages/statsmodels/regression/linear_model.py:1717: RuntimeWarning: invalid value encountered in double_scalars\n",
      "  return 1 - self.ssr/self.uncentered_tss\n"
     ]
    },
    {
     "name": "stdout",
     "output_type": "stream",
     "text": [
      "Removing ResultDir_lag_14 with VIF of 77.814888\n",
      "Iteration # 52\n"
     ]
    },
    {
     "name": "stderr",
     "output_type": "stream",
     "text": [
      "/opt/anaconda3/lib/python3.8/site-packages/statsmodels/regression/linear_model.py:1717: RuntimeWarning: invalid value encountered in double_scalars\n",
      "  return 1 - self.ssr/self.uncentered_tss\n"
     ]
    },
    {
     "name": "stdout",
     "output_type": "stream",
     "text": [
      "Removing ResultSpeed_lag_14 with VIF of 68.276167\n",
      "Iteration # 53\n"
     ]
    },
    {
     "name": "stderr",
     "output_type": "stream",
     "text": [
      "/opt/anaconda3/lib/python3.8/site-packages/statsmodels/regression/linear_model.py:1717: RuntimeWarning: invalid value encountered in double_scalars\n",
      "  return 1 - self.ssr/self.uncentered_tss\n"
     ]
    },
    {
     "name": "stdout",
     "output_type": "stream",
     "text": [
      "Removing AvgSpeed with VIF of 60.407923\n",
      "Iteration # 54\n"
     ]
    },
    {
     "name": "stderr",
     "output_type": "stream",
     "text": [
      "/opt/anaconda3/lib/python3.8/site-packages/statsmodels/regression/linear_model.py:1717: RuntimeWarning: invalid value encountered in double_scalars\n",
      "  return 1 - self.ssr/self.uncentered_tss\n"
     ]
    },
    {
     "name": "stdout",
     "output_type": "stream",
     "text": [
      "Removing ResultDir_lag_7 with VIF of 56.813643\n",
      "Iteration # 55\n"
     ]
    },
    {
     "name": "stderr",
     "output_type": "stream",
     "text": [
      "/opt/anaconda3/lib/python3.8/site-packages/statsmodels/regression/linear_model.py:1717: RuntimeWarning: invalid value encountered in double_scalars\n",
      "  return 1 - self.ssr/self.uncentered_tss\n"
     ]
    },
    {
     "name": "stdout",
     "output_type": "stream",
     "text": [
      "Removing Heat_lag_14 with VIF of 26.015182\n",
      "Iteration # 56\n"
     ]
    },
    {
     "name": "stderr",
     "output_type": "stream",
     "text": [
      "/opt/anaconda3/lib/python3.8/site-packages/statsmodels/regression/linear_model.py:1717: RuntimeWarning: invalid value encountered in double_scalars\n",
      "  return 1 - self.ssr/self.uncentered_tss\n"
     ]
    },
    {
     "name": "stdout",
     "output_type": "stream",
     "text": [
      "Removing Cool with VIF of 21.641685\n",
      "Iteration # 57\n"
     ]
    },
    {
     "name": "stderr",
     "output_type": "stream",
     "text": [
      "/opt/anaconda3/lib/python3.8/site-packages/statsmodels/regression/linear_model.py:1717: RuntimeWarning: invalid value encountered in double_scalars\n",
      "  return 1 - self.ssr/self.uncentered_tss\n"
     ]
    },
    {
     "name": "stdout",
     "output_type": "stream",
     "text": [
      "Removing PrecipTotal_lag_7 with VIF of 20.012295\n",
      "Iteration # 58\n"
     ]
    },
    {
     "name": "stderr",
     "output_type": "stream",
     "text": [
      "/opt/anaconda3/lib/python3.8/site-packages/statsmodels/regression/linear_model.py:1717: RuntimeWarning: invalid value encountered in double_scalars\n",
      "  return 1 - self.ssr/self.uncentered_tss\n"
     ]
    },
    {
     "name": "stdout",
     "output_type": "stream",
     "text": [
      "Removing Heat_lag_7 with VIF of 19.375233\n",
      "Iteration # 59\n"
     ]
    },
    {
     "name": "stderr",
     "output_type": "stream",
     "text": [
      "/opt/anaconda3/lib/python3.8/site-packages/statsmodels/regression/linear_model.py:1717: RuntimeWarning: invalid value encountered in double_scalars\n",
      "  return 1 - self.ssr/self.uncentered_tss\n"
     ]
    },
    {
     "name": "stdout",
     "output_type": "stream",
     "text": [
      "Removing ResultSpeed_lag_1 with VIF of 18.348860\n",
      "Iteration # 60\n"
     ]
    },
    {
     "name": "stderr",
     "output_type": "stream",
     "text": [
      "/opt/anaconda3/lib/python3.8/site-packages/statsmodels/regression/linear_model.py:1717: RuntimeWarning: invalid value encountered in double_scalars\n",
      "  return 1 - self.ssr/self.uncentered_tss\n"
     ]
    },
    {
     "name": "stdout",
     "output_type": "stream",
     "text": [
      "Removing ResultDir_lag_21 with VIF of 15.019957\n",
      "Iteration # 61\n"
     ]
    },
    {
     "name": "stderr",
     "output_type": "stream",
     "text": [
      "/opt/anaconda3/lib/python3.8/site-packages/statsmodels/regression/linear_model.py:1717: RuntimeWarning: invalid value encountered in double_scalars\n",
      "  return 1 - self.ssr/self.uncentered_tss\n"
     ]
    },
    {
     "name": "stdout",
     "output_type": "stream",
     "text": [
      "Removing PrecipTotal_lag_14 with VIF of 14.922912\n",
      "Iteration # 62\n"
     ]
    },
    {
     "name": "stderr",
     "output_type": "stream",
     "text": [
      "/opt/anaconda3/lib/python3.8/site-packages/statsmodels/regression/linear_model.py:1717: RuntimeWarning: invalid value encountered in double_scalars\n",
      "  return 1 - self.ssr/self.uncentered_tss\n"
     ]
    },
    {
     "name": "stdout",
     "output_type": "stream",
     "text": [
      "Removing Species_CULEX PIPIENS/RESTUANS with VIF of 9.935017\n",
      "Iteration # 63\n"
     ]
    },
    {
     "name": "stderr",
     "output_type": "stream",
     "text": [
      "/opt/anaconda3/lib/python3.8/site-packages/statsmodels/regression/linear_model.py:1717: RuntimeWarning: invalid value encountered in double_scalars\n",
      "  return 1 - self.ssr/self.uncentered_tss\n"
     ]
    },
    {
     "name": "stdout",
     "output_type": "stream",
     "text": [
      "Removing ResultSpeed_lag_21 with VIF of 5.441843\n",
      "Iteration # 64\n",
      "Complete\n"
     ]
    },
    {
     "name": "stderr",
     "output_type": "stream",
     "text": [
      "/opt/anaconda3/lib/python3.8/site-packages/statsmodels/regression/linear_model.py:1717: RuntimeWarning: invalid value encountered in double_scalars\n",
      "  return 1 - self.ssr/self.uncentered_tss\n"
     ]
    }
   ],
   "source": [
    "# Information Value Analysis via the Variance Inlfation Factor.\n",
    "\n",
    "def iterate_vif(df, vif_threshold=5, max_vif=6):\n",
    "    count = 0\n",
    "    while max_vif > vif_threshold:\n",
    "        count += 1\n",
    "        print(\"Iteration # \"+str(count))\n",
    "        vif = pd.DataFrame()\n",
    "        vif[\"VIFactor\"] = [variance_inflation_factor(df.values, i) for i in range(df.shape[1])]\n",
    "        vif[\"features\"] = df.columns\n",
    "\n",
    "        if vif['VIFactor'].max() > vif_threshold:\n",
    "            print('Removing %s with VIF of %f' % (vif[vif['VIFactor'] == vif['VIFactor'].max()]['features'].values[0], vif['VIFactor'].max()))\n",
    "            df = df.drop(vif[vif['VIFactor'] == vif['VIFactor'].max()]['features'].values[0], axis=1)\n",
    "            max_vif = vif['VIFactor'].max()\n",
    "        else:\n",
    "            print('Complete')\n",
    "            break\n",
    "    return df, vif.sort_values('VIFactor')\n",
    "\n",
    "final_df, final_vif = iterate_vif(X_train)"
   ]
  },
  {
   "cell_type": "code",
   "execution_count": 7,
   "metadata": {},
   "outputs": [
    {
     "data": {
      "text/html": [
       "<div>\n",
       "<style scoped>\n",
       "    .dataframe tbody tr th:only-of-type {\n",
       "        vertical-align: middle;\n",
       "    }\n",
       "\n",
       "    .dataframe tbody tr th {\n",
       "        vertical-align: top;\n",
       "    }\n",
       "\n",
       "    .dataframe thead th {\n",
       "        text-align: right;\n",
       "    }\n",
       "</style>\n",
       "<table border=\"1\" class=\"dataframe\">\n",
       "  <thead>\n",
       "    <tr style=\"text-align: right;\">\n",
       "      <th></th>\n",
       "      <th>NumMosquitos</th>\n",
       "      <th>Species_CULEX PIPIENS</th>\n",
       "      <th>Species_CULEX RESTUANS</th>\n",
       "      <th>Species_CULEX SALINARIUS</th>\n",
       "      <th>Species_CULEX TARSALIS</th>\n",
       "      <th>Species_CULEX TERRITANS</th>\n",
       "      <th>Heat</th>\n",
       "      <th>Depth</th>\n",
       "      <th>SnowFall</th>\n",
       "      <th>PrecipTotal</th>\n",
       "      <th>...</th>\n",
       "      <th>Cool_lag_21</th>\n",
       "      <th>Depth_lag_1</th>\n",
       "      <th>Depth_lag_7</th>\n",
       "      <th>Depth_lag_14</th>\n",
       "      <th>Depth_lag_21</th>\n",
       "      <th>SnowFall_lag_1</th>\n",
       "      <th>SnowFall_lag_7</th>\n",
       "      <th>SnowFall_lag_14</th>\n",
       "      <th>SnowFall_lag_21</th>\n",
       "      <th>PrecipTotal_lag_21</th>\n",
       "    </tr>\n",
       "    <tr>\n",
       "      <th>Date</th>\n",
       "      <th></th>\n",
       "      <th></th>\n",
       "      <th></th>\n",
       "      <th></th>\n",
       "      <th></th>\n",
       "      <th></th>\n",
       "      <th></th>\n",
       "      <th></th>\n",
       "      <th></th>\n",
       "      <th></th>\n",
       "      <th></th>\n",
       "      <th></th>\n",
       "      <th></th>\n",
       "      <th></th>\n",
       "      <th></th>\n",
       "      <th></th>\n",
       "      <th></th>\n",
       "      <th></th>\n",
       "      <th></th>\n",
       "      <th></th>\n",
       "      <th></th>\n",
       "    </tr>\n",
       "  </thead>\n",
       "  <tbody>\n",
       "    <tr>\n",
       "      <th>2013-07-25</th>\n",
       "      <td>6</td>\n",
       "      <td>0</td>\n",
       "      <td>0</td>\n",
       "      <td>0</td>\n",
       "      <td>0</td>\n",
       "      <td>0</td>\n",
       "      <td>0.0</td>\n",
       "      <td>0.0</td>\n",
       "      <td>0.0</td>\n",
       "      <td>0.0</td>\n",
       "      <td>...</td>\n",
       "      <td>4.5</td>\n",
       "      <td>0.0</td>\n",
       "      <td>0.0</td>\n",
       "      <td>0.0</td>\n",
       "      <td>0.0</td>\n",
       "      <td>0.0</td>\n",
       "      <td>0.0</td>\n",
       "      <td>0.0</td>\n",
       "      <td>0.0</td>\n",
       "      <td>0.0</td>\n",
       "    </tr>\n",
       "    <tr>\n",
       "      <th>2013-09-26</th>\n",
       "      <td>5</td>\n",
       "      <td>0</td>\n",
       "      <td>0</td>\n",
       "      <td>0</td>\n",
       "      <td>0</td>\n",
       "      <td>0</td>\n",
       "      <td>0.0</td>\n",
       "      <td>0.0</td>\n",
       "      <td>0.0</td>\n",
       "      <td>0.0</td>\n",
       "      <td>...</td>\n",
       "      <td>1.0</td>\n",
       "      <td>0.0</td>\n",
       "      <td>0.0</td>\n",
       "      <td>0.0</td>\n",
       "      <td>0.0</td>\n",
       "      <td>0.0</td>\n",
       "      <td>0.0</td>\n",
       "      <td>0.0</td>\n",
       "      <td>0.0</td>\n",
       "      <td>0.0</td>\n",
       "    </tr>\n",
       "    <tr>\n",
       "      <th>2011-08-12</th>\n",
       "      <td>2</td>\n",
       "      <td>0</td>\n",
       "      <td>1</td>\n",
       "      <td>0</td>\n",
       "      <td>0</td>\n",
       "      <td>0</td>\n",
       "      <td>0.0</td>\n",
       "      <td>0.0</td>\n",
       "      <td>0.0</td>\n",
       "      <td>0.0</td>\n",
       "      <td>...</td>\n",
       "      <td>7.5</td>\n",
       "      <td>0.0</td>\n",
       "      <td>0.0</td>\n",
       "      <td>0.0</td>\n",
       "      <td>0.0</td>\n",
       "      <td>0.0</td>\n",
       "      <td>0.0</td>\n",
       "      <td>0.0</td>\n",
       "      <td>0.0</td>\n",
       "      <td>0.0</td>\n",
       "    </tr>\n",
       "    <tr>\n",
       "      <th>2007-07-11</th>\n",
       "      <td>6</td>\n",
       "      <td>0</td>\n",
       "      <td>0</td>\n",
       "      <td>0</td>\n",
       "      <td>0</td>\n",
       "      <td>0</td>\n",
       "      <td>0.0</td>\n",
       "      <td>0.0</td>\n",
       "      <td>0.0</td>\n",
       "      <td>0.0</td>\n",
       "      <td>...</td>\n",
       "      <td>2.0</td>\n",
       "      <td>0.0</td>\n",
       "      <td>0.0</td>\n",
       "      <td>0.0</td>\n",
       "      <td>0.0</td>\n",
       "      <td>0.0</td>\n",
       "      <td>0.0</td>\n",
       "      <td>0.0</td>\n",
       "      <td>0.0</td>\n",
       "      <td>0.0</td>\n",
       "    </tr>\n",
       "    <tr>\n",
       "      <th>2013-08-08</th>\n",
       "      <td>2</td>\n",
       "      <td>1</td>\n",
       "      <td>0</td>\n",
       "      <td>0</td>\n",
       "      <td>0</td>\n",
       "      <td>0</td>\n",
       "      <td>0.0</td>\n",
       "      <td>0.0</td>\n",
       "      <td>0.0</td>\n",
       "      <td>0.0</td>\n",
       "      <td>...</td>\n",
       "      <td>8.0</td>\n",
       "      <td>0.0</td>\n",
       "      <td>0.0</td>\n",
       "      <td>0.0</td>\n",
       "      <td>0.0</td>\n",
       "      <td>0.0</td>\n",
       "      <td>0.0</td>\n",
       "      <td>0.0</td>\n",
       "      <td>0.0</td>\n",
       "      <td>0.0</td>\n",
       "    </tr>\n",
       "  </tbody>\n",
       "</table>\n",
       "<p>5 rows × 23 columns</p>\n",
       "</div>"
      ],
      "text/plain": [
       "            NumMosquitos  Species_CULEX PIPIENS  Species_CULEX RESTUANS  \\\n",
       "Date                                                                      \n",
       "2013-07-25             6                      0                       0   \n",
       "2013-09-26             5                      0                       0   \n",
       "2011-08-12             2                      0                       1   \n",
       "2007-07-11             6                      0                       0   \n",
       "2013-08-08             2                      1                       0   \n",
       "\n",
       "            Species_CULEX SALINARIUS  Species_CULEX TARSALIS  \\\n",
       "Date                                                           \n",
       "2013-07-25                         0                       0   \n",
       "2013-09-26                         0                       0   \n",
       "2011-08-12                         0                       0   \n",
       "2007-07-11                         0                       0   \n",
       "2013-08-08                         0                       0   \n",
       "\n",
       "            Species_CULEX TERRITANS  Heat  Depth  SnowFall  PrecipTotal  ...  \\\n",
       "Date                                                                     ...   \n",
       "2013-07-25                        0   0.0    0.0       0.0          0.0  ...   \n",
       "2013-09-26                        0   0.0    0.0       0.0          0.0  ...   \n",
       "2011-08-12                        0   0.0    0.0       0.0          0.0  ...   \n",
       "2007-07-11                        0   0.0    0.0       0.0          0.0  ...   \n",
       "2013-08-08                        0   0.0    0.0       0.0          0.0  ...   \n",
       "\n",
       "            Cool_lag_21  Depth_lag_1  Depth_lag_7  Depth_lag_14  Depth_lag_21  \\\n",
       "Date                                                                            \n",
       "2013-07-25          4.5          0.0          0.0           0.0           0.0   \n",
       "2013-09-26          1.0          0.0          0.0           0.0           0.0   \n",
       "2011-08-12          7.5          0.0          0.0           0.0           0.0   \n",
       "2007-07-11          2.0          0.0          0.0           0.0           0.0   \n",
       "2013-08-08          8.0          0.0          0.0           0.0           0.0   \n",
       "\n",
       "            SnowFall_lag_1  SnowFall_lag_7  SnowFall_lag_14  SnowFall_lag_21  \\\n",
       "Date                                                                           \n",
       "2013-07-25             0.0             0.0              0.0              0.0   \n",
       "2013-09-26             0.0             0.0              0.0              0.0   \n",
       "2011-08-12             0.0             0.0              0.0              0.0   \n",
       "2007-07-11             0.0             0.0              0.0              0.0   \n",
       "2013-08-08             0.0             0.0              0.0              0.0   \n",
       "\n",
       "            PrecipTotal_lag_21  \n",
       "Date                            \n",
       "2013-07-25                 0.0  \n",
       "2013-09-26                 0.0  \n",
       "2011-08-12                 0.0  \n",
       "2007-07-11                 0.0  \n",
       "2013-08-08                 0.0  \n",
       "\n",
       "[5 rows x 23 columns]"
      ]
     },
     "execution_count": 7,
     "metadata": {},
     "output_type": "execute_result"
    }
   ],
   "source": [
    "final_df.head()"
   ]
  },
  {
   "cell_type": "code",
   "execution_count": 8,
   "metadata": {},
   "outputs": [
    {
     "data": {
      "text/html": [
       "<div>\n",
       "<style scoped>\n",
       "    .dataframe tbody tr th:only-of-type {\n",
       "        vertical-align: middle;\n",
       "    }\n",
       "\n",
       "    .dataframe tbody tr th {\n",
       "        vertical-align: top;\n",
       "    }\n",
       "\n",
       "    .dataframe thead th {\n",
       "        text-align: right;\n",
       "    }\n",
       "</style>\n",
       "<table border=\"1\" class=\"dataframe\">\n",
       "  <thead>\n",
       "    <tr style=\"text-align: right;\">\n",
       "      <th></th>\n",
       "      <th>VIFactor</th>\n",
       "      <th>features</th>\n",
       "    </tr>\n",
       "  </thead>\n",
       "  <tbody>\n",
       "    <tr>\n",
       "      <th>4</th>\n",
       "      <td>1.007717</td>\n",
       "      <td>Species_CULEX TARSALIS</td>\n",
       "    </tr>\n",
       "    <tr>\n",
       "      <th>3</th>\n",
       "      <td>1.020086</td>\n",
       "      <td>Species_CULEX SALINARIUS</td>\n",
       "    </tr>\n",
       "    <tr>\n",
       "      <th>5</th>\n",
       "      <td>1.058026</td>\n",
       "      <td>Species_CULEX TERRITANS</td>\n",
       "    </tr>\n",
       "    <tr>\n",
       "      <th>1</th>\n",
       "      <td>1.500469</td>\n",
       "      <td>Species_CULEX PIPIENS</td>\n",
       "    </tr>\n",
       "    <tr>\n",
       "      <th>2</th>\n",
       "      <td>1.512638</td>\n",
       "      <td>Species_CULEX RESTUANS</td>\n",
       "    </tr>\n",
       "    <tr>\n",
       "      <th>0</th>\n",
       "      <td>1.705421</td>\n",
       "      <td>NumMosquitos</td>\n",
       "    </tr>\n",
       "    <tr>\n",
       "      <th>9</th>\n",
       "      <td>3.735686</td>\n",
       "      <td>PrecipTotal</td>\n",
       "    </tr>\n",
       "    <tr>\n",
       "      <th>22</th>\n",
       "      <td>3.794456</td>\n",
       "      <td>PrecipTotal_lag_21</td>\n",
       "    </tr>\n",
       "    <tr>\n",
       "      <th>10</th>\n",
       "      <td>4.090379</td>\n",
       "      <td>ResultDir</td>\n",
       "    </tr>\n",
       "    <tr>\n",
       "      <th>13</th>\n",
       "      <td>4.209629</td>\n",
       "      <td>Cool_lag_21</td>\n",
       "    </tr>\n",
       "    <tr>\n",
       "      <th>11</th>\n",
       "      <td>4.530008</td>\n",
       "      <td>Region</td>\n",
       "    </tr>\n",
       "    <tr>\n",
       "      <th>6</th>\n",
       "      <td>4.749748</td>\n",
       "      <td>Heat</td>\n",
       "    </tr>\n",
       "    <tr>\n",
       "      <th>12</th>\n",
       "      <td>4.963788</td>\n",
       "      <td>Heat_lag_21</td>\n",
       "    </tr>\n",
       "    <tr>\n",
       "      <th>7</th>\n",
       "      <td>NaN</td>\n",
       "      <td>Depth</td>\n",
       "    </tr>\n",
       "    <tr>\n",
       "      <th>8</th>\n",
       "      <td>NaN</td>\n",
       "      <td>SnowFall</td>\n",
       "    </tr>\n",
       "    <tr>\n",
       "      <th>14</th>\n",
       "      <td>NaN</td>\n",
       "      <td>Depth_lag_1</td>\n",
       "    </tr>\n",
       "    <tr>\n",
       "      <th>15</th>\n",
       "      <td>NaN</td>\n",
       "      <td>Depth_lag_7</td>\n",
       "    </tr>\n",
       "    <tr>\n",
       "      <th>16</th>\n",
       "      <td>NaN</td>\n",
       "      <td>Depth_lag_14</td>\n",
       "    </tr>\n",
       "    <tr>\n",
       "      <th>17</th>\n",
       "      <td>NaN</td>\n",
       "      <td>Depth_lag_21</td>\n",
       "    </tr>\n",
       "    <tr>\n",
       "      <th>18</th>\n",
       "      <td>NaN</td>\n",
       "      <td>SnowFall_lag_1</td>\n",
       "    </tr>\n",
       "    <tr>\n",
       "      <th>19</th>\n",
       "      <td>NaN</td>\n",
       "      <td>SnowFall_lag_7</td>\n",
       "    </tr>\n",
       "    <tr>\n",
       "      <th>20</th>\n",
       "      <td>NaN</td>\n",
       "      <td>SnowFall_lag_14</td>\n",
       "    </tr>\n",
       "    <tr>\n",
       "      <th>21</th>\n",
       "      <td>NaN</td>\n",
       "      <td>SnowFall_lag_21</td>\n",
       "    </tr>\n",
       "  </tbody>\n",
       "</table>\n",
       "</div>"
      ],
      "text/plain": [
       "    VIFactor                  features\n",
       "4   1.007717    Species_CULEX TARSALIS\n",
       "3   1.020086  Species_CULEX SALINARIUS\n",
       "5   1.058026   Species_CULEX TERRITANS\n",
       "1   1.500469     Species_CULEX PIPIENS\n",
       "2   1.512638    Species_CULEX RESTUANS\n",
       "0   1.705421              NumMosquitos\n",
       "9   3.735686               PrecipTotal\n",
       "22  3.794456        PrecipTotal_lag_21\n",
       "10  4.090379                 ResultDir\n",
       "13  4.209629               Cool_lag_21\n",
       "11  4.530008                    Region\n",
       "6   4.749748                      Heat\n",
       "12  4.963788               Heat_lag_21\n",
       "7        NaN                     Depth\n",
       "8        NaN                  SnowFall\n",
       "14       NaN               Depth_lag_1\n",
       "15       NaN               Depth_lag_7\n",
       "16       NaN              Depth_lag_14\n",
       "17       NaN              Depth_lag_21\n",
       "18       NaN            SnowFall_lag_1\n",
       "19       NaN            SnowFall_lag_7\n",
       "20       NaN           SnowFall_lag_14\n",
       "21       NaN           SnowFall_lag_21"
      ]
     },
     "execution_count": 8,
     "metadata": {},
     "output_type": "execute_result"
    }
   ],
   "source": [
    "final_vif"
   ]
  },
  {
   "cell_type": "code",
   "execution_count": 9,
   "metadata": {},
   "outputs": [
    {
     "data": {
      "text/html": [
       "<div>\n",
       "<style scoped>\n",
       "    .dataframe tbody tr th:only-of-type {\n",
       "        vertical-align: middle;\n",
       "    }\n",
       "\n",
       "    .dataframe tbody tr th {\n",
       "        vertical-align: top;\n",
       "    }\n",
       "\n",
       "    .dataframe thead th {\n",
       "        text-align: right;\n",
       "    }\n",
       "</style>\n",
       "<table border=\"1\" class=\"dataframe\">\n",
       "  <thead>\n",
       "    <tr style=\"text-align: right;\">\n",
       "      <th></th>\n",
       "      <th>VIFactor</th>\n",
       "      <th>features</th>\n",
       "    </tr>\n",
       "  </thead>\n",
       "  <tbody>\n",
       "    <tr>\n",
       "      <th>0</th>\n",
       "      <td>1.007717</td>\n",
       "      <td>Species_CULEX TARSALIS</td>\n",
       "    </tr>\n",
       "    <tr>\n",
       "      <th>1</th>\n",
       "      <td>1.020086</td>\n",
       "      <td>Species_CULEX SALINARIUS</td>\n",
       "    </tr>\n",
       "    <tr>\n",
       "      <th>2</th>\n",
       "      <td>1.058026</td>\n",
       "      <td>Species_CULEX TERRITANS</td>\n",
       "    </tr>\n",
       "    <tr>\n",
       "      <th>3</th>\n",
       "      <td>1.500469</td>\n",
       "      <td>Species_CULEX PIPIENS</td>\n",
       "    </tr>\n",
       "    <tr>\n",
       "      <th>4</th>\n",
       "      <td>1.512638</td>\n",
       "      <td>Species_CULEX RESTUANS</td>\n",
       "    </tr>\n",
       "    <tr>\n",
       "      <th>5</th>\n",
       "      <td>1.705421</td>\n",
       "      <td>NumMosquitos</td>\n",
       "    </tr>\n",
       "    <tr>\n",
       "      <th>6</th>\n",
       "      <td>3.735686</td>\n",
       "      <td>PrecipTotal</td>\n",
       "    </tr>\n",
       "    <tr>\n",
       "      <th>7</th>\n",
       "      <td>3.794456</td>\n",
       "      <td>PrecipTotal_lag_21</td>\n",
       "    </tr>\n",
       "    <tr>\n",
       "      <th>8</th>\n",
       "      <td>4.090379</td>\n",
       "      <td>ResultDir</td>\n",
       "    </tr>\n",
       "    <tr>\n",
       "      <th>9</th>\n",
       "      <td>4.209629</td>\n",
       "      <td>Cool_lag_21</td>\n",
       "    </tr>\n",
       "    <tr>\n",
       "      <th>10</th>\n",
       "      <td>4.530008</td>\n",
       "      <td>Region</td>\n",
       "    </tr>\n",
       "    <tr>\n",
       "      <th>11</th>\n",
       "      <td>4.749748</td>\n",
       "      <td>Heat</td>\n",
       "    </tr>\n",
       "    <tr>\n",
       "      <th>12</th>\n",
       "      <td>4.963788</td>\n",
       "      <td>Heat_lag_21</td>\n",
       "    </tr>\n",
       "    <tr>\n",
       "      <th>13</th>\n",
       "      <td>NaN</td>\n",
       "      <td>Depth</td>\n",
       "    </tr>\n",
       "    <tr>\n",
       "      <th>14</th>\n",
       "      <td>NaN</td>\n",
       "      <td>SnowFall</td>\n",
       "    </tr>\n",
       "    <tr>\n",
       "      <th>15</th>\n",
       "      <td>NaN</td>\n",
       "      <td>Depth_lag_1</td>\n",
       "    </tr>\n",
       "    <tr>\n",
       "      <th>16</th>\n",
       "      <td>NaN</td>\n",
       "      <td>Depth_lag_7</td>\n",
       "    </tr>\n",
       "    <tr>\n",
       "      <th>17</th>\n",
       "      <td>NaN</td>\n",
       "      <td>Depth_lag_14</td>\n",
       "    </tr>\n",
       "    <tr>\n",
       "      <th>18</th>\n",
       "      <td>NaN</td>\n",
       "      <td>Depth_lag_21</td>\n",
       "    </tr>\n",
       "    <tr>\n",
       "      <th>19</th>\n",
       "      <td>NaN</td>\n",
       "      <td>SnowFall_lag_1</td>\n",
       "    </tr>\n",
       "    <tr>\n",
       "      <th>20</th>\n",
       "      <td>NaN</td>\n",
       "      <td>SnowFall_lag_7</td>\n",
       "    </tr>\n",
       "    <tr>\n",
       "      <th>21</th>\n",
       "      <td>NaN</td>\n",
       "      <td>SnowFall_lag_14</td>\n",
       "    </tr>\n",
       "    <tr>\n",
       "      <th>22</th>\n",
       "      <td>NaN</td>\n",
       "      <td>SnowFall_lag_21</td>\n",
       "    </tr>\n",
       "  </tbody>\n",
       "</table>\n",
       "</div>"
      ],
      "text/plain": [
       "    VIFactor                  features\n",
       "0   1.007717    Species_CULEX TARSALIS\n",
       "1   1.020086  Species_CULEX SALINARIUS\n",
       "2   1.058026   Species_CULEX TERRITANS\n",
       "3   1.500469     Species_CULEX PIPIENS\n",
       "4   1.512638    Species_CULEX RESTUANS\n",
       "5   1.705421              NumMosquitos\n",
       "6   3.735686               PrecipTotal\n",
       "7   3.794456        PrecipTotal_lag_21\n",
       "8   4.090379                 ResultDir\n",
       "9   4.209629               Cool_lag_21\n",
       "10  4.530008                    Region\n",
       "11  4.749748                      Heat\n",
       "12  4.963788               Heat_lag_21\n",
       "13       NaN                     Depth\n",
       "14       NaN                  SnowFall\n",
       "15       NaN               Depth_lag_1\n",
       "16       NaN               Depth_lag_7\n",
       "17       NaN              Depth_lag_14\n",
       "18       NaN              Depth_lag_21\n",
       "19       NaN            SnowFall_lag_1\n",
       "20       NaN            SnowFall_lag_7\n",
       "21       NaN           SnowFall_lag_14\n",
       "22       NaN           SnowFall_lag_21"
      ]
     },
     "execution_count": 9,
     "metadata": {},
     "output_type": "execute_result"
    }
   ],
   "source": [
    "final_vif.reset_index(drop=True, inplace=True)\n",
    "final_vif"
   ]
  },
  {
   "cell_type": "code",
   "execution_count": 10,
   "metadata": {},
   "outputs": [
    {
     "data": {
      "text/html": [
       "<div>\n",
       "<style scoped>\n",
       "    .dataframe tbody tr th:only-of-type {\n",
       "        vertical-align: middle;\n",
       "    }\n",
       "\n",
       "    .dataframe tbody tr th {\n",
       "        vertical-align: top;\n",
       "    }\n",
       "\n",
       "    .dataframe thead th {\n",
       "        text-align: right;\n",
       "    }\n",
       "</style>\n",
       "<table border=\"1\" class=\"dataframe\">\n",
       "  <thead>\n",
       "    <tr style=\"text-align: right;\">\n",
       "      <th></th>\n",
       "      <th>NumMosquitos</th>\n",
       "      <th>Species_CULEX PIPIENS</th>\n",
       "      <th>Species_CULEX RESTUANS</th>\n",
       "      <th>Species_CULEX SALINARIUS</th>\n",
       "      <th>Species_CULEX TARSALIS</th>\n",
       "      <th>Species_CULEX TERRITANS</th>\n",
       "      <th>Heat</th>\n",
       "      <th>Depth</th>\n",
       "      <th>SnowFall</th>\n",
       "      <th>PrecipTotal</th>\n",
       "      <th>...</th>\n",
       "      <th>Cool_lag_21</th>\n",
       "      <th>Depth_lag_1</th>\n",
       "      <th>Depth_lag_7</th>\n",
       "      <th>Depth_lag_14</th>\n",
       "      <th>Depth_lag_21</th>\n",
       "      <th>SnowFall_lag_1</th>\n",
       "      <th>SnowFall_lag_7</th>\n",
       "      <th>SnowFall_lag_14</th>\n",
       "      <th>SnowFall_lag_21</th>\n",
       "      <th>PrecipTotal_lag_21</th>\n",
       "    </tr>\n",
       "  </thead>\n",
       "  <tbody>\n",
       "    <tr>\n",
       "      <th>count</th>\n",
       "      <td>8313.000000</td>\n",
       "      <td>8313.000000</td>\n",
       "      <td>8313.000000</td>\n",
       "      <td>8313.000000</td>\n",
       "      <td>8313.000000</td>\n",
       "      <td>8313.000000</td>\n",
       "      <td>8313.000000</td>\n",
       "      <td>8313.0</td>\n",
       "      <td>8313.0</td>\n",
       "      <td>8313.000000</td>\n",
       "      <td>...</td>\n",
       "      <td>8313.000000</td>\n",
       "      <td>8313.0</td>\n",
       "      <td>8313.0</td>\n",
       "      <td>8313.0</td>\n",
       "      <td>8313.0</td>\n",
       "      <td>8313.0</td>\n",
       "      <td>8313.0</td>\n",
       "      <td>8313.0</td>\n",
       "      <td>8313.0</td>\n",
       "      <td>8313.000000</td>\n",
       "    </tr>\n",
       "    <tr>\n",
       "      <th>mean</th>\n",
       "      <td>13.055936</td>\n",
       "      <td>0.254782</td>\n",
       "      <td>0.258390</td>\n",
       "      <td>0.008421</td>\n",
       "      <td>0.000722</td>\n",
       "      <td>0.022134</td>\n",
       "      <td>0.864910</td>\n",
       "      <td>0.0</td>\n",
       "      <td>0.0</td>\n",
       "      <td>0.123172</td>\n",
       "      <td>...</td>\n",
       "      <td>8.937628</td>\n",
       "      <td>0.0</td>\n",
       "      <td>0.0</td>\n",
       "      <td>0.0</td>\n",
       "      <td>0.0</td>\n",
       "      <td>0.0</td>\n",
       "      <td>0.0</td>\n",
       "      <td>0.0</td>\n",
       "      <td>0.0</td>\n",
       "      <td>0.123713</td>\n",
       "    </tr>\n",
       "    <tr>\n",
       "      <th>std</th>\n",
       "      <td>16.266714</td>\n",
       "      <td>0.435765</td>\n",
       "      <td>0.437776</td>\n",
       "      <td>0.091382</td>\n",
       "      <td>0.026858</td>\n",
       "      <td>0.147128</td>\n",
       "      <td>2.659059</td>\n",
       "      <td>0.0</td>\n",
       "      <td>0.0</td>\n",
       "      <td>0.240267</td>\n",
       "      <td>...</td>\n",
       "      <td>5.744583</td>\n",
       "      <td>0.0</td>\n",
       "      <td>0.0</td>\n",
       "      <td>0.0</td>\n",
       "      <td>0.0</td>\n",
       "      <td>0.0</td>\n",
       "      <td>0.0</td>\n",
       "      <td>0.0</td>\n",
       "      <td>0.0</td>\n",
       "      <td>0.240532</td>\n",
       "    </tr>\n",
       "    <tr>\n",
       "      <th>min</th>\n",
       "      <td>1.000000</td>\n",
       "      <td>0.000000</td>\n",
       "      <td>0.000000</td>\n",
       "      <td>0.000000</td>\n",
       "      <td>0.000000</td>\n",
       "      <td>0.000000</td>\n",
       "      <td>0.000000</td>\n",
       "      <td>0.0</td>\n",
       "      <td>0.0</td>\n",
       "      <td>0.000000</td>\n",
       "      <td>...</td>\n",
       "      <td>0.000000</td>\n",
       "      <td>0.0</td>\n",
       "      <td>0.0</td>\n",
       "      <td>0.0</td>\n",
       "      <td>0.0</td>\n",
       "      <td>0.0</td>\n",
       "      <td>0.0</td>\n",
       "      <td>0.0</td>\n",
       "      <td>0.0</td>\n",
       "      <td>0.000000</td>\n",
       "    </tr>\n",
       "    <tr>\n",
       "      <th>25%</th>\n",
       "      <td>2.000000</td>\n",
       "      <td>0.000000</td>\n",
       "      <td>0.000000</td>\n",
       "      <td>0.000000</td>\n",
       "      <td>0.000000</td>\n",
       "      <td>0.000000</td>\n",
       "      <td>0.000000</td>\n",
       "      <td>0.0</td>\n",
       "      <td>0.0</td>\n",
       "      <td>0.000000</td>\n",
       "      <td>...</td>\n",
       "      <td>5.000000</td>\n",
       "      <td>0.0</td>\n",
       "      <td>0.0</td>\n",
       "      <td>0.0</td>\n",
       "      <td>0.0</td>\n",
       "      <td>0.0</td>\n",
       "      <td>0.0</td>\n",
       "      <td>0.0</td>\n",
       "      <td>0.0</td>\n",
       "      <td>0.000000</td>\n",
       "    </tr>\n",
       "    <tr>\n",
       "      <th>50%</th>\n",
       "      <td>5.000000</td>\n",
       "      <td>0.000000</td>\n",
       "      <td>0.000000</td>\n",
       "      <td>0.000000</td>\n",
       "      <td>0.000000</td>\n",
       "      <td>0.000000</td>\n",
       "      <td>0.000000</td>\n",
       "      <td>0.0</td>\n",
       "      <td>0.0</td>\n",
       "      <td>0.000000</td>\n",
       "      <td>...</td>\n",
       "      <td>9.500000</td>\n",
       "      <td>0.0</td>\n",
       "      <td>0.0</td>\n",
       "      <td>0.0</td>\n",
       "      <td>0.0</td>\n",
       "      <td>0.0</td>\n",
       "      <td>0.0</td>\n",
       "      <td>0.0</td>\n",
       "      <td>0.0</td>\n",
       "      <td>0.000000</td>\n",
       "    </tr>\n",
       "    <tr>\n",
       "      <th>75%</th>\n",
       "      <td>18.000000</td>\n",
       "      <td>1.000000</td>\n",
       "      <td>1.000000</td>\n",
       "      <td>0.000000</td>\n",
       "      <td>0.000000</td>\n",
       "      <td>0.000000</td>\n",
       "      <td>0.000000</td>\n",
       "      <td>0.0</td>\n",
       "      <td>0.0</td>\n",
       "      <td>0.100000</td>\n",
       "      <td>...</td>\n",
       "      <td>14.500000</td>\n",
       "      <td>0.0</td>\n",
       "      <td>0.0</td>\n",
       "      <td>0.0</td>\n",
       "      <td>0.0</td>\n",
       "      <td>0.0</td>\n",
       "      <td>0.0</td>\n",
       "      <td>0.0</td>\n",
       "      <td>0.0</td>\n",
       "      <td>0.100000</td>\n",
       "    </tr>\n",
       "    <tr>\n",
       "      <th>max</th>\n",
       "      <td>50.000000</td>\n",
       "      <td>1.000000</td>\n",
       "      <td>1.000000</td>\n",
       "      <td>1.000000</td>\n",
       "      <td>1.000000</td>\n",
       "      <td>1.000000</td>\n",
       "      <td>14.000000</td>\n",
       "      <td>0.0</td>\n",
       "      <td>0.0</td>\n",
       "      <td>1.235000</td>\n",
       "      <td>...</td>\n",
       "      <td>20.500000</td>\n",
       "      <td>0.0</td>\n",
       "      <td>0.0</td>\n",
       "      <td>0.0</td>\n",
       "      <td>0.0</td>\n",
       "      <td>0.0</td>\n",
       "      <td>0.0</td>\n",
       "      <td>0.0</td>\n",
       "      <td>0.0</td>\n",
       "      <td>1.235000</td>\n",
       "    </tr>\n",
       "  </tbody>\n",
       "</table>\n",
       "<p>8 rows × 23 columns</p>\n",
       "</div>"
      ],
      "text/plain": [
       "       NumMosquitos  Species_CULEX PIPIENS  Species_CULEX RESTUANS  \\\n",
       "count   8313.000000            8313.000000             8313.000000   \n",
       "mean      13.055936               0.254782                0.258390   \n",
       "std       16.266714               0.435765                0.437776   \n",
       "min        1.000000               0.000000                0.000000   \n",
       "25%        2.000000               0.000000                0.000000   \n",
       "50%        5.000000               0.000000                0.000000   \n",
       "75%       18.000000               1.000000                1.000000   \n",
       "max       50.000000               1.000000                1.000000   \n",
       "\n",
       "       Species_CULEX SALINARIUS  Species_CULEX TARSALIS  \\\n",
       "count               8313.000000             8313.000000   \n",
       "mean                   0.008421                0.000722   \n",
       "std                    0.091382                0.026858   \n",
       "min                    0.000000                0.000000   \n",
       "25%                    0.000000                0.000000   \n",
       "50%                    0.000000                0.000000   \n",
       "75%                    0.000000                0.000000   \n",
       "max                    1.000000                1.000000   \n",
       "\n",
       "       Species_CULEX TERRITANS         Heat   Depth  SnowFall  PrecipTotal  \\\n",
       "count              8313.000000  8313.000000  8313.0    8313.0  8313.000000   \n",
       "mean                  0.022134     0.864910     0.0       0.0     0.123172   \n",
       "std                   0.147128     2.659059     0.0       0.0     0.240267   \n",
       "min                   0.000000     0.000000     0.0       0.0     0.000000   \n",
       "25%                   0.000000     0.000000     0.0       0.0     0.000000   \n",
       "50%                   0.000000     0.000000     0.0       0.0     0.000000   \n",
       "75%                   0.000000     0.000000     0.0       0.0     0.100000   \n",
       "max                   1.000000    14.000000     0.0       0.0     1.235000   \n",
       "\n",
       "       ...  Cool_lag_21  Depth_lag_1  Depth_lag_7  Depth_lag_14  Depth_lag_21  \\\n",
       "count  ...  8313.000000       8313.0       8313.0        8313.0        8313.0   \n",
       "mean   ...     8.937628          0.0          0.0           0.0           0.0   \n",
       "std    ...     5.744583          0.0          0.0           0.0           0.0   \n",
       "min    ...     0.000000          0.0          0.0           0.0           0.0   \n",
       "25%    ...     5.000000          0.0          0.0           0.0           0.0   \n",
       "50%    ...     9.500000          0.0          0.0           0.0           0.0   \n",
       "75%    ...    14.500000          0.0          0.0           0.0           0.0   \n",
       "max    ...    20.500000          0.0          0.0           0.0           0.0   \n",
       "\n",
       "       SnowFall_lag_1  SnowFall_lag_7  SnowFall_lag_14  SnowFall_lag_21  \\\n",
       "count          8313.0          8313.0           8313.0           8313.0   \n",
       "mean              0.0             0.0              0.0              0.0   \n",
       "std               0.0             0.0              0.0              0.0   \n",
       "min               0.0             0.0              0.0              0.0   \n",
       "25%               0.0             0.0              0.0              0.0   \n",
       "50%               0.0             0.0              0.0              0.0   \n",
       "75%               0.0             0.0              0.0              0.0   \n",
       "max               0.0             0.0              0.0              0.0   \n",
       "\n",
       "       PrecipTotal_lag_21  \n",
       "count         8313.000000  \n",
       "mean             0.123713  \n",
       "std              0.240532  \n",
       "min              0.000000  \n",
       "25%              0.000000  \n",
       "50%              0.000000  \n",
       "75%              0.100000  \n",
       "max              1.235000  \n",
       "\n",
       "[8 rows x 23 columns]"
      ]
     },
     "execution_count": 10,
     "metadata": {},
     "output_type": "execute_result"
    }
   ],
   "source": [
    "final_df.describe()"
   ]
  },
  {
   "cell_type": "code",
   "execution_count": 11,
   "metadata": {},
   "outputs": [],
   "source": [
    "# It appears some of these columns are entirely 0 and of no use. Let's narrow it down to\n",
    "# the important stuff.\n",
    "\n",
    "final_df.drop(['Depth', 'SnowFall', 'Depth_lag_1', 'Depth_lag_7', 'Depth_lag_14', 'Depth_lag_21',\n",
    "              'SnowFall_lag_1', 'SnowFall_lag_7', 'SnowFall_lag_14', 'SnowFall_lag_21'],\n",
    "              axis=1, inplace=True)\n",
    "final_vif.drop(final_vif.index[13:23], axis=0, inplace=True)"
   ]
  },
  {
   "cell_type": "code",
   "execution_count": 12,
   "metadata": {},
   "outputs": [
    {
     "data": {
      "text/html": [
       "<div>\n",
       "<style scoped>\n",
       "    .dataframe tbody tr th:only-of-type {\n",
       "        vertical-align: middle;\n",
       "    }\n",
       "\n",
       "    .dataframe tbody tr th {\n",
       "        vertical-align: top;\n",
       "    }\n",
       "\n",
       "    .dataframe thead th {\n",
       "        text-align: right;\n",
       "    }\n",
       "</style>\n",
       "<table border=\"1\" class=\"dataframe\">\n",
       "  <thead>\n",
       "    <tr style=\"text-align: right;\">\n",
       "      <th></th>\n",
       "      <th>NumMosquitos</th>\n",
       "      <th>Species_CULEX PIPIENS</th>\n",
       "      <th>Species_CULEX RESTUANS</th>\n",
       "      <th>Species_CULEX SALINARIUS</th>\n",
       "      <th>Species_CULEX TARSALIS</th>\n",
       "      <th>Species_CULEX TERRITANS</th>\n",
       "      <th>Heat</th>\n",
       "      <th>PrecipTotal</th>\n",
       "      <th>ResultDir</th>\n",
       "      <th>Region</th>\n",
       "      <th>Heat_lag_21</th>\n",
       "      <th>Cool_lag_21</th>\n",
       "      <th>PrecipTotal_lag_21</th>\n",
       "    </tr>\n",
       "    <tr>\n",
       "      <th>Date</th>\n",
       "      <th></th>\n",
       "      <th></th>\n",
       "      <th></th>\n",
       "      <th></th>\n",
       "      <th></th>\n",
       "      <th></th>\n",
       "      <th></th>\n",
       "      <th></th>\n",
       "      <th></th>\n",
       "      <th></th>\n",
       "      <th></th>\n",
       "      <th></th>\n",
       "      <th></th>\n",
       "    </tr>\n",
       "  </thead>\n",
       "  <tbody>\n",
       "    <tr>\n",
       "      <th>2013-07-25</th>\n",
       "      <td>6</td>\n",
       "      <td>0</td>\n",
       "      <td>0</td>\n",
       "      <td>0</td>\n",
       "      <td>0</td>\n",
       "      <td>0</td>\n",
       "      <td>0.0</td>\n",
       "      <td>0.0</td>\n",
       "      <td>23.0</td>\n",
       "      <td>5</td>\n",
       "      <td>0.0</td>\n",
       "      <td>4.5</td>\n",
       "      <td>0.0</td>\n",
       "    </tr>\n",
       "    <tr>\n",
       "      <th>2013-09-26</th>\n",
       "      <td>5</td>\n",
       "      <td>0</td>\n",
       "      <td>0</td>\n",
       "      <td>0</td>\n",
       "      <td>0</td>\n",
       "      <td>0</td>\n",
       "      <td>0.0</td>\n",
       "      <td>0.0</td>\n",
       "      <td>11.0</td>\n",
       "      <td>3</td>\n",
       "      <td>0.0</td>\n",
       "      <td>1.0</td>\n",
       "      <td>0.0</td>\n",
       "    </tr>\n",
       "    <tr>\n",
       "      <th>2011-08-12</th>\n",
       "      <td>2</td>\n",
       "      <td>0</td>\n",
       "      <td>1</td>\n",
       "      <td>0</td>\n",
       "      <td>0</td>\n",
       "      <td>0</td>\n",
       "      <td>0.0</td>\n",
       "      <td>0.0</td>\n",
       "      <td>19.0</td>\n",
       "      <td>8</td>\n",
       "      <td>0.0</td>\n",
       "      <td>7.5</td>\n",
       "      <td>0.0</td>\n",
       "    </tr>\n",
       "    <tr>\n",
       "      <th>2007-07-11</th>\n",
       "      <td>6</td>\n",
       "      <td>0</td>\n",
       "      <td>0</td>\n",
       "      <td>0</td>\n",
       "      <td>0</td>\n",
       "      <td>0</td>\n",
       "      <td>0.0</td>\n",
       "      <td>0.0</td>\n",
       "      <td>30.0</td>\n",
       "      <td>5</td>\n",
       "      <td>0.0</td>\n",
       "      <td>2.0</td>\n",
       "      <td>0.0</td>\n",
       "    </tr>\n",
       "    <tr>\n",
       "      <th>2013-08-08</th>\n",
       "      <td>2</td>\n",
       "      <td>1</td>\n",
       "      <td>0</td>\n",
       "      <td>0</td>\n",
       "      <td>0</td>\n",
       "      <td>0</td>\n",
       "      <td>0.0</td>\n",
       "      <td>0.0</td>\n",
       "      <td>5.0</td>\n",
       "      <td>5</td>\n",
       "      <td>0.0</td>\n",
       "      <td>8.0</td>\n",
       "      <td>0.0</td>\n",
       "    </tr>\n",
       "  </tbody>\n",
       "</table>\n",
       "</div>"
      ],
      "text/plain": [
       "            NumMosquitos  Species_CULEX PIPIENS  Species_CULEX RESTUANS  \\\n",
       "Date                                                                      \n",
       "2013-07-25             6                      0                       0   \n",
       "2013-09-26             5                      0                       0   \n",
       "2011-08-12             2                      0                       1   \n",
       "2007-07-11             6                      0                       0   \n",
       "2013-08-08             2                      1                       0   \n",
       "\n",
       "            Species_CULEX SALINARIUS  Species_CULEX TARSALIS  \\\n",
       "Date                                                           \n",
       "2013-07-25                         0                       0   \n",
       "2013-09-26                         0                       0   \n",
       "2011-08-12                         0                       0   \n",
       "2007-07-11                         0                       0   \n",
       "2013-08-08                         0                       0   \n",
       "\n",
       "            Species_CULEX TERRITANS  Heat  PrecipTotal  ResultDir  Region  \\\n",
       "Date                                                                        \n",
       "2013-07-25                        0   0.0          0.0       23.0       5   \n",
       "2013-09-26                        0   0.0          0.0       11.0       3   \n",
       "2011-08-12                        0   0.0          0.0       19.0       8   \n",
       "2007-07-11                        0   0.0          0.0       30.0       5   \n",
       "2013-08-08                        0   0.0          0.0        5.0       5   \n",
       "\n",
       "            Heat_lag_21  Cool_lag_21  PrecipTotal_lag_21  \n",
       "Date                                                      \n",
       "2013-07-25          0.0          4.5                 0.0  \n",
       "2013-09-26          0.0          1.0                 0.0  \n",
       "2011-08-12          0.0          7.5                 0.0  \n",
       "2007-07-11          0.0          2.0                 0.0  \n",
       "2013-08-08          0.0          8.0                 0.0  "
      ]
     },
     "execution_count": 12,
     "metadata": {},
     "output_type": "execute_result"
    }
   ],
   "source": [
    "final_df.head()"
   ]
  },
  {
   "cell_type": "code",
   "execution_count": 13,
   "metadata": {},
   "outputs": [
    {
     "data": {
      "text/html": [
       "<div>\n",
       "<style scoped>\n",
       "    .dataframe tbody tr th:only-of-type {\n",
       "        vertical-align: middle;\n",
       "    }\n",
       "\n",
       "    .dataframe tbody tr th {\n",
       "        vertical-align: top;\n",
       "    }\n",
       "\n",
       "    .dataframe thead th {\n",
       "        text-align: right;\n",
       "    }\n",
       "</style>\n",
       "<table border=\"1\" class=\"dataframe\">\n",
       "  <thead>\n",
       "    <tr style=\"text-align: right;\">\n",
       "      <th></th>\n",
       "      <th>VIFactor</th>\n",
       "      <th>features</th>\n",
       "    </tr>\n",
       "  </thead>\n",
       "  <tbody>\n",
       "    <tr>\n",
       "      <th>0</th>\n",
       "      <td>1.007717</td>\n",
       "      <td>Species_CULEX TARSALIS</td>\n",
       "    </tr>\n",
       "    <tr>\n",
       "      <th>1</th>\n",
       "      <td>1.020086</td>\n",
       "      <td>Species_CULEX SALINARIUS</td>\n",
       "    </tr>\n",
       "    <tr>\n",
       "      <th>2</th>\n",
       "      <td>1.058026</td>\n",
       "      <td>Species_CULEX TERRITANS</td>\n",
       "    </tr>\n",
       "    <tr>\n",
       "      <th>3</th>\n",
       "      <td>1.500469</td>\n",
       "      <td>Species_CULEX PIPIENS</td>\n",
       "    </tr>\n",
       "    <tr>\n",
       "      <th>4</th>\n",
       "      <td>1.512638</td>\n",
       "      <td>Species_CULEX RESTUANS</td>\n",
       "    </tr>\n",
       "    <tr>\n",
       "      <th>5</th>\n",
       "      <td>1.705421</td>\n",
       "      <td>NumMosquitos</td>\n",
       "    </tr>\n",
       "    <tr>\n",
       "      <th>6</th>\n",
       "      <td>3.735686</td>\n",
       "      <td>PrecipTotal</td>\n",
       "    </tr>\n",
       "    <tr>\n",
       "      <th>7</th>\n",
       "      <td>3.794456</td>\n",
       "      <td>PrecipTotal_lag_21</td>\n",
       "    </tr>\n",
       "    <tr>\n",
       "      <th>8</th>\n",
       "      <td>4.090379</td>\n",
       "      <td>ResultDir</td>\n",
       "    </tr>\n",
       "    <tr>\n",
       "      <th>9</th>\n",
       "      <td>4.209629</td>\n",
       "      <td>Cool_lag_21</td>\n",
       "    </tr>\n",
       "    <tr>\n",
       "      <th>10</th>\n",
       "      <td>4.530008</td>\n",
       "      <td>Region</td>\n",
       "    </tr>\n",
       "    <tr>\n",
       "      <th>11</th>\n",
       "      <td>4.749748</td>\n",
       "      <td>Heat</td>\n",
       "    </tr>\n",
       "    <tr>\n",
       "      <th>12</th>\n",
       "      <td>4.963788</td>\n",
       "      <td>Heat_lag_21</td>\n",
       "    </tr>\n",
       "  </tbody>\n",
       "</table>\n",
       "</div>"
      ],
      "text/plain": [
       "    VIFactor                  features\n",
       "0   1.007717    Species_CULEX TARSALIS\n",
       "1   1.020086  Species_CULEX SALINARIUS\n",
       "2   1.058026   Species_CULEX TERRITANS\n",
       "3   1.500469     Species_CULEX PIPIENS\n",
       "4   1.512638    Species_CULEX RESTUANS\n",
       "5   1.705421              NumMosquitos\n",
       "6   3.735686               PrecipTotal\n",
       "7   3.794456        PrecipTotal_lag_21\n",
       "8   4.090379                 ResultDir\n",
       "9   4.209629               Cool_lag_21\n",
       "10  4.530008                    Region\n",
       "11  4.749748                      Heat\n",
       "12  4.963788               Heat_lag_21"
      ]
     },
     "execution_count": 13,
     "metadata": {},
     "output_type": "execute_result"
    }
   ],
   "source": [
    "final_vif"
   ]
  },
  {
   "cell_type": "code",
   "execution_count": 14,
   "metadata": {},
   "outputs": [
    {
     "data": {
      "text/plain": [
       "<seaborn.axisgrid.FacetGrid at 0x1246989a0>"
      ]
     },
     "execution_count": 14,
     "metadata": {},
     "output_type": "execute_result"
    },
    {
     "data": {
      "image/png": "[encoded data removed]",
      "text/plain": [
       "<Figure size 360x360 with 1 Axes>"
      ]
     },
     "metadata": {
      "needs_background": "light"
     },
     "output_type": "display_data"
    }
   ],
   "source": [
    "# Visualizing feature importance.\n",
    "\n",
    "sns.catplot(x='VIFactor', y='features', data=final_vif, kind='bar', orient='h',\n",
    "           palette =\"flare\")"
   ]
  },
  {
   "cell_type": "code",
   "execution_count": 15,
   "metadata": {},
   "outputs": [
    {
     "data": {
      "text/html": [
       "<div>\n",
       "<style scoped>\n",
       "    .dataframe tbody tr th:only-of-type {\n",
       "        vertical-align: middle;\n",
       "    }\n",
       "\n",
       "    .dataframe tbody tr th {\n",
       "        vertical-align: top;\n",
       "    }\n",
       "\n",
       "    .dataframe thead th {\n",
       "        text-align: right;\n",
       "    }\n",
       "</style>\n",
       "<table border=\"1\" class=\"dataframe\">\n",
       "  <thead>\n",
       "    <tr style=\"text-align: right;\">\n",
       "      <th></th>\n",
       "      <th>NumMosquitos</th>\n",
       "      <th>Species_CULEX PIPIENS</th>\n",
       "      <th>Species_CULEX RESTUANS</th>\n",
       "      <th>Species_CULEX SALINARIUS</th>\n",
       "      <th>Species_CULEX TARSALIS</th>\n",
       "      <th>Species_CULEX TERRITANS</th>\n",
       "      <th>Heat</th>\n",
       "      <th>PrecipTotal</th>\n",
       "      <th>ResultDir</th>\n",
       "      <th>Region</th>\n",
       "      <th>Heat_lag_21</th>\n",
       "      <th>Cool_lag_21</th>\n",
       "      <th>PrecipTotal_lag_21</th>\n",
       "    </tr>\n",
       "    <tr>\n",
       "      <th>Date</th>\n",
       "      <th></th>\n",
       "      <th></th>\n",
       "      <th></th>\n",
       "      <th></th>\n",
       "      <th></th>\n",
       "      <th></th>\n",
       "      <th></th>\n",
       "      <th></th>\n",
       "      <th></th>\n",
       "      <th></th>\n",
       "      <th></th>\n",
       "      <th></th>\n",
       "      <th></th>\n",
       "    </tr>\n",
       "  </thead>\n",
       "  <tbody>\n",
       "    <tr>\n",
       "      <th>2007-05-29</th>\n",
       "      <td>1</td>\n",
       "      <td>0</td>\n",
       "      <td>0</td>\n",
       "      <td>0</td>\n",
       "      <td>0</td>\n",
       "      <td>0</td>\n",
       "      <td>0.0</td>\n",
       "      <td>0.00</td>\n",
       "      <td>17.5</td>\n",
       "      <td>7</td>\n",
       "      <td>0.0</td>\n",
       "      <td>12.0</td>\n",
       "      <td>0.00</td>\n",
       "    </tr>\n",
       "    <tr>\n",
       "      <th>2007-05-29</th>\n",
       "      <td>1</td>\n",
       "      <td>0</td>\n",
       "      <td>1</td>\n",
       "      <td>0</td>\n",
       "      <td>0</td>\n",
       "      <td>0</td>\n",
       "      <td>0.0</td>\n",
       "      <td>0.00</td>\n",
       "      <td>17.5</td>\n",
       "      <td>3</td>\n",
       "      <td>0.0</td>\n",
       "      <td>12.0</td>\n",
       "      <td>0.00</td>\n",
       "    </tr>\n",
       "    <tr>\n",
       "      <th>2007-05-29</th>\n",
       "      <td>1</td>\n",
       "      <td>0</td>\n",
       "      <td>1</td>\n",
       "      <td>0</td>\n",
       "      <td>0</td>\n",
       "      <td>0</td>\n",
       "      <td>0.0</td>\n",
       "      <td>0.00</td>\n",
       "      <td>17.5</td>\n",
       "      <td>4</td>\n",
       "      <td>0.0</td>\n",
       "      <td>12.0</td>\n",
       "      <td>0.00</td>\n",
       "    </tr>\n",
       "    <tr>\n",
       "      <th>2007-06-05</th>\n",
       "      <td>3</td>\n",
       "      <td>0</td>\n",
       "      <td>1</td>\n",
       "      <td>0</td>\n",
       "      <td>0</td>\n",
       "      <td>0</td>\n",
       "      <td>7.5</td>\n",
       "      <td>0.14</td>\n",
       "      <td>10.0</td>\n",
       "      <td>6</td>\n",
       "      <td>7.5</td>\n",
       "      <td>0.0</td>\n",
       "      <td>0.14</td>\n",
       "    </tr>\n",
       "    <tr>\n",
       "      <th>2007-06-05</th>\n",
       "      <td>1</td>\n",
       "      <td>0</td>\n",
       "      <td>0</td>\n",
       "      <td>0</td>\n",
       "      <td>0</td>\n",
       "      <td>0</td>\n",
       "      <td>7.5</td>\n",
       "      <td>0.14</td>\n",
       "      <td>10.0</td>\n",
       "      <td>7</td>\n",
       "      <td>7.5</td>\n",
       "      <td>0.0</td>\n",
       "      <td>0.14</td>\n",
       "    </tr>\n",
       "    <tr>\n",
       "      <th>2007-06-05</th>\n",
       "      <td>1</td>\n",
       "      <td>0</td>\n",
       "      <td>1</td>\n",
       "      <td>0</td>\n",
       "      <td>0</td>\n",
       "      <td>0</td>\n",
       "      <td>7.5</td>\n",
       "      <td>0.14</td>\n",
       "      <td>10.0</td>\n",
       "      <td>7</td>\n",
       "      <td>7.5</td>\n",
       "      <td>0.0</td>\n",
       "      <td>0.14</td>\n",
       "    </tr>\n",
       "    <tr>\n",
       "      <th>2007-06-05</th>\n",
       "      <td>1</td>\n",
       "      <td>1</td>\n",
       "      <td>0</td>\n",
       "      <td>0</td>\n",
       "      <td>0</td>\n",
       "      <td>0</td>\n",
       "      <td>7.5</td>\n",
       "      <td>0.14</td>\n",
       "      <td>10.0</td>\n",
       "      <td>2</td>\n",
       "      <td>7.5</td>\n",
       "      <td>0.0</td>\n",
       "      <td>0.14</td>\n",
       "    </tr>\n",
       "    <tr>\n",
       "      <th>2007-06-05</th>\n",
       "      <td>1</td>\n",
       "      <td>0</td>\n",
       "      <td>1</td>\n",
       "      <td>0</td>\n",
       "      <td>0</td>\n",
       "      <td>0</td>\n",
       "      <td>7.5</td>\n",
       "      <td>0.14</td>\n",
       "      <td>10.0</td>\n",
       "      <td>5</td>\n",
       "      <td>0.0</td>\n",
       "      <td>12.0</td>\n",
       "      <td>0.00</td>\n",
       "    </tr>\n",
       "    <tr>\n",
       "      <th>2007-06-05</th>\n",
       "      <td>1</td>\n",
       "      <td>0</td>\n",
       "      <td>1</td>\n",
       "      <td>0</td>\n",
       "      <td>0</td>\n",
       "      <td>0</td>\n",
       "      <td>7.5</td>\n",
       "      <td>0.14</td>\n",
       "      <td>10.0</td>\n",
       "      <td>5</td>\n",
       "      <td>0.0</td>\n",
       "      <td>12.0</td>\n",
       "      <td>0.00</td>\n",
       "    </tr>\n",
       "    <tr>\n",
       "      <th>2007-06-05</th>\n",
       "      <td>2</td>\n",
       "      <td>0</td>\n",
       "      <td>1</td>\n",
       "      <td>0</td>\n",
       "      <td>0</td>\n",
       "      <td>0</td>\n",
       "      <td>7.5</td>\n",
       "      <td>0.14</td>\n",
       "      <td>10.0</td>\n",
       "      <td>8</td>\n",
       "      <td>7.5</td>\n",
       "      <td>0.0</td>\n",
       "      <td>0.14</td>\n",
       "    </tr>\n",
       "  </tbody>\n",
       "</table>\n",
       "</div>"
      ],
      "text/plain": [
       "            NumMosquitos  Species_CULEX PIPIENS  Species_CULEX RESTUANS  \\\n",
       "Date                                                                      \n",
       "2007-05-29             1                      0                       0   \n",
       "2007-05-29             1                      0                       1   \n",
       "2007-05-29             1                      0                       1   \n",
       "2007-06-05             3                      0                       1   \n",
       "2007-06-05             1                      0                       0   \n",
       "2007-06-05             1                      0                       1   \n",
       "2007-06-05             1                      1                       0   \n",
       "2007-06-05             1                      0                       1   \n",
       "2007-06-05             1                      0                       1   \n",
       "2007-06-05             2                      0                       1   \n",
       "\n",
       "            Species_CULEX SALINARIUS  Species_CULEX TARSALIS  \\\n",
       "Date                                                           \n",
       "2007-05-29                         0                       0   \n",
       "2007-05-29                         0                       0   \n",
       "2007-05-29                         0                       0   \n",
       "2007-06-05                         0                       0   \n",
       "2007-06-05                         0                       0   \n",
       "2007-06-05                         0                       0   \n",
       "2007-06-05                         0                       0   \n",
       "2007-06-05                         0                       0   \n",
       "2007-06-05                         0                       0   \n",
       "2007-06-05                         0                       0   \n",
       "\n",
       "            Species_CULEX TERRITANS  Heat  PrecipTotal  ResultDir  Region  \\\n",
       "Date                                                                        \n",
       "2007-05-29                        0   0.0         0.00       17.5       7   \n",
       "2007-05-29                        0   0.0         0.00       17.5       3   \n",
       "2007-05-29                        0   0.0         0.00       17.5       4   \n",
       "2007-06-05                        0   7.5         0.14       10.0       6   \n",
       "2007-06-05                        0   7.5         0.14       10.0       7   \n",
       "2007-06-05                        0   7.5         0.14       10.0       7   \n",
       "2007-06-05                        0   7.5         0.14       10.0       2   \n",
       "2007-06-05                        0   7.5         0.14       10.0       5   \n",
       "2007-06-05                        0   7.5         0.14       10.0       5   \n",
       "2007-06-05                        0   7.5         0.14       10.0       8   \n",
       "\n",
       "            Heat_lag_21  Cool_lag_21  PrecipTotal_lag_21  \n",
       "Date                                                      \n",
       "2007-05-29          0.0         12.0                0.00  \n",
       "2007-05-29          0.0         12.0                0.00  \n",
       "2007-05-29          0.0         12.0                0.00  \n",
       "2007-06-05          7.5          0.0                0.14  \n",
       "2007-06-05          7.5          0.0                0.14  \n",
       "2007-06-05          7.5          0.0                0.14  \n",
       "2007-06-05          7.5          0.0                0.14  \n",
       "2007-06-05          0.0         12.0                0.00  \n",
       "2007-06-05          0.0         12.0                0.00  \n",
       "2007-06-05          7.5          0.0                0.14  "
      ]
     },
     "execution_count": 15,
     "metadata": {},
     "output_type": "execute_result"
    }
   ],
   "source": [
    "final_df.sort_index(inplace=True)\n",
    "final_df.head(10)"
   ]
  },
  {
   "cell_type": "code",
   "execution_count": 16,
   "metadata": {},
   "outputs": [
    {
     "data": {
      "text/plain": [
       "Index(['NumMosquitos', 'Species_CULEX PIPIENS', 'Species_CULEX RESTUANS',\n",
       "       'Species_CULEX SALINARIUS', 'Species_CULEX TARSALIS',\n",
       "       'Species_CULEX TERRITANS', 'Heat', 'PrecipTotal', 'ResultDir', 'Region',\n",
       "       'Heat_lag_21', 'Cool_lag_21', 'PrecipTotal_lag_21'],\n",
       "      dtype='object')"
      ]
     },
     "execution_count": 16,
     "metadata": {},
     "output_type": "execute_result"
    }
   ],
   "source": [
    "# As the final pre-processing step, I will subset X_train and X_test on final_df, which \n",
    "# shows which columns are of use.\n",
    "\n",
    "X_train = X_train[final_df.columns]\n",
    "X_train.columns"
   ]
  },
  {
   "cell_type": "code",
   "execution_count": 17,
   "metadata": {},
   "outputs": [
    {
     "data": {
      "text/plain": [
       "Index(['NumMosquitos', 'Species_CULEX PIPIENS', 'Species_CULEX RESTUANS',\n",
       "       'Species_CULEX SALINARIUS', 'Species_CULEX TARSALIS',\n",
       "       'Species_CULEX TERRITANS', 'Heat', 'PrecipTotal', 'ResultDir', 'Region',\n",
       "       'Heat_lag_21', 'Cool_lag_21', 'PrecipTotal_lag_21'],\n",
       "      dtype='object')"
      ]
     },
     "execution_count": 17,
     "metadata": {},
     "output_type": "execute_result"
    }
   ],
   "source": [
    "X_test = X_test[final_df.columns]\n",
    "X_test.columns"
   ]
  },
  {
   "cell_type": "markdown",
   "metadata": {},
   "source": [
    "## Modeling"
   ]
  },
  {
   "cell_type": "markdown",
   "metadata": {},
   "source": [
    "Now that the data is prepped for modeling, it is time to implement these models. I will be using 3 different models, and determining which is the best fit for predicting the target feature, Wnv_Present. These models will include a random forest model, a ridge regression model, and an XG boost model."
   ]
  },
  {
   "cell_type": "code",
   "execution_count": 18,
   "metadata": {},
   "outputs": [],
   "source": [
    "from sklearn.metrics import precision_recall_curve\n",
    "from sklearn.metrics import f1_score\n",
    "from sklearn.metrics import auc\n",
    "from sklearn.linear_model import LogisticRegression\n",
    "from matplotlib import pyplot\n",
    "from sklearn.metrics import precision_recall_curve\n",
    "from sklearn.metrics import f1_score\n",
    "from sklearn.metrics import auc\n",
    "from sklearn.ensemble import RandomForestClassifier\n",
    "from sklearn.metrics import classification_report, confusion_matrix, roc_curve, roc_auc_score\n",
    "from sklearn.metrics import plot_roc_curve\n",
    "from sklearn.metrics import accuracy_score, log_loss"
   ]
  },
  {
   "cell_type": "markdown",
   "metadata": {},
   "source": [
    "### Fit Random Forest Classifier"
   ]
  },
  {
   "cell_type": "code",
   "execution_count": 19,
   "metadata": {},
   "outputs": [],
   "source": [
    "randf = RandomForestClassifier(random_state = 42)\n",
    "randf.fit(X_train, y_train)\n",
    "y_pred1 = randf.predict(X_test)\n",
    "cm1 = confusion_matrix(y_test, y_pred1)"
   ]
  },
  {
   "cell_type": "code",
   "execution_count": 20,
   "metadata": {},
   "outputs": [],
   "source": [
    "# Define a function that will display the confusion matrix, metrics, plot roc score, and display auc.\n",
    "\n",
    "def run_model_accuracy(model, cm, y_pred):\n",
    "\n",
    "  print('Accuracy of random forrest classifier on test set: {:.2f}'.format(model.score(X_test, y_test)))\n",
    "  print('\\nConfusion matrix: \\n',cm)\n",
    "  print('\\nClassification report: \\n', classification_report(y_test, y_pred))\n",
    "\n",
    "  model_roc_auc = roc_auc_score(y_test, model.predict(X_test))\n",
    "  fpr, tpr, thresholds = roc_curve(y_test, model.predict_proba(X_test)[:,1])\n",
    "\n",
    "  plt.figure()\n",
    "  plt.plot(fpr, tpr, label= 'Model (area = %0.2f)' % model_roc_auc)\n",
    "  plt.plot([0, 1], [0, 1],'r--')\n",
    "  plt.xlim([0.0, 1.0])\n",
    "  plt.ylim([0.0, 1.05])\n",
    "  plt.xlabel('False Positive Rate')\n",
    "  plt.ylabel('True Positive Rate')\n",
    "  plt.title('Receiver operating characteristic')\n",
    "  plt.legend(loc=\"lower right\")\n",
    "  plt.show()"
   ]
  },
  {
   "cell_type": "code",
   "execution_count": 21,
   "metadata": {},
   "outputs": [
    {
     "name": "stdout",
     "output_type": "stream",
     "text": [
      "Accuracy of random forrest classifier on test set: 0.94\n",
      "\n",
      "Confusion matrix: \n",
      " [[1939   30]\n",
      " [  96   14]]\n",
      "\n",
      "Classification report: \n",
      "               precision    recall  f1-score   support\n",
      "\n",
      "           0       0.95      0.98      0.97      1969\n",
      "           1       0.32      0.13      0.18       110\n",
      "\n",
      "    accuracy                           0.94      2079\n",
      "   macro avg       0.64      0.56      0.58      2079\n",
      "weighted avg       0.92      0.94      0.93      2079\n",
      "\n"
     ]
    },
    {
     "data": {
      "image/png": "[encoded data removed]",
      "text/plain": [
       "<Figure size 432x288 with 1 Axes>"
      ]
     },
     "metadata": {
      "needs_background": "light"
     },
     "output_type": "display_data"
    }
   ],
   "source": [
    "run_model_accuracy(model=randf, cm=cm1, y_pred=y_pred1)"
   ]
  },
  {
   "cell_type": "markdown",
   "metadata": {},
   "source": [
    "### Fit Logistic Regression Classifier"
   ]
  },
  {
   "cell_type": "code",
   "execution_count": 22,
   "metadata": {},
   "outputs": [
    {
     "name": "stderr",
     "output_type": "stream",
     "text": [
      "/opt/anaconda3/lib/python3.8/site-packages/sklearn/linear_model/_logistic.py:762: ConvergenceWarning: lbfgs failed to converge (status=1):\n",
      "STOP: TOTAL NO. of ITERATIONS REACHED LIMIT.\n",
      "\n",
      "Increase the number of iterations (max_iter) or scale the data as shown in:\n",
      "    https://scikit-learn.org/stable/modules/preprocessing.html\n",
      "Please also refer to the documentation for alternative solver options:\n",
      "    https://scikit-learn.org/stable/modules/linear_model.html#logistic-regression\n",
      "  n_iter_i = _check_optimize_result(\n"
     ]
    }
   ],
   "source": [
    "logreg = LogisticRegression()\n",
    "logreg.fit(X_train, y_train)\n",
    "y_pred2 = logreg.predict(X_test)\n",
    "cm2 = confusion_matrix(y_test, y_pred2)"
   ]
  },
  {
   "cell_type": "code",
   "execution_count": 23,
   "metadata": {},
   "outputs": [
    {
     "name": "stdout",
     "output_type": "stream",
     "text": [
      "Accuracy of random forrest classifier on test set: 0.95\n",
      "\n",
      "Confusion matrix: \n",
      " [[1969    0]\n",
      " [ 110    0]]\n",
      "\n",
      "Classification report: \n",
      "               precision    recall  f1-score   support\n",
      "\n",
      "           0       0.95      1.00      0.97      1969\n",
      "           1       0.00      0.00      0.00       110\n",
      "\n",
      "    accuracy                           0.95      2079\n",
      "   macro avg       0.47      0.50      0.49      2079\n",
      "weighted avg       0.90      0.95      0.92      2079\n",
      "\n"
     ]
    },
    {
     "name": "stderr",
     "output_type": "stream",
     "text": [
      "/opt/anaconda3/lib/python3.8/site-packages/sklearn/metrics/_classification.py:1221: UndefinedMetricWarning: Precision and F-score are ill-defined and being set to 0.0 in labels with no predicted samples. Use `zero_division` parameter to control this behavior.\n",
      "  _warn_prf(average, modifier, msg_start, len(result))\n"
     ]
    },
    {
     "data": {
      "image/png": "[encoded data removed]",
      "text/plain": [
       "<Figure size 432x288 with 1 Axes>"
      ]
     },
     "metadata": {
      "needs_background": "light"
     },
     "output_type": "display_data"
    }
   ],
   "source": [
    "run_model_accuracy(model=logreg, cm=cm2, y_pred=y_pred2)"
   ]
  },
  {
   "cell_type": "markdown",
   "metadata": {},
   "source": [
    "### Fit XG Boost Classifier"
   ]
  },
  {
   "cell_type": "code",
   "execution_count": 25,
   "metadata": {},
   "outputs": [
    {
     "name": "stderr",
     "output_type": "stream",
     "text": [
      "/opt/anaconda3/lib/python3.8/site-packages/xgboost/sklearn.py:1146: UserWarning: The use of label encoder in XGBClassifier is deprecated and will be removed in a future release. To remove this warning, do the following: 1) Pass option use_label_encoder=False when constructing XGBClassifier object; and 2) Encode your labels (y) as integers starting with 0, i.e. 0, 1, 2, ..., [num_class - 1].\n",
      "  warnings.warn(label_encoder_deprecation_msg, UserWarning)\n"
     ]
    },
    {
     "name": "stdout",
     "output_type": "stream",
     "text": [
      "[17:59:25] WARNING: /private/var/folders/rg/vb03dfw167593y158dqrs8200000gn/T/pip-install-h2anl8uv/xgboost/build/temp.macosx-10.9-x86_64-3.8/xgboost/src/learner.cc:1095: Starting in XGBoost 1.3.0, the default evaluation metric used with the objective 'binary:logistic' was changed from 'error' to 'logloss'. Explicitly set eval_metric if you'd like to restore the old behavior.\n"
     ]
    }
   ],
   "source": [
    "from xgboost import XGBClassifier\n",
    "\n",
    "xgb = XGBClassifier()\n",
    "xgb.fit(X_train, y_train)\n",
    "y_pred3 = logreg.predict(X_test)\n",
    "cm3 = confusion_matrix(y_test, y_pred3)"
   ]
  },
  {
   "cell_type": "code",
   "execution_count": 26,
   "metadata": {},
   "outputs": [
    {
     "name": "stdout",
     "output_type": "stream",
     "text": [
      "Accuracy of random forrest classifier on test set: 0.94\n",
      "\n",
      "Confusion matrix: \n",
      " [[1969    0]\n",
      " [ 110    0]]\n",
      "\n",
      "Classification report: \n",
      "               precision    recall  f1-score   support\n",
      "\n",
      "           0       0.95      1.00      0.97      1969\n",
      "           1       0.00      0.00      0.00       110\n",
      "\n",
      "    accuracy                           0.95      2079\n",
      "   macro avg       0.47      0.50      0.49      2079\n",
      "weighted avg       0.90      0.95      0.92      2079\n",
      "\n"
     ]
    },
    {
     "name": "stderr",
     "output_type": "stream",
     "text": [
      "/opt/anaconda3/lib/python3.8/site-packages/sklearn/metrics/_classification.py:1221: UndefinedMetricWarning: Precision and F-score are ill-defined and being set to 0.0 in labels with no predicted samples. Use `zero_division` parameter to control this behavior.\n",
      "  _warn_prf(average, modifier, msg_start, len(result))\n"
     ]
    },
    {
     "data": {
      "image/png": "[encoded data removed]",
      "text/plain": [
       "<Figure size 432x288 with 1 Axes>"
      ]
     },
     "metadata": {
      "needs_background": "light"
     },
     "output_type": "display_data"
    }
   ],
   "source": [
    "run_model_accuracy(model=xgb, cm=cm3, y_pred=y_pred3)"
   ]
  },
  {
   "cell_type": "markdown",
   "metadata": {},
   "source": [
    "Although the AUC is close in all of these cases, the random forrest performs best with an area under the curve of 0.56. "
   ]
  },
  {
   "cell_type": "markdown",
   "metadata": {},
   "source": [
    "### Variable Importance Plot"
   ]
  },
  {
   "cell_type": "markdown",
   "metadata": {},
   "source": [
    "Since the random forrest was the triumphant model, lets look into which variables were most important"
   ]
  },
  {
   "cell_type": "code",
   "execution_count": 51,
   "metadata": {},
   "outputs": [
    {
     "data": {
      "image/png": "[encoded data removed]",
      "text/plain": [
       "<Figure size 576x482.4 with 1 Axes>"
      ]
     },
     "metadata": {
      "needs_background": "light"
     },
     "output_type": "display_data"
    }
   ],
   "source": [
    "import shap\n",
    "\n",
    "shap_values = shap.TreeExplainer(randf).shap_values(X_train)\n",
    "shap.summary_plot(shap_values, X_train, plot_type=\"bar\")"
   ]
  },
  {
   "cell_type": "markdown",
   "metadata": {},
   "source": [
    "### Optimize Parameters"
   ]
  },
  {
   "cell_type": "code",
   "execution_count": 30,
   "metadata": {},
   "outputs": [
    {
     "name": "stdout",
     "output_type": "stream",
     "text": [
      "Parameters currently in use:\n",
      "\n",
      "{'bootstrap': True, 'ccp_alpha': 0.0, 'class_weight': None, 'criterion': 'gini', 'max_depth': None, 'max_features': 'auto', 'max_leaf_nodes': None, 'max_samples': None, 'min_impurity_decrease': 0.0, 'min_impurity_split': None, 'min_samples_leaf': 1, 'min_samples_split': 2, 'min_weight_fraction_leaf': 0.0, 'n_estimators': 100, 'n_jobs': None, 'oob_score': False, 'random_state': 42, 'verbose': 0, 'warm_start': False}\n"
     ]
    }
   ],
   "source": [
    "# Look at parameters used by our current forest\n",
    "\n",
    "print('Parameters currently in use:\\n')\n",
    "print(randf.get_params())"
   ]
  },
  {
   "cell_type": "markdown",
   "metadata": {},
   "source": [
    "Plenty of paramteres here, but let's work with the most important ones. Those would be:\n",
    "- n_estimators\n",
    "- max_features\n",
    "- max_depth\n",
    "- min_samples_split \n",
    "- min_samples_leaf\n",
    "- bootstrap \n",
    "\n",
    "The process will be as follows. First, I will create a random hyperparameter grid. Then, I will use the grid to do instantiate a random search. After, I will evaluate the random search to see if it yields a better model. Finally, I will use grid search with corss validation to determine the optimal parameters, given the random search results"
   ]
  },
  {
   "cell_type": "code",
   "execution_count": 33,
   "metadata": {},
   "outputs": [
    {
     "name": "stdout",
     "output_type": "stream",
     "text": [
      "{'n_estimators': [100, 311, 522, 733, 944, 1155, 1366, 1577, 1788, 2000], 'max_features': ['auto', 'sqrt'], 'max_depth': [10, 20, 30, 40, 50, 60, 70, 80, 90, 100, 110, None], 'min_samples_split': [2, 5, 10], 'min_samples_leaf': [1, 2, 4], 'bootstrap': [True, False]}\n"
     ]
    }
   ],
   "source": [
    "from sklearn.model_selection import RandomizedSearchCV\n",
    "\n",
    "# Number of trees in random forest\n",
    "n_estimators = [int(x) for x in np.linspace(start = 100, stop = 2000, num = 10)]\n",
    "\n",
    "# Number of features to consider at every split\n",
    "max_features = ['auto', 'sqrt']\n",
    "\n",
    "# Maximum number of levels in tree\n",
    "max_depth = [int(x) for x in np.linspace(10, 110, num = 11)]\n",
    "max_depth.append(None)\n",
    "\n",
    "# Minimum number of samples required to split a node\n",
    "min_samples_split = [2, 5, 10]\n",
    "\n",
    "# Minimum number of samples required at each leaf node\n",
    "min_samples_leaf = [1, 2, 4]\n",
    "\n",
    "# Method of selecting samples for training each tree\n",
    "bootstrap = [True, False]\n",
    "\n",
    "# Create the random grid\n",
    "random_grid = {'n_estimators': n_estimators,\n",
    "               'max_features': max_features,\n",
    "               'max_depth': max_depth,\n",
    "               'min_samples_split': min_samples_split,\n",
    "               'min_samples_leaf': min_samples_leaf,\n",
    "               'bootstrap': bootstrap}\n",
    "print(random_grid)"
   ]
  },
  {
   "cell_type": "code",
   "execution_count": 35,
   "metadata": {},
   "outputs": [
    {
     "name": "stdout",
     "output_type": "stream",
     "text": [
      "Fitting 3 folds for each of 100 candidates, totalling 300 fits\n"
     ]
    },
    {
     "name": "stderr",
     "output_type": "stream",
     "text": [
      "[Parallel(n_jobs=-1)]: Using backend LokyBackend with 4 concurrent workers.\n",
      "[Parallel(n_jobs=-1)]: Done  33 tasks      | elapsed:   56.5s\n",
      "[Parallel(n_jobs=-1)]: Done 154 tasks      | elapsed:  4.0min\n",
      "[Parallel(n_jobs=-1)]: Done 300 out of 300 | elapsed:  7.7min finished\n"
     ]
    },
    {
     "data": {
      "text/plain": [
       "RandomizedSearchCV(cv=3, estimator=RandomForestClassifier(random_state=42),\n",
       "                   n_iter=100, n_jobs=-1,\n",
       "                   param_distributions={'bootstrap': [True, False],\n",
       "                                        'max_depth': [10, 20, 30, 40, 50, 60,\n",
       "                                                      70, 80, 90, 100, 110,\n",
       "                                                      None],\n",
       "                                        'max_features': ['auto', 'sqrt'],\n",
       "                                        'min_samples_leaf': [1, 2, 4],\n",
       "                                        'min_samples_split': [2, 5, 10],\n",
       "                                        'n_estimators': [100, 311, 522, 733,\n",
       "                                                         944, 1155, 1366, 1577,\n",
       "                                                         1788, 2000]},\n",
       "                   random_state=42, verbose=2)"
      ]
     },
     "execution_count": 35,
     "metadata": {},
     "output_type": "execute_result"
    }
   ],
   "source": [
    "# Use the random grid to search for best hyperparameters\n",
    "\n",
    "# Random search of parameters, using 3 fold cross validation, \n",
    "# search across 100 different combinations, and use all available cores\n",
    "randf_random = RandomizedSearchCV(estimator = randf, param_distributions = random_grid, \n",
    "                               n_iter = 100, cv = 3, verbose=2, random_state=42, n_jobs = -1)\n",
    "\n",
    "# Fit the random search model\n",
    "randf_random.fit(X_train, y_train)"
   ]
  },
  {
   "cell_type": "code",
   "execution_count": 37,
   "metadata": {},
   "outputs": [
    {
     "data": {
      "text/plain": [
       "{'n_estimators': 100,\n",
       " 'min_samples_split': 5,\n",
       " 'min_samples_leaf': 4,\n",
       " 'max_features': 'auto',\n",
       " 'max_depth': 80,\n",
       " 'bootstrap': True}"
      ]
     },
     "execution_count": 37,
     "metadata": {},
     "output_type": "execute_result"
    }
   ],
   "source": [
    "# View the best parameters from fitting the random search\n",
    "\n",
    "randf_random.best_params_"
   ]
  },
  {
   "cell_type": "code",
   "execution_count": 40,
   "metadata": {},
   "outputs": [
    {
     "name": "stdout",
     "output_type": "stream",
     "text": [
      "Model Performance\n",
      "Average Error: 0.0135 degrees.\n",
      "Accuracy = 98.65%.\n"
     ]
    }
   ],
   "source": [
    "# Compare the base model with the best random search model\n",
    "\n",
    "def evaluate(model, test_features, test_labels):\n",
    "    predictions = model.predict(test_features)\n",
    "    errors = abs(predictions - test_labels)\n",
    "    accuracy = 100 * model.score(test_features, test_labels)\n",
    "    print('Model Performance')\n",
    "    print('Average Error: {:0.4f} degrees.'.format(np.mean(errors)))\n",
    "    print('Accuracy = {:0.2f}%.'.format(accuracy))\n",
    "    \n",
    "    return accuracy\n",
    "\n",
    "base_accuracy = evaluate(randf, X_train, y_train)"
   ]
  },
  {
   "cell_type": "code",
   "execution_count": 43,
   "metadata": {},
   "outputs": [
    {
     "name": "stdout",
     "output_type": "stream",
     "text": [
      "Model Performance\n",
      "Average Error: 0.0505 degrees.\n",
      "Accuracy = 94.95%.\n"
     ]
    }
   ],
   "source": [
    "best_random = randf_random.best_estimator_\n",
    "random_accuracy = evaluate(best_random, X_train, y_train)"
   ]
  },
  {
   "cell_type": "code",
   "execution_count": 44,
   "metadata": {},
   "outputs": [
    {
     "name": "stdout",
     "output_type": "stream",
     "text": [
      "Improvement of -3.76%.\n"
     ]
    }
   ],
   "source": [
    "print('Improvement of {:0.2f}%.'.format( 100 * (random_accuracy - base_accuracy) / base_accuracy))"
   ]
  },
  {
   "cell_type": "markdown",
   "metadata": {},
   "source": [
    "The random search actually yielded worse results, lets see if Grid Search will do the same."
   ]
  },
  {
   "cell_type": "code",
   "execution_count": 47,
   "metadata": {},
   "outputs": [],
   "source": [
    "from sklearn.model_selection import GridSearchCV\n",
    "# Create the parameter grid based on the results of random search \n",
    "param_grid = {\n",
    "    'bootstrap': [True],\n",
    "    'max_depth': [80, 90, 100, 110],\n",
    "    'max_features': [2, 3],\n",
    "    'min_samples_leaf': [3, 4, 5],\n",
    "    'min_samples_split': [8, 10, 12],\n",
    "    'n_estimators': [100, 200, 300, 1000]\n",
    "}\n",
    "\n",
    "# Instantiate the grid search model\n",
    "grid_search = GridSearchCV(estimator = randf, param_grid = param_grid, \n",
    "                          cv = 3, n_jobs = -1, verbose = 2)"
   ]
  },
  {
   "cell_type": "code",
   "execution_count": 49,
   "metadata": {},
   "outputs": [
    {
     "name": "stdout",
     "output_type": "stream",
     "text": [
      "Fitting 3 folds for each of 288 candidates, totalling 864 fits\n"
     ]
    },
    {
     "name": "stderr",
     "output_type": "stream",
     "text": [
      "[Parallel(n_jobs=-1)]: Using backend LokyBackend with 4 concurrent workers.\n",
      "[Parallel(n_jobs=-1)]: Done  33 tasks      | elapsed:   15.3s\n",
      "[Parallel(n_jobs=-1)]: Done 154 tasks      | elapsed:  1.3min\n",
      "[Parallel(n_jobs=-1)]: Done 357 tasks      | elapsed:  2.9min\n",
      "[Parallel(n_jobs=-1)]: Done 640 tasks      | elapsed:  5.2min\n",
      "[Parallel(n_jobs=-1)]: Done 864 out of 864 | elapsed:  7.0min finished\n"
     ]
    },
    {
     "name": "stdout",
     "output_type": "stream",
     "text": [
      "Model Performance\n",
      "Average Error: 0.0514 degrees.\n",
      "Accuracy = 94.86%.\n"
     ]
    }
   ],
   "source": [
    "# Fit the grid search to the data\n",
    "\n",
    "grid_search.fit(X_train, y_train)\n",
    "grid_search.best_params_\n",
    "{'n_estimators': 100,\n",
    " 'min_samples_split': 5,\n",
    " 'min_samples_leaf': 4,\n",
    " 'max_features': 'auto',\n",
    " 'max_depth': 80,\n",
    " 'bootstrap': True}\n",
    "best_grid = grid_search.best_estimator_\n",
    "grid_accuracy = evaluate(best_grid, X_train, y_train)\n"
   ]
  },
  {
   "cell_type": "code",
   "execution_count": 50,
   "metadata": {},
   "outputs": [
    {
     "name": "stdout",
     "output_type": "stream",
     "text": [
      "Improvement of -3.84%.\n"
     ]
    }
   ],
   "source": [
    "print('Improvement of {:0.2f}%.'.format( 100 * (grid_accuracy - base_accuracy) / base_accuracy))"
   ]
  },
  {
   "cell_type": "markdown",
   "metadata": {},
   "source": [
    "It appears the grind search also hindered the model performance."
   ]
  },
  {
   "cell_type": "code",
   "execution_count": null,
   "metadata": {},
   "outputs": [],
   "source": []
  }
 ],
 "metadata": {
  "kernelspec": {
   "display_name": "Python 3",
   "language": "python",
   "name": "python3"
  },
  "language_info": {
   "codemirror_mode": {
    "name": "ipython",
    "version": 3
   },
   "file_extension": ".py",
   "mimetype": "text/x-python",
   "name": "python",
   "nbconvert_exporter": "python",
   "pygments_lexer": "ipython3",
   "version": "3.8.5"
  }
 },
 "nbformat": 4,
 "nbformat_minor": 4
}
